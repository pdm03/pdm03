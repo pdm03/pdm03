{
  "nbformat": 4,
  "nbformat_minor": 0,
  "metadata": {
    "kernelspec": {
      "name": "python3",
      "display_name": "Python 3"
    },
    "language_info": {
      "codemirror_mode": {
        "name": "ipython",
        "version": 3
      },
      "file_extension": ".py",
      "mimetype": "text/x-python",
      "name": "python",
      "nbconvert_exporter": "python",
      "pygments_lexer": "ipython3",
      "version": "3.6.6"
    },
    "colab": {
      "name": "pandas_2_handling_df.ipynb",
      "provenance": [],
      "collapsed_sections": [],
      "include_colab_link": true
    }
  },
  "cells": [
    {
      "cell_type": "markdown",
      "metadata": {
        "id": "view-in-github",
        "colab_type": "text"
      },
      "source": [
        "<a href=\"https://colab.research.google.com/github/pdm03/pdm03/blob/main/py-pandas/pandas_2_handling_df.ipynb\" target=\"_parent\"><img src=\"https://colab.research.google.com/assets/colab-badge.svg\" alt=\"Open In Colab\"/></a>"
      ]
    },
    {
      "cell_type": "markdown",
      "metadata": {
        "id": "-a_Ksvwdx5pf"
      },
      "source": [
        "### Python module 3. **pandas**"
      ]
    },
    {
      "cell_type": "markdown",
      "metadata": {
        "id": "P_F0RSPKx5pl"
      },
      "source": [
        "# Using pandas"
      ]
    },
    {
      "cell_type": "markdown",
      "metadata": {
        "id": "FfxMgWUFx5pm"
      },
      "source": [
        "* [10 Minutes to pandas](https://pandas.pydata.org/pandas-docs/stable/10min.html)\n",
        "* [Pandas tutorial with interactive exercises](https://www.kaggle.com/pistak/pandas-tutorial-with-interactive-exercises)"
      ]
    },
    {
      "cell_type": "code",
      "metadata": {
        "id": "2mpGSeRlx5po"
      },
      "source": [
        "import pandas as pd\n",
        "import numpy as np\n",
        "import matplotlib.pyplot as plt\n",
        "# %matplotlib inline  # work for Jupyter notebook or lab"
      ],
      "execution_count": 1,
      "outputs": []
    },
    {
      "cell_type": "markdown",
      "metadata": {
        "id": "wq1nIp3F1fFB"
      },
      "source": [
        "\n",
        "\n",
        "---\n",
        "\n"
      ]
    },
    {
      "cell_type": "markdown",
      "metadata": {
        "id": "D3zoFQ4bx5qh"
      },
      "source": [
        "## [2] Handling DataFrame\n",
        "- head()\n",
        "- tail()\n",
        "- describe()\n",
        "- info()"
      ]
    },
    {
      "cell_type": "code",
      "metadata": {
        "id": "w2eNkCfLx5p-",
        "colab": {
          "base_uri": "https://localhost:8080/"
        },
        "outputId": "359da9bf-2ae4-430c-a68d-9f89775505f8"
      },
      "source": [
        "# Creating a DataFrame by passing a NumPy array, with a datetime index and labeled columns:\n",
        "dates = pd.date_range('20210927', periods=6)\n",
        "dates"
      ],
      "execution_count": 2,
      "outputs": [
        {
          "output_type": "execute_result",
          "data": {
            "text/plain": [
              "DatetimeIndex(['2021-09-27', '2021-09-28', '2021-09-29', '2021-09-30',\n",
              "               '2021-10-01', '2021-10-02'],\n",
              "              dtype='datetime64[ns]', freq='D')"
            ]
          },
          "metadata": {},
          "execution_count": 2
        }
      ]
    },
    {
      "cell_type": "code",
      "metadata": {
        "id": "dHwUodTGx5qj",
        "colab": {
          "base_uri": "https://localhost:8080/",
          "height": 235
        },
        "outputId": "b3af5261-2005-4cee-b3c4-4903d0828c51"
      },
      "source": [
        "# head()\n",
        "df = pd.DataFrame(np.random.randn(6,4), index=dates, columns=list('ABCD'))\n",
        "df.head(7)"
      ],
      "execution_count": 7,
      "outputs": [
        {
          "output_type": "execute_result",
          "data": {
            "text/html": [
              "<div>\n",
              "<style scoped>\n",
              "    .dataframe tbody tr th:only-of-type {\n",
              "        vertical-align: middle;\n",
              "    }\n",
              "\n",
              "    .dataframe tbody tr th {\n",
              "        vertical-align: top;\n",
              "    }\n",
              "\n",
              "    .dataframe thead th {\n",
              "        text-align: right;\n",
              "    }\n",
              "</style>\n",
              "<table border=\"1\" class=\"dataframe\">\n",
              "  <thead>\n",
              "    <tr style=\"text-align: right;\">\n",
              "      <th></th>\n",
              "      <th>A</th>\n",
              "      <th>B</th>\n",
              "      <th>C</th>\n",
              "      <th>D</th>\n",
              "    </tr>\n",
              "  </thead>\n",
              "  <tbody>\n",
              "    <tr>\n",
              "      <th>2021-09-27</th>\n",
              "      <td>1.571513</td>\n",
              "      <td>0.824288</td>\n",
              "      <td>1.251159</td>\n",
              "      <td>0.313007</td>\n",
              "    </tr>\n",
              "    <tr>\n",
              "      <th>2021-09-28</th>\n",
              "      <td>-1.154704</td>\n",
              "      <td>1.306989</td>\n",
              "      <td>-0.506679</td>\n",
              "      <td>-2.206528</td>\n",
              "    </tr>\n",
              "    <tr>\n",
              "      <th>2021-09-29</th>\n",
              "      <td>1.252204</td>\n",
              "      <td>0.615351</td>\n",
              "      <td>-0.569585</td>\n",
              "      <td>1.125658</td>\n",
              "    </tr>\n",
              "    <tr>\n",
              "      <th>2021-09-30</th>\n",
              "      <td>-0.012628</td>\n",
              "      <td>-0.688718</td>\n",
              "      <td>0.641363</td>\n",
              "      <td>-1.818425</td>\n",
              "    </tr>\n",
              "    <tr>\n",
              "      <th>2021-10-01</th>\n",
              "      <td>0.969942</td>\n",
              "      <td>0.585260</td>\n",
              "      <td>-1.168469</td>\n",
              "      <td>-1.180179</td>\n",
              "    </tr>\n",
              "    <tr>\n",
              "      <th>2021-10-02</th>\n",
              "      <td>0.222842</td>\n",
              "      <td>1.719158</td>\n",
              "      <td>0.807445</td>\n",
              "      <td>-0.339916</td>\n",
              "    </tr>\n",
              "  </tbody>\n",
              "</table>\n",
              "</div>"
            ],
            "text/plain": [
              "                   A         B         C         D\n",
              "2021-09-27  1.571513  0.824288  1.251159  0.313007\n",
              "2021-09-28 -1.154704  1.306989 -0.506679 -2.206528\n",
              "2021-09-29  1.252204  0.615351 -0.569585  1.125658\n",
              "2021-09-30 -0.012628 -0.688718  0.641363 -1.818425\n",
              "2021-10-01  0.969942  0.585260 -1.168469 -1.180179\n",
              "2021-10-02  0.222842  1.719158  0.807445 -0.339916"
            ]
          },
          "metadata": {},
          "execution_count": 7
        }
      ]
    },
    {
      "cell_type": "code",
      "metadata": {
        "id": "OvYDoBVE1og9",
        "colab": {
          "base_uri": "https://localhost:8080/",
          "height": 111
        },
        "outputId": "a46cf3dd-b11a-444c-c8a4-5539859f17c2"
      },
      "source": [
        "df.head(2)"
      ],
      "execution_count": 5,
      "outputs": [
        {
          "output_type": "execute_result",
          "data": {
            "text/html": [
              "<div>\n",
              "<style scoped>\n",
              "    .dataframe tbody tr th:only-of-type {\n",
              "        vertical-align: middle;\n",
              "    }\n",
              "\n",
              "    .dataframe tbody tr th {\n",
              "        vertical-align: top;\n",
              "    }\n",
              "\n",
              "    .dataframe thead th {\n",
              "        text-align: right;\n",
              "    }\n",
              "</style>\n",
              "<table border=\"1\" class=\"dataframe\">\n",
              "  <thead>\n",
              "    <tr style=\"text-align: right;\">\n",
              "      <th></th>\n",
              "      <th>A</th>\n",
              "      <th>B</th>\n",
              "      <th>C</th>\n",
              "      <th>D</th>\n",
              "    </tr>\n",
              "  </thead>\n",
              "  <tbody>\n",
              "    <tr>\n",
              "      <th>2021-09-27</th>\n",
              "      <td>-0.824404</td>\n",
              "      <td>0.604829</td>\n",
              "      <td>-1.023612</td>\n",
              "      <td>1.029610</td>\n",
              "    </tr>\n",
              "    <tr>\n",
              "      <th>2021-09-28</th>\n",
              "      <td>0.278146</td>\n",
              "      <td>2.279597</td>\n",
              "      <td>1.380298</td>\n",
              "      <td>-1.165324</td>\n",
              "    </tr>\n",
              "  </tbody>\n",
              "</table>\n",
              "</div>"
            ],
            "text/plain": [
              "                   A         B         C         D\n",
              "2021-09-27 -0.824404  0.604829 -1.023612  1.029610\n",
              "2021-09-28  0.278146  2.279597  1.380298 -1.165324"
            ]
          },
          "metadata": {},
          "execution_count": 5
        }
      ]
    },
    {
      "cell_type": "code",
      "metadata": {
        "id": "LzWwuDWDx5qo",
        "colab": {
          "base_uri": "https://localhost:8080/",
          "height": 142
        },
        "outputId": "20ee8a52-9976-4f67-b35d-898952f5f838"
      },
      "source": [
        "df.tail(3)"
      ],
      "execution_count": 6,
      "outputs": [
        {
          "output_type": "execute_result",
          "data": {
            "text/html": [
              "<div>\n",
              "<style scoped>\n",
              "    .dataframe tbody tr th:only-of-type {\n",
              "        vertical-align: middle;\n",
              "    }\n",
              "\n",
              "    .dataframe tbody tr th {\n",
              "        vertical-align: top;\n",
              "    }\n",
              "\n",
              "    .dataframe thead th {\n",
              "        text-align: right;\n",
              "    }\n",
              "</style>\n",
              "<table border=\"1\" class=\"dataframe\">\n",
              "  <thead>\n",
              "    <tr style=\"text-align: right;\">\n",
              "      <th></th>\n",
              "      <th>A</th>\n",
              "      <th>B</th>\n",
              "      <th>C</th>\n",
              "      <th>D</th>\n",
              "    </tr>\n",
              "  </thead>\n",
              "  <tbody>\n",
              "    <tr>\n",
              "      <th>2021-09-30</th>\n",
              "      <td>-0.149564</td>\n",
              "      <td>-2.308846</td>\n",
              "      <td>0.360295</td>\n",
              "      <td>-1.221297</td>\n",
              "    </tr>\n",
              "    <tr>\n",
              "      <th>2021-10-01</th>\n",
              "      <td>0.813818</td>\n",
              "      <td>0.577745</td>\n",
              "      <td>-1.545208</td>\n",
              "      <td>-0.076162</td>\n",
              "    </tr>\n",
              "    <tr>\n",
              "      <th>2021-10-02</th>\n",
              "      <td>0.224909</td>\n",
              "      <td>-0.735574</td>\n",
              "      <td>-0.019803</td>\n",
              "      <td>0.124040</td>\n",
              "    </tr>\n",
              "  </tbody>\n",
              "</table>\n",
              "</div>"
            ],
            "text/plain": [
              "                   A         B         C         D\n",
              "2021-09-30 -0.149564 -2.308846  0.360295 -1.221297\n",
              "2021-10-01  0.813818  0.577745 -1.545208 -0.076162\n",
              "2021-10-02  0.224909 -0.735574 -0.019803  0.124040"
            ]
          },
          "metadata": {},
          "execution_count": 6
        }
      ]
    },
    {
      "cell_type": "code",
      "metadata": {
        "id": "rJLH024Zx5qs",
        "colab": {
          "base_uri": "https://localhost:8080/"
        },
        "outputId": "4a97a2f6-5acc-4751-a542-d2a92f3c0bc7"
      },
      "source": [
        "# Display the index, columns, and the underlying NumPy data:\n",
        "df.index"
      ],
      "execution_count": 8,
      "outputs": [
        {
          "output_type": "execute_result",
          "data": {
            "text/plain": [
              "DatetimeIndex(['2021-09-27', '2021-09-28', '2021-09-29', '2021-09-30',\n",
              "               '2021-10-01', '2021-10-02'],\n",
              "              dtype='datetime64[ns]', freq='D')"
            ]
          },
          "metadata": {},
          "execution_count": 8
        }
      ]
    },
    {
      "cell_type": "code",
      "metadata": {
        "id": "edrGpQlLc0dt",
        "colab": {
          "base_uri": "https://localhost:8080/"
        },
        "outputId": "77956f2d-1338-4e88-c538-5388b83f32f3"
      },
      "source": [
        "df.columns"
      ],
      "execution_count": 9,
      "outputs": [
        {
          "output_type": "execute_result",
          "data": {
            "text/plain": [
              "Index(['A', 'B', 'C', 'D'], dtype='object')"
            ]
          },
          "metadata": {},
          "execution_count": 9
        }
      ]
    },
    {
      "cell_type": "code",
      "metadata": {
        "id": "TB-CHW85x5rA",
        "colab": {
          "base_uri": "https://localhost:8080/"
        },
        "outputId": "e5c36e77-a9eb-44fa-f741-85da1a10264c"
      },
      "source": [
        "df.info()"
      ],
      "execution_count": 10,
      "outputs": [
        {
          "output_type": "stream",
          "name": "stdout",
          "text": [
            "<class 'pandas.core.frame.DataFrame'>\n",
            "DatetimeIndex: 6 entries, 2021-09-27 to 2021-10-02\n",
            "Freq: D\n",
            "Data columns (total 4 columns):\n",
            " #   Column  Non-Null Count  Dtype  \n",
            "---  ------  --------------  -----  \n",
            " 0   A       6 non-null      float64\n",
            " 1   B       6 non-null      float64\n",
            " 2   C       6 non-null      float64\n",
            " 3   D       6 non-null      float64\n",
            "dtypes: float64(4)\n",
            "memory usage: 240.0 bytes\n"
          ]
        }
      ]
    },
    {
      "cell_type": "code",
      "metadata": {
        "id": "PEzVmjUAx5q7",
        "colab": {
          "base_uri": "https://localhost:8080/",
          "height": 297
        },
        "outputId": "8164cc00-3d67-4d42-9f47-52d976000d9a"
      },
      "source": [
        "# describe() shows a quick statistic summary of your data:\n",
        "df.describe()"
      ],
      "execution_count": 11,
      "outputs": [
        {
          "output_type": "execute_result",
          "data": {
            "text/html": [
              "<div>\n",
              "<style scoped>\n",
              "    .dataframe tbody tr th:only-of-type {\n",
              "        vertical-align: middle;\n",
              "    }\n",
              "\n",
              "    .dataframe tbody tr th {\n",
              "        vertical-align: top;\n",
              "    }\n",
              "\n",
              "    .dataframe thead th {\n",
              "        text-align: right;\n",
              "    }\n",
              "</style>\n",
              "<table border=\"1\" class=\"dataframe\">\n",
              "  <thead>\n",
              "    <tr style=\"text-align: right;\">\n",
              "      <th></th>\n",
              "      <th>A</th>\n",
              "      <th>B</th>\n",
              "      <th>C</th>\n",
              "      <th>D</th>\n",
              "    </tr>\n",
              "  </thead>\n",
              "  <tbody>\n",
              "    <tr>\n",
              "      <th>count</th>\n",
              "      <td>6.000000</td>\n",
              "      <td>6.000000</td>\n",
              "      <td>6.000000</td>\n",
              "      <td>6.000000</td>\n",
              "    </tr>\n",
              "    <tr>\n",
              "      <th>mean</th>\n",
              "      <td>0.474861</td>\n",
              "      <td>0.727055</td>\n",
              "      <td>0.075872</td>\n",
              "      <td>-0.684397</td>\n",
              "    </tr>\n",
              "    <tr>\n",
              "      <th>std</th>\n",
              "      <td>1.000865</td>\n",
              "      <td>0.820615</td>\n",
              "      <td>0.952958</td>\n",
              "      <td>1.283626</td>\n",
              "    </tr>\n",
              "    <tr>\n",
              "      <th>min</th>\n",
              "      <td>-1.154704</td>\n",
              "      <td>-0.688718</td>\n",
              "      <td>-1.168469</td>\n",
              "      <td>-2.206528</td>\n",
              "    </tr>\n",
              "    <tr>\n",
              "      <th>25%</th>\n",
              "      <td>0.046240</td>\n",
              "      <td>0.592783</td>\n",
              "      <td>-0.553859</td>\n",
              "      <td>-1.658864</td>\n",
              "    </tr>\n",
              "    <tr>\n",
              "      <th>50%</th>\n",
              "      <td>0.596392</td>\n",
              "      <td>0.719819</td>\n",
              "      <td>0.067342</td>\n",
              "      <td>-0.760048</td>\n",
              "    </tr>\n",
              "    <tr>\n",
              "      <th>75%</th>\n",
              "      <td>1.181638</td>\n",
              "      <td>1.186314</td>\n",
              "      <td>0.765924</td>\n",
              "      <td>0.149776</td>\n",
              "    </tr>\n",
              "    <tr>\n",
              "      <th>max</th>\n",
              "      <td>1.571513</td>\n",
              "      <td>1.719158</td>\n",
              "      <td>1.251159</td>\n",
              "      <td>1.125658</td>\n",
              "    </tr>\n",
              "  </tbody>\n",
              "</table>\n",
              "</div>"
            ],
            "text/plain": [
              "              A         B         C         D\n",
              "count  6.000000  6.000000  6.000000  6.000000\n",
              "mean   0.474861  0.727055  0.075872 -0.684397\n",
              "std    1.000865  0.820615  0.952958  1.283626\n",
              "min   -1.154704 -0.688718 -1.168469 -2.206528\n",
              "25%    0.046240  0.592783 -0.553859 -1.658864\n",
              "50%    0.596392  0.719819  0.067342 -0.760048\n",
              "75%    1.181638  1.186314  0.765924  0.149776\n",
              "max    1.571513  1.719158  1.251159  1.125658"
            ]
          },
          "metadata": {},
          "execution_count": 11
        }
      ]
    },
    {
      "cell_type": "code",
      "metadata": {
        "id": "ExhpF6H8dDKo",
        "colab": {
          "base_uri": "https://localhost:8080/",
          "height": 173
        },
        "outputId": "8b47ba7f-ba85-4e83-ccf6-b196f3cd387b"
      },
      "source": [
        "df.describe().T"
      ],
      "execution_count": 12,
      "outputs": [
        {
          "output_type": "execute_result",
          "data": {
            "text/html": [
              "<div>\n",
              "<style scoped>\n",
              "    .dataframe tbody tr th:only-of-type {\n",
              "        vertical-align: middle;\n",
              "    }\n",
              "\n",
              "    .dataframe tbody tr th {\n",
              "        vertical-align: top;\n",
              "    }\n",
              "\n",
              "    .dataframe thead th {\n",
              "        text-align: right;\n",
              "    }\n",
              "</style>\n",
              "<table border=\"1\" class=\"dataframe\">\n",
              "  <thead>\n",
              "    <tr style=\"text-align: right;\">\n",
              "      <th></th>\n",
              "      <th>count</th>\n",
              "      <th>mean</th>\n",
              "      <th>std</th>\n",
              "      <th>min</th>\n",
              "      <th>25%</th>\n",
              "      <th>50%</th>\n",
              "      <th>75%</th>\n",
              "      <th>max</th>\n",
              "    </tr>\n",
              "  </thead>\n",
              "  <tbody>\n",
              "    <tr>\n",
              "      <th>A</th>\n",
              "      <td>6.0</td>\n",
              "      <td>0.474861</td>\n",
              "      <td>1.000865</td>\n",
              "      <td>-1.154704</td>\n",
              "      <td>0.046240</td>\n",
              "      <td>0.596392</td>\n",
              "      <td>1.181638</td>\n",
              "      <td>1.571513</td>\n",
              "    </tr>\n",
              "    <tr>\n",
              "      <th>B</th>\n",
              "      <td>6.0</td>\n",
              "      <td>0.727055</td>\n",
              "      <td>0.820615</td>\n",
              "      <td>-0.688718</td>\n",
              "      <td>0.592783</td>\n",
              "      <td>0.719819</td>\n",
              "      <td>1.186314</td>\n",
              "      <td>1.719158</td>\n",
              "    </tr>\n",
              "    <tr>\n",
              "      <th>C</th>\n",
              "      <td>6.0</td>\n",
              "      <td>0.075872</td>\n",
              "      <td>0.952958</td>\n",
              "      <td>-1.168469</td>\n",
              "      <td>-0.553859</td>\n",
              "      <td>0.067342</td>\n",
              "      <td>0.765924</td>\n",
              "      <td>1.251159</td>\n",
              "    </tr>\n",
              "    <tr>\n",
              "      <th>D</th>\n",
              "      <td>6.0</td>\n",
              "      <td>-0.684397</td>\n",
              "      <td>1.283626</td>\n",
              "      <td>-2.206528</td>\n",
              "      <td>-1.658864</td>\n",
              "      <td>-0.760048</td>\n",
              "      <td>0.149776</td>\n",
              "      <td>1.125658</td>\n",
              "    </tr>\n",
              "  </tbody>\n",
              "</table>\n",
              "</div>"
            ],
            "text/plain": [
              "   count      mean       std       min       25%       50%       75%       max\n",
              "A    6.0  0.474861  1.000865 -1.154704  0.046240  0.596392  1.181638  1.571513\n",
              "B    6.0  0.727055  0.820615 -0.688718  0.592783  0.719819  1.186314  1.719158\n",
              "C    6.0  0.075872  0.952958 -1.168469 -0.553859  0.067342  0.765924  1.251159\n",
              "D    6.0 -0.684397  1.283626 -2.206528 -1.658864 -0.760048  0.149776  1.125658"
            ]
          },
          "metadata": {},
          "execution_count": 12
        }
      ]
    },
    {
      "cell_type": "code",
      "metadata": {
        "id": "Br9VwFVex5rE",
        "colab": {
          "base_uri": "https://localhost:8080/",
          "height": 173
        },
        "outputId": "010dd26a-a95f-46ad-a601-c0d562623a41"
      },
      "source": [
        "# Transposing your dataframe:\n",
        "df.T"
      ],
      "execution_count": 13,
      "outputs": [
        {
          "output_type": "execute_result",
          "data": {
            "text/html": [
              "<div>\n",
              "<style scoped>\n",
              "    .dataframe tbody tr th:only-of-type {\n",
              "        vertical-align: middle;\n",
              "    }\n",
              "\n",
              "    .dataframe tbody tr th {\n",
              "        vertical-align: top;\n",
              "    }\n",
              "\n",
              "    .dataframe thead th {\n",
              "        text-align: right;\n",
              "    }\n",
              "</style>\n",
              "<table border=\"1\" class=\"dataframe\">\n",
              "  <thead>\n",
              "    <tr style=\"text-align: right;\">\n",
              "      <th></th>\n",
              "      <th>2021-09-27</th>\n",
              "      <th>2021-09-28</th>\n",
              "      <th>2021-09-29</th>\n",
              "      <th>2021-09-30</th>\n",
              "      <th>2021-10-01</th>\n",
              "      <th>2021-10-02</th>\n",
              "    </tr>\n",
              "  </thead>\n",
              "  <tbody>\n",
              "    <tr>\n",
              "      <th>A</th>\n",
              "      <td>1.571513</td>\n",
              "      <td>-1.154704</td>\n",
              "      <td>1.252204</td>\n",
              "      <td>-0.012628</td>\n",
              "      <td>0.969942</td>\n",
              "      <td>0.222842</td>\n",
              "    </tr>\n",
              "    <tr>\n",
              "      <th>B</th>\n",
              "      <td>0.824288</td>\n",
              "      <td>1.306989</td>\n",
              "      <td>0.615351</td>\n",
              "      <td>-0.688718</td>\n",
              "      <td>0.585260</td>\n",
              "      <td>1.719158</td>\n",
              "    </tr>\n",
              "    <tr>\n",
              "      <th>C</th>\n",
              "      <td>1.251159</td>\n",
              "      <td>-0.506679</td>\n",
              "      <td>-0.569585</td>\n",
              "      <td>0.641363</td>\n",
              "      <td>-1.168469</td>\n",
              "      <td>0.807445</td>\n",
              "    </tr>\n",
              "    <tr>\n",
              "      <th>D</th>\n",
              "      <td>0.313007</td>\n",
              "      <td>-2.206528</td>\n",
              "      <td>1.125658</td>\n",
              "      <td>-1.818425</td>\n",
              "      <td>-1.180179</td>\n",
              "      <td>-0.339916</td>\n",
              "    </tr>\n",
              "  </tbody>\n",
              "</table>\n",
              "</div>"
            ],
            "text/plain": [
              "   2021-09-27  2021-09-28  2021-09-29  2021-09-30  2021-10-01  2021-10-02\n",
              "A    1.571513   -1.154704    1.252204   -0.012628    0.969942    0.222842\n",
              "B    0.824288    1.306989    0.615351   -0.688718    0.585260    1.719158\n",
              "C    1.251159   -0.506679   -0.569585    0.641363   -1.168469    0.807445\n",
              "D    0.313007   -2.206528    1.125658   -1.818425   -1.180179   -0.339916"
            ]
          },
          "metadata": {},
          "execution_count": 13
        }
      ]
    },
    {
      "cell_type": "code",
      "metadata": {
        "id": "vkg1gQUVLoy9",
        "colab": {
          "base_uri": "https://localhost:8080/"
        },
        "outputId": "1374b775-5f65-4ec5-a7c1-af6ee2ac51b9"
      },
      "source": [
        "df.T.index"
      ],
      "execution_count": 14,
      "outputs": [
        {
          "output_type": "execute_result",
          "data": {
            "text/plain": [
              "Index(['A', 'B', 'C', 'D'], dtype='object')"
            ]
          },
          "metadata": {},
          "execution_count": 14
        }
      ]
    },
    {
      "cell_type": "markdown",
      "metadata": {
        "id": "A4lHGd4px5rU"
      },
      "source": [
        "### Sorting"
      ]
    },
    {
      "cell_type": "markdown",
      "metadata": {
        "id": "jlXuIbzD6oUD"
      },
      "source": [
        "#### Sort by index\n",
        "- sort_index(axis=0, ascending=False)\n",
        "- sort_index(axis=1, ascending=False)\n",
        "\n",
        "> Axis=0 Column-Wise Operation (수직으로)\n",
        "\n",
        "> Axis=1 Row-Wise Operation (수평으로)"
      ]
    },
    {
      "cell_type": "code",
      "metadata": {
        "colab": {
          "base_uri": "https://localhost:8080/",
          "height": 235
        },
        "id": "9WsidRJk2HLJ",
        "outputId": "54167701-0f1f-4517-b77b-7e9299257612"
      },
      "source": [
        "df"
      ],
      "execution_count": 16,
      "outputs": [
        {
          "output_type": "execute_result",
          "data": {
            "text/html": [
              "<div>\n",
              "<style scoped>\n",
              "    .dataframe tbody tr th:only-of-type {\n",
              "        vertical-align: middle;\n",
              "    }\n",
              "\n",
              "    .dataframe tbody tr th {\n",
              "        vertical-align: top;\n",
              "    }\n",
              "\n",
              "    .dataframe thead th {\n",
              "        text-align: right;\n",
              "    }\n",
              "</style>\n",
              "<table border=\"1\" class=\"dataframe\">\n",
              "  <thead>\n",
              "    <tr style=\"text-align: right;\">\n",
              "      <th></th>\n",
              "      <th>A</th>\n",
              "      <th>B</th>\n",
              "      <th>C</th>\n",
              "      <th>D</th>\n",
              "    </tr>\n",
              "  </thead>\n",
              "  <tbody>\n",
              "    <tr>\n",
              "      <th>2021-09-27</th>\n",
              "      <td>1.571513</td>\n",
              "      <td>0.824288</td>\n",
              "      <td>1.251159</td>\n",
              "      <td>0.313007</td>\n",
              "    </tr>\n",
              "    <tr>\n",
              "      <th>2021-09-28</th>\n",
              "      <td>-1.154704</td>\n",
              "      <td>1.306989</td>\n",
              "      <td>-0.506679</td>\n",
              "      <td>-2.206528</td>\n",
              "    </tr>\n",
              "    <tr>\n",
              "      <th>2021-09-29</th>\n",
              "      <td>1.252204</td>\n",
              "      <td>0.615351</td>\n",
              "      <td>-0.569585</td>\n",
              "      <td>1.125658</td>\n",
              "    </tr>\n",
              "    <tr>\n",
              "      <th>2021-09-30</th>\n",
              "      <td>-0.012628</td>\n",
              "      <td>-0.688718</td>\n",
              "      <td>0.641363</td>\n",
              "      <td>-1.818425</td>\n",
              "    </tr>\n",
              "    <tr>\n",
              "      <th>2021-10-01</th>\n",
              "      <td>0.969942</td>\n",
              "      <td>0.585260</td>\n",
              "      <td>-1.168469</td>\n",
              "      <td>-1.180179</td>\n",
              "    </tr>\n",
              "    <tr>\n",
              "      <th>2021-10-02</th>\n",
              "      <td>0.222842</td>\n",
              "      <td>1.719158</td>\n",
              "      <td>0.807445</td>\n",
              "      <td>-0.339916</td>\n",
              "    </tr>\n",
              "  </tbody>\n",
              "</table>\n",
              "</div>"
            ],
            "text/plain": [
              "                   A         B         C         D\n",
              "2021-09-27  1.571513  0.824288  1.251159  0.313007\n",
              "2021-09-28 -1.154704  1.306989 -0.506679 -2.206528\n",
              "2021-09-29  1.252204  0.615351 -0.569585  1.125658\n",
              "2021-09-30 -0.012628 -0.688718  0.641363 -1.818425\n",
              "2021-10-01  0.969942  0.585260 -1.168469 -1.180179\n",
              "2021-10-02  0.222842  1.719158  0.807445 -0.339916"
            ]
          },
          "metadata": {},
          "execution_count": 16
        }
      ]
    },
    {
      "cell_type": "code",
      "metadata": {
        "id": "RM9Rlk64x5rW",
        "colab": {
          "base_uri": "https://localhost:8080/"
        },
        "outputId": "43b0682e-6775-42e0-e223-00a506db149d"
      },
      "source": [
        "# Sorting by an axis:\n",
        "df, df.sort_index(axis=0) #, ascending=False)"
      ],
      "execution_count": 17,
      "outputs": [
        {
          "output_type": "execute_result",
          "data": {
            "text/plain": [
              "(                   A         B         C         D\n",
              " 2021-09-27  1.571513  0.824288  1.251159  0.313007\n",
              " 2021-09-28 -1.154704  1.306989 -0.506679 -2.206528\n",
              " 2021-09-29  1.252204  0.615351 -0.569585  1.125658\n",
              " 2021-09-30 -0.012628 -0.688718  0.641363 -1.818425\n",
              " 2021-10-01  0.969942  0.585260 -1.168469 -1.180179\n",
              " 2021-10-02  0.222842  1.719158  0.807445 -0.339916,\n",
              "                    A         B         C         D\n",
              " 2021-09-27  1.571513  0.824288  1.251159  0.313007\n",
              " 2021-09-28 -1.154704  1.306989 -0.506679 -2.206528\n",
              " 2021-09-29  1.252204  0.615351 -0.569585  1.125658\n",
              " 2021-09-30 -0.012628 -0.688718  0.641363 -1.818425\n",
              " 2021-10-01  0.969942  0.585260 -1.168469 -1.180179\n",
              " 2021-10-02  0.222842  1.719158  0.807445 -0.339916)"
            ]
          },
          "metadata": {},
          "execution_count": 17
        }
      ]
    },
    {
      "cell_type": "code",
      "metadata": {
        "id": "w_7d__Hsx5rb",
        "colab": {
          "base_uri": "https://localhost:8080/"
        },
        "outputId": "e6bda57f-b846-4588-e218-dcc8b33271ed"
      },
      "source": [
        "df,df.sort_index(axis=1, ascending=False)"
      ],
      "execution_count": 18,
      "outputs": [
        {
          "output_type": "execute_result",
          "data": {
            "text/plain": [
              "(                   A         B         C         D\n",
              " 2021-09-27  1.571513  0.824288  1.251159  0.313007\n",
              " 2021-09-28 -1.154704  1.306989 -0.506679 -2.206528\n",
              " 2021-09-29  1.252204  0.615351 -0.569585  1.125658\n",
              " 2021-09-30 -0.012628 -0.688718  0.641363 -1.818425\n",
              " 2021-10-01  0.969942  0.585260 -1.168469 -1.180179\n",
              " 2021-10-02  0.222842  1.719158  0.807445 -0.339916,\n",
              "                    D         C         B         A\n",
              " 2021-09-27  0.313007  1.251159  0.824288  1.571513\n",
              " 2021-09-28 -2.206528 -0.506679  1.306989 -1.154704\n",
              " 2021-09-29  1.125658 -0.569585  0.615351  1.252204\n",
              " 2021-09-30 -1.818425  0.641363 -0.688718 -0.012628\n",
              " 2021-10-01 -1.180179 -1.168469  0.585260  0.969942\n",
              " 2021-10-02 -0.339916  0.807445  1.719158  0.222842)"
            ]
          },
          "metadata": {},
          "execution_count": 18
        }
      ]
    },
    {
      "cell_type": "markdown",
      "metadata": {
        "id": "8J59I-KW6yNK"
      },
      "source": [
        "#### Sort by value\n",
        "- sort_values(by='column')"
      ]
    },
    {
      "cell_type": "code",
      "metadata": {
        "id": "VJw7_sTLx5rg",
        "colab": {
          "base_uri": "https://localhost:8080/"
        },
        "outputId": "df9dab48-bf7c-41b8-ee0b-d7d237d5636c"
      },
      "source": [
        "# Sorting by values:\n",
        "df,df.sort_values(by='B') #, ascending=False)"
      ],
      "execution_count": 19,
      "outputs": [
        {
          "output_type": "execute_result",
          "data": {
            "text/plain": [
              "(                   A         B         C         D\n",
              " 2021-09-27  1.571513  0.824288  1.251159  0.313007\n",
              " 2021-09-28 -1.154704  1.306989 -0.506679 -2.206528\n",
              " 2021-09-29  1.252204  0.615351 -0.569585  1.125658\n",
              " 2021-09-30 -0.012628 -0.688718  0.641363 -1.818425\n",
              " 2021-10-01  0.969942  0.585260 -1.168469 -1.180179\n",
              " 2021-10-02  0.222842  1.719158  0.807445 -0.339916,\n",
              "                    A         B         C         D\n",
              " 2021-09-30 -0.012628 -0.688718  0.641363 -1.818425\n",
              " 2021-10-01  0.969942  0.585260 -1.168469 -1.180179\n",
              " 2021-09-29  1.252204  0.615351 -0.569585  1.125658\n",
              " 2021-09-27  1.571513  0.824288  1.251159  0.313007\n",
              " 2021-09-28 -1.154704  1.306989 -0.506679 -2.206528\n",
              " 2021-10-02  0.222842  1.719158  0.807445 -0.339916)"
            ]
          },
          "metadata": {},
          "execution_count": 19
        }
      ]
    },
    {
      "cell_type": "markdown",
      "metadata": {
        "id": "rBW0-saPPGbN"
      },
      "source": [
        "## indexing and slicing of DataFrame"
      ]
    },
    {
      "cell_type": "markdown",
      "metadata": {
        "id": "oH89Wa-ix5rq"
      },
      "source": [
        "#### Selecting data by indexing and slicing\n",
        "- indexing\n",
        "- slicing\n"
      ]
    },
    {
      "cell_type": "code",
      "metadata": {
        "id": "YufIBMYzx5ru",
        "colab": {
          "base_uri": "https://localhost:8080/"
        },
        "outputId": "772d9647-a7b1-4921-e39d-83aa4fac98ca"
      },
      "source": [
        "# Selecting a single column, which yields a Series\n",
        "df['A']"
      ],
      "execution_count": 20,
      "outputs": [
        {
          "output_type": "execute_result",
          "data": {
            "text/plain": [
              "2021-09-27    1.571513\n",
              "2021-09-28   -1.154704\n",
              "2021-09-29    1.252204\n",
              "2021-09-30   -0.012628\n",
              "2021-10-01    0.969942\n",
              "2021-10-02    0.222842\n",
              "Freq: D, Name: A, dtype: float64"
            ]
          },
          "metadata": {},
          "execution_count": 20
        }
      ]
    },
    {
      "cell_type": "code",
      "metadata": {
        "id": "ijxuNMS5x5r3",
        "colab": {
          "base_uri": "https://localhost:8080/",
          "height": 142
        },
        "outputId": "b741ea24-027d-4400-f0d8-76b4762cc5eb"
      },
      "source": [
        "# Selecting via [], which slices the rows.\n",
        "df[0:3]"
      ],
      "execution_count": 21,
      "outputs": [
        {
          "output_type": "execute_result",
          "data": {
            "text/html": [
              "<div>\n",
              "<style scoped>\n",
              "    .dataframe tbody tr th:only-of-type {\n",
              "        vertical-align: middle;\n",
              "    }\n",
              "\n",
              "    .dataframe tbody tr th {\n",
              "        vertical-align: top;\n",
              "    }\n",
              "\n",
              "    .dataframe thead th {\n",
              "        text-align: right;\n",
              "    }\n",
              "</style>\n",
              "<table border=\"1\" class=\"dataframe\">\n",
              "  <thead>\n",
              "    <tr style=\"text-align: right;\">\n",
              "      <th></th>\n",
              "      <th>A</th>\n",
              "      <th>B</th>\n",
              "      <th>C</th>\n",
              "      <th>D</th>\n",
              "    </tr>\n",
              "  </thead>\n",
              "  <tbody>\n",
              "    <tr>\n",
              "      <th>2021-09-27</th>\n",
              "      <td>1.571513</td>\n",
              "      <td>0.824288</td>\n",
              "      <td>1.251159</td>\n",
              "      <td>0.313007</td>\n",
              "    </tr>\n",
              "    <tr>\n",
              "      <th>2021-09-28</th>\n",
              "      <td>-1.154704</td>\n",
              "      <td>1.306989</td>\n",
              "      <td>-0.506679</td>\n",
              "      <td>-2.206528</td>\n",
              "    </tr>\n",
              "    <tr>\n",
              "      <th>2021-09-29</th>\n",
              "      <td>1.252204</td>\n",
              "      <td>0.615351</td>\n",
              "      <td>-0.569585</td>\n",
              "      <td>1.125658</td>\n",
              "    </tr>\n",
              "  </tbody>\n",
              "</table>\n",
              "</div>"
            ],
            "text/plain": [
              "                   A         B         C         D\n",
              "2021-09-27  1.571513  0.824288  1.251159  0.313007\n",
              "2021-09-28 -1.154704  1.306989 -0.506679 -2.206528\n",
              "2021-09-29  1.252204  0.615351 -0.569585  1.125658"
            ]
          },
          "metadata": {},
          "execution_count": 21
        }
      ]
    },
    {
      "cell_type": "code",
      "metadata": {
        "id": "T8XP7m9nx5r9",
        "colab": {
          "base_uri": "https://localhost:8080/",
          "height": 204
        },
        "outputId": "f03756d0-f59f-4e60-e271-a3e17808f243"
      },
      "source": [
        "df['20210927':'20211001'] # 인덱스가 아닌 값인 경우는 지정된 범위가 다 선택된다."
      ],
      "execution_count": 24,
      "outputs": [
        {
          "output_type": "execute_result",
          "data": {
            "text/html": [
              "<div>\n",
              "<style scoped>\n",
              "    .dataframe tbody tr th:only-of-type {\n",
              "        vertical-align: middle;\n",
              "    }\n",
              "\n",
              "    .dataframe tbody tr th {\n",
              "        vertical-align: top;\n",
              "    }\n",
              "\n",
              "    .dataframe thead th {\n",
              "        text-align: right;\n",
              "    }\n",
              "</style>\n",
              "<table border=\"1\" class=\"dataframe\">\n",
              "  <thead>\n",
              "    <tr style=\"text-align: right;\">\n",
              "      <th></th>\n",
              "      <th>A</th>\n",
              "      <th>B</th>\n",
              "      <th>C</th>\n",
              "      <th>D</th>\n",
              "    </tr>\n",
              "  </thead>\n",
              "  <tbody>\n",
              "    <tr>\n",
              "      <th>2021-09-27</th>\n",
              "      <td>1.571513</td>\n",
              "      <td>0.824288</td>\n",
              "      <td>1.251159</td>\n",
              "      <td>0.313007</td>\n",
              "    </tr>\n",
              "    <tr>\n",
              "      <th>2021-09-28</th>\n",
              "      <td>-1.154704</td>\n",
              "      <td>1.306989</td>\n",
              "      <td>-0.506679</td>\n",
              "      <td>-2.206528</td>\n",
              "    </tr>\n",
              "    <tr>\n",
              "      <th>2021-09-29</th>\n",
              "      <td>1.252204</td>\n",
              "      <td>0.615351</td>\n",
              "      <td>-0.569585</td>\n",
              "      <td>1.125658</td>\n",
              "    </tr>\n",
              "    <tr>\n",
              "      <th>2021-09-30</th>\n",
              "      <td>-0.012628</td>\n",
              "      <td>-0.688718</td>\n",
              "      <td>0.641363</td>\n",
              "      <td>-1.818425</td>\n",
              "    </tr>\n",
              "    <tr>\n",
              "      <th>2021-10-01</th>\n",
              "      <td>0.969942</td>\n",
              "      <td>0.585260</td>\n",
              "      <td>-1.168469</td>\n",
              "      <td>-1.180179</td>\n",
              "    </tr>\n",
              "  </tbody>\n",
              "</table>\n",
              "</div>"
            ],
            "text/plain": [
              "                   A         B         C         D\n",
              "2021-09-27  1.571513  0.824288  1.251159  0.313007\n",
              "2021-09-28 -1.154704  1.306989 -0.506679 -2.206528\n",
              "2021-09-29  1.252204  0.615351 -0.569585  1.125658\n",
              "2021-09-30 -0.012628 -0.688718  0.641363 -1.818425\n",
              "2021-10-01  0.969942  0.585260 -1.168469 -1.180179"
            ]
          },
          "metadata": {},
          "execution_count": 24
        }
      ]
    },
    {
      "cell_type": "markdown",
      "metadata": {
        "id": "E7-V96t9x5sB"
      },
      "source": [
        "#### Selecting data by label [중요!!]\n",
        "\n",
        "> **loc, iloc**\n"
      ]
    },
    {
      "cell_type": "code",
      "metadata": {
        "id": "TV4dnwU-x5sC",
        "colab": {
          "base_uri": "https://localhost:8080/",
          "height": 235
        },
        "outputId": "2ab480e8-5a7d-4d79-ea94-d00c604c9545"
      },
      "source": [
        "df"
      ],
      "execution_count": 23,
      "outputs": [
        {
          "output_type": "execute_result",
          "data": {
            "text/html": [
              "<div>\n",
              "<style scoped>\n",
              "    .dataframe tbody tr th:only-of-type {\n",
              "        vertical-align: middle;\n",
              "    }\n",
              "\n",
              "    .dataframe tbody tr th {\n",
              "        vertical-align: top;\n",
              "    }\n",
              "\n",
              "    .dataframe thead th {\n",
              "        text-align: right;\n",
              "    }\n",
              "</style>\n",
              "<table border=\"1\" class=\"dataframe\">\n",
              "  <thead>\n",
              "    <tr style=\"text-align: right;\">\n",
              "      <th></th>\n",
              "      <th>A</th>\n",
              "      <th>B</th>\n",
              "      <th>C</th>\n",
              "      <th>D</th>\n",
              "    </tr>\n",
              "  </thead>\n",
              "  <tbody>\n",
              "    <tr>\n",
              "      <th>2021-09-27</th>\n",
              "      <td>1.571513</td>\n",
              "      <td>0.824288</td>\n",
              "      <td>1.251159</td>\n",
              "      <td>0.313007</td>\n",
              "    </tr>\n",
              "    <tr>\n",
              "      <th>2021-09-28</th>\n",
              "      <td>-1.154704</td>\n",
              "      <td>1.306989</td>\n",
              "      <td>-0.506679</td>\n",
              "      <td>-2.206528</td>\n",
              "    </tr>\n",
              "    <tr>\n",
              "      <th>2021-09-29</th>\n",
              "      <td>1.252204</td>\n",
              "      <td>0.615351</td>\n",
              "      <td>-0.569585</td>\n",
              "      <td>1.125658</td>\n",
              "    </tr>\n",
              "    <tr>\n",
              "      <th>2021-09-30</th>\n",
              "      <td>-0.012628</td>\n",
              "      <td>-0.688718</td>\n",
              "      <td>0.641363</td>\n",
              "      <td>-1.818425</td>\n",
              "    </tr>\n",
              "    <tr>\n",
              "      <th>2021-10-01</th>\n",
              "      <td>0.969942</td>\n",
              "      <td>0.585260</td>\n",
              "      <td>-1.168469</td>\n",
              "      <td>-1.180179</td>\n",
              "    </tr>\n",
              "    <tr>\n",
              "      <th>2021-10-02</th>\n",
              "      <td>0.222842</td>\n",
              "      <td>1.719158</td>\n",
              "      <td>0.807445</td>\n",
              "      <td>-0.339916</td>\n",
              "    </tr>\n",
              "  </tbody>\n",
              "</table>\n",
              "</div>"
            ],
            "text/plain": [
              "                   A         B         C         D\n",
              "2021-09-27  1.571513  0.824288  1.251159  0.313007\n",
              "2021-09-28 -1.154704  1.306989 -0.506679 -2.206528\n",
              "2021-09-29  1.252204  0.615351 -0.569585  1.125658\n",
              "2021-09-30 -0.012628 -0.688718  0.641363 -1.818425\n",
              "2021-10-01  0.969942  0.585260 -1.168469 -1.180179\n",
              "2021-10-02  0.222842  1.719158  0.807445 -0.339916"
            ]
          },
          "metadata": {},
          "execution_count": 23
        }
      ]
    },
    {
      "cell_type": "code",
      "metadata": {
        "id": "iPZE3U5cx5sG",
        "colab": {
          "base_uri": "https://localhost:8080/"
        },
        "outputId": "507bdd37-623a-4f16-d62a-9dc07168f80f"
      },
      "source": [
        "df.loc[dates[0]]   # loc()"
      ],
      "execution_count": 25,
      "outputs": [
        {
          "output_type": "execute_result",
          "data": {
            "text/plain": [
              "A    1.571513\n",
              "B    0.824288\n",
              "C    1.251159\n",
              "D    0.313007\n",
              "Name: 2021-09-27 00:00:00, dtype: float64"
            ]
          },
          "metadata": {},
          "execution_count": 25
        }
      ]
    },
    {
      "cell_type": "code",
      "metadata": {
        "id": "jteYZDQnx5sL",
        "colab": {
          "base_uri": "https://localhost:8080/",
          "height": 235
        },
        "outputId": "461baa5c-a479-45a6-e113-b45eb43d92bd"
      },
      "source": [
        "# Selecting on a multi-axis by label:\n",
        "df.loc[:,['A','B']]"
      ],
      "execution_count": 26,
      "outputs": [
        {
          "output_type": "execute_result",
          "data": {
            "text/html": [
              "<div>\n",
              "<style scoped>\n",
              "    .dataframe tbody tr th:only-of-type {\n",
              "        vertical-align: middle;\n",
              "    }\n",
              "\n",
              "    .dataframe tbody tr th {\n",
              "        vertical-align: top;\n",
              "    }\n",
              "\n",
              "    .dataframe thead th {\n",
              "        text-align: right;\n",
              "    }\n",
              "</style>\n",
              "<table border=\"1\" class=\"dataframe\">\n",
              "  <thead>\n",
              "    <tr style=\"text-align: right;\">\n",
              "      <th></th>\n",
              "      <th>A</th>\n",
              "      <th>B</th>\n",
              "    </tr>\n",
              "  </thead>\n",
              "  <tbody>\n",
              "    <tr>\n",
              "      <th>2021-09-27</th>\n",
              "      <td>1.571513</td>\n",
              "      <td>0.824288</td>\n",
              "    </tr>\n",
              "    <tr>\n",
              "      <th>2021-09-28</th>\n",
              "      <td>-1.154704</td>\n",
              "      <td>1.306989</td>\n",
              "    </tr>\n",
              "    <tr>\n",
              "      <th>2021-09-29</th>\n",
              "      <td>1.252204</td>\n",
              "      <td>0.615351</td>\n",
              "    </tr>\n",
              "    <tr>\n",
              "      <th>2021-09-30</th>\n",
              "      <td>-0.012628</td>\n",
              "      <td>-0.688718</td>\n",
              "    </tr>\n",
              "    <tr>\n",
              "      <th>2021-10-01</th>\n",
              "      <td>0.969942</td>\n",
              "      <td>0.585260</td>\n",
              "    </tr>\n",
              "    <tr>\n",
              "      <th>2021-10-02</th>\n",
              "      <td>0.222842</td>\n",
              "      <td>1.719158</td>\n",
              "    </tr>\n",
              "  </tbody>\n",
              "</table>\n",
              "</div>"
            ],
            "text/plain": [
              "                   A         B\n",
              "2021-09-27  1.571513  0.824288\n",
              "2021-09-28 -1.154704  1.306989\n",
              "2021-09-29  1.252204  0.615351\n",
              "2021-09-30 -0.012628 -0.688718\n",
              "2021-10-01  0.969942  0.585260\n",
              "2021-10-02  0.222842  1.719158"
            ]
          },
          "metadata": {},
          "execution_count": 26
        }
      ]
    },
    {
      "cell_type": "markdown",
      "metadata": {
        "id": "QqYJvRLnx5sP"
      },
      "source": [
        "#### [DIY: 도전코딩]\n",
        "\n",
        "> Select data for first two days AND column 3,4 from df using loc[]."
      ]
    },
    {
      "cell_type": "code",
      "metadata": {
        "id": "jSUlF4icx5sQ",
        "colab": {
          "base_uri": "https://localhost:8080/",
          "height": 111
        },
        "outputId": "4f41e895-5139-4286-e372-fab44bdc15cc"
      },
      "source": [
        "# df.loc[0:2,['C','D']]\n",
        "# df.loc['20210927':'20210930',['C','D']]\n",
        "df.loc[dates[:2],['C','D']]"
      ],
      "execution_count": 31,
      "outputs": [
        {
          "output_type": "execute_result",
          "data": {
            "text/html": [
              "<div>\n",
              "<style scoped>\n",
              "    .dataframe tbody tr th:only-of-type {\n",
              "        vertical-align: middle;\n",
              "    }\n",
              "\n",
              "    .dataframe tbody tr th {\n",
              "        vertical-align: top;\n",
              "    }\n",
              "\n",
              "    .dataframe thead th {\n",
              "        text-align: right;\n",
              "    }\n",
              "</style>\n",
              "<table border=\"1\" class=\"dataframe\">\n",
              "  <thead>\n",
              "    <tr style=\"text-align: right;\">\n",
              "      <th></th>\n",
              "      <th>C</th>\n",
              "      <th>D</th>\n",
              "    </tr>\n",
              "  </thead>\n",
              "  <tbody>\n",
              "    <tr>\n",
              "      <th>2021-09-27</th>\n",
              "      <td>1.251159</td>\n",
              "      <td>0.313007</td>\n",
              "    </tr>\n",
              "    <tr>\n",
              "      <th>2021-09-28</th>\n",
              "      <td>-0.506679</td>\n",
              "      <td>-2.206528</td>\n",
              "    </tr>\n",
              "  </tbody>\n",
              "</table>\n",
              "</div>"
            ],
            "text/plain": [
              "                   C         D\n",
              "2021-09-27  1.251159  0.313007\n",
              "2021-09-28 -0.506679 -2.206528"
            ]
          },
          "metadata": {},
          "execution_count": 31
        }
      ]
    },
    {
      "cell_type": "markdown",
      "metadata": {
        "id": "-BGWuIwpx5sV"
      },
      "source": [
        "#### Selecting data by position (iloc())\n",
        "- index 사용"
      ]
    },
    {
      "cell_type": "code",
      "metadata": {
        "id": "gYtgID9rx5sW",
        "colab": {
          "base_uri": "https://localhost:8080/",
          "height": 235
        },
        "outputId": "31943e9e-43bd-47c5-b0df-2c311aec6de2"
      },
      "source": [
        "df"
      ],
      "execution_count": 32,
      "outputs": [
        {
          "output_type": "execute_result",
          "data": {
            "text/html": [
              "<div>\n",
              "<style scoped>\n",
              "    .dataframe tbody tr th:only-of-type {\n",
              "        vertical-align: middle;\n",
              "    }\n",
              "\n",
              "    .dataframe tbody tr th {\n",
              "        vertical-align: top;\n",
              "    }\n",
              "\n",
              "    .dataframe thead th {\n",
              "        text-align: right;\n",
              "    }\n",
              "</style>\n",
              "<table border=\"1\" class=\"dataframe\">\n",
              "  <thead>\n",
              "    <tr style=\"text-align: right;\">\n",
              "      <th></th>\n",
              "      <th>A</th>\n",
              "      <th>B</th>\n",
              "      <th>C</th>\n",
              "      <th>D</th>\n",
              "    </tr>\n",
              "  </thead>\n",
              "  <tbody>\n",
              "    <tr>\n",
              "      <th>2021-09-27</th>\n",
              "      <td>1.571513</td>\n",
              "      <td>0.824288</td>\n",
              "      <td>1.251159</td>\n",
              "      <td>0.313007</td>\n",
              "    </tr>\n",
              "    <tr>\n",
              "      <th>2021-09-28</th>\n",
              "      <td>-1.154704</td>\n",
              "      <td>1.306989</td>\n",
              "      <td>-0.506679</td>\n",
              "      <td>-2.206528</td>\n",
              "    </tr>\n",
              "    <tr>\n",
              "      <th>2021-09-29</th>\n",
              "      <td>1.252204</td>\n",
              "      <td>0.615351</td>\n",
              "      <td>-0.569585</td>\n",
              "      <td>1.125658</td>\n",
              "    </tr>\n",
              "    <tr>\n",
              "      <th>2021-09-30</th>\n",
              "      <td>-0.012628</td>\n",
              "      <td>-0.688718</td>\n",
              "      <td>0.641363</td>\n",
              "      <td>-1.818425</td>\n",
              "    </tr>\n",
              "    <tr>\n",
              "      <th>2021-10-01</th>\n",
              "      <td>0.969942</td>\n",
              "      <td>0.585260</td>\n",
              "      <td>-1.168469</td>\n",
              "      <td>-1.180179</td>\n",
              "    </tr>\n",
              "    <tr>\n",
              "      <th>2021-10-02</th>\n",
              "      <td>0.222842</td>\n",
              "      <td>1.719158</td>\n",
              "      <td>0.807445</td>\n",
              "      <td>-0.339916</td>\n",
              "    </tr>\n",
              "  </tbody>\n",
              "</table>\n",
              "</div>"
            ],
            "text/plain": [
              "                   A         B         C         D\n",
              "2021-09-27  1.571513  0.824288  1.251159  0.313007\n",
              "2021-09-28 -1.154704  1.306989 -0.506679 -2.206528\n",
              "2021-09-29  1.252204  0.615351 -0.569585  1.125658\n",
              "2021-09-30 -0.012628 -0.688718  0.641363 -1.818425\n",
              "2021-10-01  0.969942  0.585260 -1.168469 -1.180179\n",
              "2021-10-02  0.222842  1.719158  0.807445 -0.339916"
            ]
          },
          "metadata": {},
          "execution_count": 32
        }
      ]
    },
    {
      "cell_type": "code",
      "metadata": {
        "id": "PNgZ3u8-x5sa",
        "colab": {
          "base_uri": "https://localhost:8080/"
        },
        "outputId": "42a92386-2801-4166-a546-562f4b3f9a50"
      },
      "source": [
        "df.iloc[3]  # 결과는 차원축소형으로 표현됨."
      ],
      "execution_count": 33,
      "outputs": [
        {
          "output_type": "execute_result",
          "data": {
            "text/plain": [
              "A   -0.012628\n",
              "B   -0.688718\n",
              "C    0.641363\n",
              "D   -1.818425\n",
              "Name: 2021-09-30 00:00:00, dtype: float64"
            ]
          },
          "metadata": {},
          "execution_count": 33
        }
      ]
    },
    {
      "cell_type": "code",
      "metadata": {
        "id": "12eWuxQ_x5sh",
        "colab": {
          "base_uri": "https://localhost:8080/",
          "height": 111
        },
        "outputId": "a3583361-e407-45fc-a085-dcb6f4fc6749"
      },
      "source": [
        "# [다시 도전]\n",
        "# Select data for first two days AND comumn 3,4 from df.\n",
        "# Use iloc\n",
        "df.iloc[:2,2:4]"
      ],
      "execution_count": 34,
      "outputs": [
        {
          "output_type": "execute_result",
          "data": {
            "text/html": [
              "<div>\n",
              "<style scoped>\n",
              "    .dataframe tbody tr th:only-of-type {\n",
              "        vertical-align: middle;\n",
              "    }\n",
              "\n",
              "    .dataframe tbody tr th {\n",
              "        vertical-align: top;\n",
              "    }\n",
              "\n",
              "    .dataframe thead th {\n",
              "        text-align: right;\n",
              "    }\n",
              "</style>\n",
              "<table border=\"1\" class=\"dataframe\">\n",
              "  <thead>\n",
              "    <tr style=\"text-align: right;\">\n",
              "      <th></th>\n",
              "      <th>C</th>\n",
              "      <th>D</th>\n",
              "    </tr>\n",
              "  </thead>\n",
              "  <tbody>\n",
              "    <tr>\n",
              "      <th>2021-09-27</th>\n",
              "      <td>1.251159</td>\n",
              "      <td>0.313007</td>\n",
              "    </tr>\n",
              "    <tr>\n",
              "      <th>2021-09-28</th>\n",
              "      <td>-0.506679</td>\n",
              "      <td>-2.206528</td>\n",
              "    </tr>\n",
              "  </tbody>\n",
              "</table>\n",
              "</div>"
            ],
            "text/plain": [
              "                   C         D\n",
              "2021-09-27  1.251159  0.313007\n",
              "2021-09-28 -0.506679 -2.206528"
            ]
          },
          "metadata": {},
          "execution_count": 34
        }
      ]
    },
    {
      "cell_type": "code",
      "metadata": {
        "id": "_S-omW3hx5sn",
        "colab": {
          "base_uri": "https://localhost:8080/"
        },
        "outputId": "1c66384b-6a0b-463a-933c-a811c1b5abe3"
      },
      "source": [
        "# Select one item\n",
        "df.iloc[1,1]"
      ],
      "execution_count": 35,
      "outputs": [
        {
          "output_type": "execute_result",
          "data": {
            "text/plain": [
              "1.306988897443248"
            ]
          },
          "metadata": {},
          "execution_count": 35
        }
      ]
    },
    {
      "cell_type": "code",
      "metadata": {
        "id": "fjAsIAidfVUQ",
        "colab": {
          "base_uri": "https://localhost:8080/",
          "height": 142
        },
        "outputId": "d57845f6-8e1e-4240-8716-273eff6fcde4"
      },
      "source": [
        "# [DIY: 다시 도전]\n",
        "# Select data for first three days from df\n",
        "# Your code\n",
        "df.iloc[:3,:]"
      ],
      "execution_count": 38,
      "outputs": [
        {
          "output_type": "execute_result",
          "data": {
            "text/html": [
              "<div>\n",
              "<style scoped>\n",
              "    .dataframe tbody tr th:only-of-type {\n",
              "        vertical-align: middle;\n",
              "    }\n",
              "\n",
              "    .dataframe tbody tr th {\n",
              "        vertical-align: top;\n",
              "    }\n",
              "\n",
              "    .dataframe thead th {\n",
              "        text-align: right;\n",
              "    }\n",
              "</style>\n",
              "<table border=\"1\" class=\"dataframe\">\n",
              "  <thead>\n",
              "    <tr style=\"text-align: right;\">\n",
              "      <th></th>\n",
              "      <th>A</th>\n",
              "      <th>B</th>\n",
              "      <th>C</th>\n",
              "      <th>D</th>\n",
              "    </tr>\n",
              "  </thead>\n",
              "  <tbody>\n",
              "    <tr>\n",
              "      <th>2021-09-27</th>\n",
              "      <td>1.571513</td>\n",
              "      <td>0.824288</td>\n",
              "      <td>1.251159</td>\n",
              "      <td>0.313007</td>\n",
              "    </tr>\n",
              "    <tr>\n",
              "      <th>2021-09-28</th>\n",
              "      <td>-1.154704</td>\n",
              "      <td>1.306989</td>\n",
              "      <td>-0.506679</td>\n",
              "      <td>-2.206528</td>\n",
              "    </tr>\n",
              "    <tr>\n",
              "      <th>2021-09-29</th>\n",
              "      <td>1.252204</td>\n",
              "      <td>0.615351</td>\n",
              "      <td>-0.569585</td>\n",
              "      <td>1.125658</td>\n",
              "    </tr>\n",
              "  </tbody>\n",
              "</table>\n",
              "</div>"
            ],
            "text/plain": [
              "                   A         B         C         D\n",
              "2021-09-27  1.571513  0.824288  1.251159  0.313007\n",
              "2021-09-28 -1.154704  1.306989 -0.506679 -2.206528\n",
              "2021-09-29  1.252204  0.615351 -0.569585  1.125658"
            ]
          },
          "metadata": {},
          "execution_count": 38
        }
      ]
    },
    {
      "cell_type": "markdown",
      "metadata": {
        "id": "fDoWVVGHx5su"
      },
      "source": [
        "#### Selecting data by Boolean indexing"
      ]
    },
    {
      "cell_type": "code",
      "metadata": {
        "id": "CG7LipUrx5sv",
        "colab": {
          "base_uri": "https://localhost:8080/",
          "height": 235
        },
        "outputId": "2a9ec088-3a29-4479-d400-5c658ffb618c"
      },
      "source": [
        "df"
      ],
      "execution_count": 43,
      "outputs": [
        {
          "output_type": "execute_result",
          "data": {
            "text/html": [
              "<div>\n",
              "<style scoped>\n",
              "    .dataframe tbody tr th:only-of-type {\n",
              "        vertical-align: middle;\n",
              "    }\n",
              "\n",
              "    .dataframe tbody tr th {\n",
              "        vertical-align: top;\n",
              "    }\n",
              "\n",
              "    .dataframe thead th {\n",
              "        text-align: right;\n",
              "    }\n",
              "</style>\n",
              "<table border=\"1\" class=\"dataframe\">\n",
              "  <thead>\n",
              "    <tr style=\"text-align: right;\">\n",
              "      <th></th>\n",
              "      <th>A</th>\n",
              "      <th>B</th>\n",
              "      <th>C</th>\n",
              "      <th>D</th>\n",
              "    </tr>\n",
              "  </thead>\n",
              "  <tbody>\n",
              "    <tr>\n",
              "      <th>2021-09-27</th>\n",
              "      <td>1.571513</td>\n",
              "      <td>0.824288</td>\n",
              "      <td>1.251159</td>\n",
              "      <td>0.313007</td>\n",
              "    </tr>\n",
              "    <tr>\n",
              "      <th>2021-09-28</th>\n",
              "      <td>-1.154704</td>\n",
              "      <td>1.306989</td>\n",
              "      <td>-0.506679</td>\n",
              "      <td>-2.206528</td>\n",
              "    </tr>\n",
              "    <tr>\n",
              "      <th>2021-09-29</th>\n",
              "      <td>1.252204</td>\n",
              "      <td>0.615351</td>\n",
              "      <td>-0.569585</td>\n",
              "      <td>1.125658</td>\n",
              "    </tr>\n",
              "    <tr>\n",
              "      <th>2021-09-30</th>\n",
              "      <td>-0.012628</td>\n",
              "      <td>-0.688718</td>\n",
              "      <td>0.641363</td>\n",
              "      <td>-1.818425</td>\n",
              "    </tr>\n",
              "    <tr>\n",
              "      <th>2021-10-01</th>\n",
              "      <td>0.969942</td>\n",
              "      <td>0.585260</td>\n",
              "      <td>-1.168469</td>\n",
              "      <td>-1.180179</td>\n",
              "    </tr>\n",
              "    <tr>\n",
              "      <th>2021-10-02</th>\n",
              "      <td>0.222842</td>\n",
              "      <td>1.719158</td>\n",
              "      <td>0.807445</td>\n",
              "      <td>-0.339916</td>\n",
              "    </tr>\n",
              "  </tbody>\n",
              "</table>\n",
              "</div>"
            ],
            "text/plain": [
              "                   A         B         C         D\n",
              "2021-09-27  1.571513  0.824288  1.251159  0.313007\n",
              "2021-09-28 -1.154704  1.306989 -0.506679 -2.206528\n",
              "2021-09-29  1.252204  0.615351 -0.569585  1.125658\n",
              "2021-09-30 -0.012628 -0.688718  0.641363 -1.818425\n",
              "2021-10-01  0.969942  0.585260 -1.168469 -1.180179\n",
              "2021-10-02  0.222842  1.719158  0.807445 -0.339916"
            ]
          },
          "metadata": {},
          "execution_count": 43
        }
      ]
    },
    {
      "cell_type": "code",
      "metadata": {
        "id": "U5If1VEYx5sy",
        "colab": {
          "base_uri": "https://localhost:8080/",
          "height": 235
        },
        "outputId": "6d635f83-7ac1-4397-8d61-a52da000af8c"
      },
      "source": [
        "df > 0"
      ],
      "execution_count": 44,
      "outputs": [
        {
          "output_type": "execute_result",
          "data": {
            "text/html": [
              "<div>\n",
              "<style scoped>\n",
              "    .dataframe tbody tr th:only-of-type {\n",
              "        vertical-align: middle;\n",
              "    }\n",
              "\n",
              "    .dataframe tbody tr th {\n",
              "        vertical-align: top;\n",
              "    }\n",
              "\n",
              "    .dataframe thead th {\n",
              "        text-align: right;\n",
              "    }\n",
              "</style>\n",
              "<table border=\"1\" class=\"dataframe\">\n",
              "  <thead>\n",
              "    <tr style=\"text-align: right;\">\n",
              "      <th></th>\n",
              "      <th>A</th>\n",
              "      <th>B</th>\n",
              "      <th>C</th>\n",
              "      <th>D</th>\n",
              "    </tr>\n",
              "  </thead>\n",
              "  <tbody>\n",
              "    <tr>\n",
              "      <th>2021-09-27</th>\n",
              "      <td>True</td>\n",
              "      <td>True</td>\n",
              "      <td>True</td>\n",
              "      <td>True</td>\n",
              "    </tr>\n",
              "    <tr>\n",
              "      <th>2021-09-28</th>\n",
              "      <td>False</td>\n",
              "      <td>True</td>\n",
              "      <td>False</td>\n",
              "      <td>False</td>\n",
              "    </tr>\n",
              "    <tr>\n",
              "      <th>2021-09-29</th>\n",
              "      <td>True</td>\n",
              "      <td>True</td>\n",
              "      <td>False</td>\n",
              "      <td>True</td>\n",
              "    </tr>\n",
              "    <tr>\n",
              "      <th>2021-09-30</th>\n",
              "      <td>False</td>\n",
              "      <td>False</td>\n",
              "      <td>True</td>\n",
              "      <td>False</td>\n",
              "    </tr>\n",
              "    <tr>\n",
              "      <th>2021-10-01</th>\n",
              "      <td>True</td>\n",
              "      <td>True</td>\n",
              "      <td>False</td>\n",
              "      <td>False</td>\n",
              "    </tr>\n",
              "    <tr>\n",
              "      <th>2021-10-02</th>\n",
              "      <td>True</td>\n",
              "      <td>True</td>\n",
              "      <td>True</td>\n",
              "      <td>False</td>\n",
              "    </tr>\n",
              "  </tbody>\n",
              "</table>\n",
              "</div>"
            ],
            "text/plain": [
              "                A      B      C      D\n",
              "2021-09-27   True   True   True   True\n",
              "2021-09-28  False   True  False  False\n",
              "2021-09-29   True   True  False   True\n",
              "2021-09-30  False  False   True  False\n",
              "2021-10-01   True   True  False  False\n",
              "2021-10-02   True   True   True  False"
            ]
          },
          "metadata": {},
          "execution_count": 44
        }
      ]
    },
    {
      "cell_type": "code",
      "metadata": {
        "colab": {
          "base_uri": "https://localhost:8080/",
          "height": 173
        },
        "id": "s_RNBC2q7qle",
        "outputId": "377f5754-216a-4516-e802-370cc27263db"
      },
      "source": [
        "df[df.A > 0]"
      ],
      "execution_count": 45,
      "outputs": [
        {
          "output_type": "execute_result",
          "data": {
            "text/html": [
              "<div>\n",
              "<style scoped>\n",
              "    .dataframe tbody tr th:only-of-type {\n",
              "        vertical-align: middle;\n",
              "    }\n",
              "\n",
              "    .dataframe tbody tr th {\n",
              "        vertical-align: top;\n",
              "    }\n",
              "\n",
              "    .dataframe thead th {\n",
              "        text-align: right;\n",
              "    }\n",
              "</style>\n",
              "<table border=\"1\" class=\"dataframe\">\n",
              "  <thead>\n",
              "    <tr style=\"text-align: right;\">\n",
              "      <th></th>\n",
              "      <th>A</th>\n",
              "      <th>B</th>\n",
              "      <th>C</th>\n",
              "      <th>D</th>\n",
              "    </tr>\n",
              "  </thead>\n",
              "  <tbody>\n",
              "    <tr>\n",
              "      <th>2021-09-27</th>\n",
              "      <td>1.571513</td>\n",
              "      <td>0.824288</td>\n",
              "      <td>1.251159</td>\n",
              "      <td>0.313007</td>\n",
              "    </tr>\n",
              "    <tr>\n",
              "      <th>2021-09-29</th>\n",
              "      <td>1.252204</td>\n",
              "      <td>0.615351</td>\n",
              "      <td>-0.569585</td>\n",
              "      <td>1.125658</td>\n",
              "    </tr>\n",
              "    <tr>\n",
              "      <th>2021-10-01</th>\n",
              "      <td>0.969942</td>\n",
              "      <td>0.585260</td>\n",
              "      <td>-1.168469</td>\n",
              "      <td>-1.180179</td>\n",
              "    </tr>\n",
              "    <tr>\n",
              "      <th>2021-10-02</th>\n",
              "      <td>0.222842</td>\n",
              "      <td>1.719158</td>\n",
              "      <td>0.807445</td>\n",
              "      <td>-0.339916</td>\n",
              "    </tr>\n",
              "  </tbody>\n",
              "</table>\n",
              "</div>"
            ],
            "text/plain": [
              "                   A         B         C         D\n",
              "2021-09-27  1.571513  0.824288  1.251159  0.313007\n",
              "2021-09-29  1.252204  0.615351 -0.569585  1.125658\n",
              "2021-10-01  0.969942  0.585260 -1.168469 -1.180179\n",
              "2021-10-02  0.222842  1.719158  0.807445 -0.339916"
            ]
          },
          "metadata": {},
          "execution_count": 45
        }
      ]
    },
    {
      "cell_type": "code",
      "metadata": {
        "id": "8WkB7Q5rx5s1",
        "colab": {
          "base_uri": "https://localhost:8080/",
          "height": 235
        },
        "outputId": "2546fcee-321c-4ab9-eb93-3f52f6485265"
      },
      "source": [
        "df[df > 0]"
      ],
      "execution_count": 46,
      "outputs": [
        {
          "output_type": "execute_result",
          "data": {
            "text/html": [
              "<div>\n",
              "<style scoped>\n",
              "    .dataframe tbody tr th:only-of-type {\n",
              "        vertical-align: middle;\n",
              "    }\n",
              "\n",
              "    .dataframe tbody tr th {\n",
              "        vertical-align: top;\n",
              "    }\n",
              "\n",
              "    .dataframe thead th {\n",
              "        text-align: right;\n",
              "    }\n",
              "</style>\n",
              "<table border=\"1\" class=\"dataframe\">\n",
              "  <thead>\n",
              "    <tr style=\"text-align: right;\">\n",
              "      <th></th>\n",
              "      <th>A</th>\n",
              "      <th>B</th>\n",
              "      <th>C</th>\n",
              "      <th>D</th>\n",
              "    </tr>\n",
              "  </thead>\n",
              "  <tbody>\n",
              "    <tr>\n",
              "      <th>2021-09-27</th>\n",
              "      <td>1.571513</td>\n",
              "      <td>0.824288</td>\n",
              "      <td>1.251159</td>\n",
              "      <td>0.313007</td>\n",
              "    </tr>\n",
              "    <tr>\n",
              "      <th>2021-09-28</th>\n",
              "      <td>NaN</td>\n",
              "      <td>1.306989</td>\n",
              "      <td>NaN</td>\n",
              "      <td>NaN</td>\n",
              "    </tr>\n",
              "    <tr>\n",
              "      <th>2021-09-29</th>\n",
              "      <td>1.252204</td>\n",
              "      <td>0.615351</td>\n",
              "      <td>NaN</td>\n",
              "      <td>1.125658</td>\n",
              "    </tr>\n",
              "    <tr>\n",
              "      <th>2021-09-30</th>\n",
              "      <td>NaN</td>\n",
              "      <td>NaN</td>\n",
              "      <td>0.641363</td>\n",
              "      <td>NaN</td>\n",
              "    </tr>\n",
              "    <tr>\n",
              "      <th>2021-10-01</th>\n",
              "      <td>0.969942</td>\n",
              "      <td>0.585260</td>\n",
              "      <td>NaN</td>\n",
              "      <td>NaN</td>\n",
              "    </tr>\n",
              "    <tr>\n",
              "      <th>2021-10-02</th>\n",
              "      <td>0.222842</td>\n",
              "      <td>1.719158</td>\n",
              "      <td>0.807445</td>\n",
              "      <td>NaN</td>\n",
              "    </tr>\n",
              "  </tbody>\n",
              "</table>\n",
              "</div>"
            ],
            "text/plain": [
              "                   A         B         C         D\n",
              "2021-09-27  1.571513  0.824288  1.251159  0.313007\n",
              "2021-09-28       NaN  1.306989       NaN       NaN\n",
              "2021-09-29  1.252204  0.615351       NaN  1.125658\n",
              "2021-09-30       NaN       NaN  0.641363       NaN\n",
              "2021-10-01  0.969942  0.585260       NaN       NaN\n",
              "2021-10-02  0.222842  1.719158  0.807445       NaN"
            ]
          },
          "metadata": {},
          "execution_count": 46
        }
      ]
    }
  ]
}