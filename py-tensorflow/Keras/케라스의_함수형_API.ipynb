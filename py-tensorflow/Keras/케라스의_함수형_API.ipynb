{
  "nbformat": 4,
  "nbformat_minor": 0,
  "metadata": {
    "colab": {
      "name": "케라스의 함수형 API.ipynb",
      "provenance": [],
      "collapsed_sections": [],
      "include_colab_link": true
    },
    "kernelspec": {
      "name": "python3",
      "display_name": "Python 3"
    },
    "language_info": {
      "name": "python"
    }
  },
  "cells": [
    {
      "cell_type": "markdown",
      "metadata": {
        "id": "view-in-github",
        "colab_type": "text"
      },
      "source": [
        "<a href=\"https://colab.research.google.com/github/pdm03/pdm03/blob/main/py-tensorflow/Keras/%EC%BC%80%EB%9D%BC%EC%8A%A4%EC%9D%98_%ED%95%A8%EC%88%98%ED%98%95_API.ipynb\" target=\"_parent\"><img src=\"https://colab.research.google.com/assets/colab-badge.svg\" alt=\"Open In Colab\"/></a>"
      ]
    },
    {
      "cell_type": "markdown",
      "metadata": {
        "id": "4xzBewpBPvSU"
      },
      "source": [
        "이 자료는 위키독스 딥 러닝을 이용한 자연어 처리 입문의 함수형 API 튜토리얼입니다.  \n",
        "링크 : https://wikidocs.net/38861\n",
        "\n",
        "> 참고자료: https://teddylee777.github.io/tensorflow/functional-api"
      ]
    },
    {
      "cell_type": "markdown",
      "metadata": {
        "id": "6A2uEJ3APvSV"
      },
      "source": [
        "2021년 10월 12일에 마지막으로 테스트되었습니다.\n",
        "- 2021년 11월 11일 보완."
      ]
    },
    {
      "cell_type": "code",
      "metadata": {
        "id": "Kecr2o6zg27y"
      },
      "source": [
        "import tensorflow as tf"
      ],
      "execution_count": 1,
      "outputs": []
    },
    {
      "cell_type": "code",
      "metadata": {
        "id": "ND9N4tufhCk5",
        "colab": {
          "base_uri": "https://localhost:8080/",
          "height": 35
        },
        "outputId": "d87e60d7-8e07-4d7f-8e07-a49e87076522"
      },
      "source": [
        "tf.__version__"
      ],
      "execution_count": 2,
      "outputs": [
        {
          "output_type": "execute_result",
          "data": {
            "application/vnd.google.colaboratory.intrinsic+json": {
              "type": "string"
            },
            "text/plain": [
              "'2.7.0'"
            ]
          },
          "metadata": {},
          "execution_count": 2
        }
      ]
    },
    {
      "cell_type": "markdown",
      "metadata": {
        "id": "oA1aH__hhOwx"
      },
      "source": [
        "# Keras Model API\n",
        "- Sequential API\n",
        "- Functional API\n",
        "- Subclassing API\n",
        "---\n",
        "## 1. Sequential API"
      ]
    },
    {
      "cell_type": "code",
      "metadata": {
        "id": "EqhaoOSJhDHg",
        "colab": {
          "base_uri": "https://localhost:8080/"
        },
        "outputId": "6a47e9db-dbf0-42f5-c9bf-9889a8566a9b"
      },
      "source": [
        "from tensorflow.keras.models import Sequential\n",
        "from tensorflow.keras.layers import Dense\n",
        "\n",
        "# input-Output Model (No hidden layer)\n",
        "model = Sequential()\n",
        "model.add(Dense(3, input_dim=4, activation='softmax'))\n",
        "model.summary()\n",
        "model.compile(optimizer='rmsprop', loss='categorical_crossentropy', metrics=['accuracy'])"
      ],
      "execution_count": 3,
      "outputs": [
        {
          "output_type": "stream",
          "name": "stdout",
          "text": [
            "Model: \"sequential\"\n",
            "_________________________________________________________________\n",
            " Layer (type)                Output Shape              Param #   \n",
            "=================================================================\n",
            " dense (Dense)               (None, 3)                 15        \n",
            "                                                                 \n",
            "=================================================================\n",
            "Total params: 15\n",
            "Trainable params: 15\n",
            "Non-trainable params: 0\n",
            "_________________________________________________________________\n"
          ]
        }
      ]
    },
    {
      "cell_type": "code",
      "metadata": {
        "id": "ZvhbanWUyXX1",
        "colab": {
          "base_uri": "https://localhost:8080/",
          "height": 201
        },
        "outputId": "3eb06663-b149-4a28-c70f-04781b507641"
      },
      "source": [
        "# Plt model\n",
        "from tensorflow.keras.utils import plot_model\n",
        "plot_model(model, show_shapes=True, show_layer_names=True, to_file='model_S.png')"
      ],
      "execution_count": 13,
      "outputs": [
        {
          "output_type": "execute_result",
          "data": {
            "image/png": "[encoded data removed]",
            "text/plain": [
              "<IPython.core.display.Image object>"
            ]
          },
          "metadata": {},
          "execution_count": 13
        }
      ]
    },
    {
      "cell_type": "markdown",
      "metadata": {
        "id": "TR7Hz0RYn_7Q"
      },
      "source": [
        "## [DIY] 위의 모델에 hidden layer를 다음과 같이 추가하여 model_h1 을 만드시오.\n",
        "- number of neurons: 10\n",
        "- activation function; 'relu'\n"
      ]
    },
    {
      "cell_type": "code",
      "metadata": {
        "id": "TraVK4EhoeIp",
        "colab": {
          "base_uri": "https://localhost:8080/"
        },
        "outputId": "23c08ac4-f6c1-445f-f32d-f47e977b03d3"
      },
      "source": [
        "# Your model : model_h1\n",
        "model_h1 = Sequential()\n",
        "model_h1.add(Dense(10, input_dim=4, activation = 'relu'))\n",
        "model_h1.add(Dense(3, input_dim=4, activation='softmax'))\n",
        "model_h1.summary()\n",
        "model_h1.compile(optimizer='rmsprop', loss='categorical_crossentropy', metrics=['accuracy'])"
      ],
      "execution_count": 14,
      "outputs": [
        {
          "output_type": "stream",
          "name": "stdout",
          "text": [
            "Model: \"sequential_3\"\n",
            "_________________________________________________________________\n",
            " Layer (type)                Output Shape              Param #   \n",
            "=================================================================\n",
            " dense_4 (Dense)             (None, 10)                50        \n",
            "                                                                 \n",
            " dense_5 (Dense)             (None, 3)                 33        \n",
            "                                                                 \n",
            "=================================================================\n",
            "Total params: 83\n",
            "Trainable params: 83\n",
            "Non-trainable params: 0\n",
            "_________________________________________________________________\n"
          ]
        }
      ]
    },
    {
      "cell_type": "code",
      "metadata": {
        "colab": {
          "base_uri": "https://localhost:8080/",
          "height": 272
        },
        "id": "p5NG_nQagyIg",
        "outputId": "bc9c4a3c-4985-465d-c187-dff77cd3a8dd"
      },
      "source": [
        "plot_model(model_h1) # , show_shapes=True, show_layer_names=True, to_file='model_S.png')"
      ],
      "execution_count": 17,
      "outputs": [
        {
          "output_type": "execute_result",
          "data": {
            "image/png": "[encoded data removed]",
            "text/plain": [
              "<IPython.core.display.Image object>"
            ]
          },
          "metadata": {},
          "execution_count": 17
        }
      ]
    },
    {
      "cell_type": "markdown",
      "metadata": {
        "id": "0OpCJGUuhQHe"
      },
      "source": [
        "# 2. Functional API"
      ]
    },
    {
      "cell_type": "markdown",
      "metadata": {
        "id": "Kpg7erK5hSI_"
      },
      "source": [
        "## 2-1. FFNN (Feed-Forward Neural Networks)"
      ]
    },
    {
      "cell_type": "code",
      "metadata": {
        "id": "qRsxxH32hDYg"
      },
      "source": [
        "from tensorflow.keras.layers import Input, Dense\n",
        "from tensorflow.keras.models import Model"
      ],
      "execution_count": 18,
      "outputs": []
    },
    {
      "cell_type": "code",
      "metadata": {
        "id": "9W28qN5xhORg"
      },
      "source": [
        "inputs = Input(shape=(10,))\n",
        "hidden1 = Dense(64, activation='relu')(inputs)\n",
        "hidden2 = Dense(64, activation='relu')(hidden1)\n",
        "output = Dense(1, activation='sigmoid')(hidden2)\n",
        "model = Model(inputs=inputs, outputs=output)"
      ],
      "execution_count": 19,
      "outputs": []
    },
    {
      "cell_type": "code",
      "metadata": {
        "id": "Dxr1LrcEhT-Q",
        "colab": {
          "base_uri": "https://localhost:8080/"
        },
        "outputId": "ae36013d-49f4-44e5-c313-36eb2561af87"
      },
      "source": [
        "model.compile(optimizer='rmsprop', loss='categorical_crossentropy', metrics=['accuracy'])\n",
        "model.summary()"
      ],
      "execution_count": 20,
      "outputs": [
        {
          "output_type": "stream",
          "name": "stdout",
          "text": [
            "Model: \"model\"\n",
            "_________________________________________________________________\n",
            " Layer (type)                Output Shape              Param #   \n",
            "=================================================================\n",
            " input_1 (InputLayer)        [(None, 10)]              0         \n",
            "                                                                 \n",
            " dense_6 (Dense)             (None, 64)                704       \n",
            "                                                                 \n",
            " dense_7 (Dense)             (None, 64)                4160      \n",
            "                                                                 \n",
            " dense_8 (Dense)             (None, 1)                 65        \n",
            "                                                                 \n",
            "=================================================================\n",
            "Total params: 4,929\n",
            "Trainable params: 4,929\n",
            "Non-trainable params: 0\n",
            "_________________________________________________________________\n"
          ]
        }
      ]
    },
    {
      "cell_type": "code",
      "metadata": {
        "id": "CBJ3779yyvG0",
        "colab": {
          "base_uri": "https://localhost:8080/",
          "height": 422
        },
        "outputId": "5e810d6f-4b38-4f74-c6e7-bc19e0973a18"
      },
      "source": [
        "plot_model(model, show_shapes=True, show_layer_names=True, to_file='model_F.png')"
      ],
      "execution_count": 22,
      "outputs": [
        {
          "output_type": "execute_result",
          "data": {
            "image/png": "[encoded data removed]",
            "text/plain": [
              "<IPython.core.display.Image object>"
            ]
          },
          "metadata": {},
          "execution_count": 22
        }
      ]
    },
    {
      "cell_type": "markdown",
      "metadata": {
        "id": "MXNy5F8rhnYs"
      },
      "source": [
        "## 2-2. Linear Regression\n",
        "> 참고: https://wikidocs.net/111472"
      ]
    },
    {
      "cell_type": "code",
      "metadata": {
        "id": "3y3m4iG0hnHx",
        "colab": {
          "base_uri": "https://localhost:8080/"
        },
        "outputId": "844aa86b-8927-4fe1-9c43-443390171d8b"
      },
      "source": [
        "from tensorflow.keras.layers import Input, Dense\n",
        "from tensorflow.keras import optimizers\n",
        "from tensorflow.keras.models import Model\n",
        "\n",
        "X = [1, 2, 3, 4, 5, 6, 7, 8, 9] # 공부하는 시간\n",
        "y = [11, 22, 33, 44, 53, 66, 77, 87, 95] # 각 공부하는 시간에 맵핑되는 성적\n",
        "\n",
        "inputs = Input(shape=(1,))\n",
        "output = Dense(1, activation='linear')(inputs)\n",
        "linear_model = Model(inputs, output)\n",
        "\n",
        "sgd = optimizers.SGD(learning_rate=0.01)\n",
        "\n",
        "linear_model.compile(optimizer=sgd ,loss='mse',metrics=['mse'])\n",
        "linear_model.fit(X, y, epochs=300)"
      ],
      "execution_count": 23,
      "outputs": [
        {
          "output_type": "stream",
          "name": "stdout",
          "text": [
            "Epoch 1/300\n",
            "1/1 [==============================] - 1s 798ms/step - loss: 3473.7053 - mse: 3473.7053\n",
            "Epoch 2/300\n",
            "1/1 [==============================] - 0s 6ms/step - loss: 428.4652 - mse: 428.4652\n",
            "Epoch 3/300\n",
            "1/1 [==============================] - 0s 6ms/step - loss: 53.7702 - mse: 53.7702\n",
            "Epoch 4/300\n",
            "1/1 [==============================] - 0s 6ms/step - loss: 7.6658 - mse: 7.6658\n",
            "Epoch 5/300\n",
            "1/1 [==============================] - 0s 6ms/step - loss: 1.9920 - mse: 1.9920\n",
            "Epoch 6/300\n",
            "1/1 [==============================] - 0s 5ms/step - loss: 1.2930 - mse: 1.2930\n",
            "Epoch 7/300\n",
            "1/1 [==============================] - 0s 5ms/step - loss: 1.2060 - mse: 1.2060\n",
            "Epoch 8/300\n",
            "1/1 [==============================] - 0s 5ms/step - loss: 1.1943 - mse: 1.1943\n",
            "Epoch 9/300\n",
            "1/1 [==============================] - 0s 6ms/step - loss: 1.1919 - mse: 1.1919\n",
            "Epoch 10/300\n",
            "1/1 [==============================] - 0s 6ms/step - loss: 1.1907 - mse: 1.1907\n",
            "Epoch 11/300\n",
            "1/1 [==============================] - 0s 5ms/step - loss: 1.1896 - mse: 1.1896\n",
            "Epoch 12/300\n",
            "1/1 [==============================] - 0s 6ms/step - loss: 1.1885 - mse: 1.1885\n",
            "Epoch 13/300\n",
            "1/1 [==============================] - 0s 6ms/step - loss: 1.1875 - mse: 1.1875\n",
            "Epoch 14/300\n",
            "1/1 [==============================] - 0s 5ms/step - loss: 1.1864 - mse: 1.1864\n",
            "Epoch 15/300\n",
            "1/1 [==============================] - 0s 6ms/step - loss: 1.1854 - mse: 1.1854\n",
            "Epoch 16/300\n",
            "1/1 [==============================] - 0s 6ms/step - loss: 1.1843 - mse: 1.1843\n",
            "Epoch 17/300\n",
            "1/1 [==============================] - 0s 6ms/step - loss: 1.1833 - mse: 1.1833\n",
            "Epoch 18/300\n",
            "1/1 [==============================] - 0s 6ms/step - loss: 1.1823 - mse: 1.1823\n",
            "Epoch 19/300\n",
            "1/1 [==============================] - 0s 6ms/step - loss: 1.1813 - mse: 1.1813\n",
            "Epoch 20/300\n",
            "1/1 [==============================] - 0s 5ms/step - loss: 1.1803 - mse: 1.1803\n",
            "Epoch 21/300\n",
            "1/1 [==============================] - 0s 8ms/step - loss: 1.1793 - mse: 1.1793\n",
            "Epoch 22/300\n",
            "1/1 [==============================] - 0s 9ms/step - loss: 1.1783 - mse: 1.1783\n",
            "Epoch 23/300\n",
            "1/1 [==============================] - 0s 6ms/step - loss: 1.1774 - mse: 1.1774\n",
            "Epoch 24/300\n",
            "1/1 [==============================] - 0s 5ms/step - loss: 1.1764 - mse: 1.1764\n",
            "Epoch 25/300\n",
            "1/1 [==============================] - 0s 5ms/step - loss: 1.1755 - mse: 1.1755\n",
            "Epoch 26/300\n",
            "1/1 [==============================] - 0s 5ms/step - loss: 1.1745 - mse: 1.1745\n",
            "Epoch 27/300\n",
            "1/1 [==============================] - 0s 7ms/step - loss: 1.1736 - mse: 1.1736\n",
            "Epoch 28/300\n",
            "1/1 [==============================] - 0s 5ms/step - loss: 1.1726 - mse: 1.1726\n",
            "Epoch 29/300\n",
            "1/1 [==============================] - 0s 6ms/step - loss: 1.1717 - mse: 1.1717\n",
            "Epoch 30/300\n",
            "1/1 [==============================] - 0s 10ms/step - loss: 1.1708 - mse: 1.1708\n",
            "Epoch 31/300\n",
            "1/1 [==============================] - 0s 7ms/step - loss: 1.1699 - mse: 1.1699\n",
            "Epoch 32/300\n",
            "1/1 [==============================] - 0s 6ms/step - loss: 1.1690 - mse: 1.1690\n",
            "Epoch 33/300\n",
            "1/1 [==============================] - 0s 5ms/step - loss: 1.1681 - mse: 1.1681\n",
            "Epoch 34/300\n",
            "1/1 [==============================] - 0s 6ms/step - loss: 1.1672 - mse: 1.1672\n",
            "Epoch 35/300\n",
            "1/1 [==============================] - 0s 11ms/step - loss: 1.1663 - mse: 1.1663\n",
            "Epoch 36/300\n",
            "1/1 [==============================] - 0s 14ms/step - loss: 1.1655 - mse: 1.1655\n",
            "Epoch 37/300\n",
            "1/1 [==============================] - 0s 7ms/step - loss: 1.1646 - mse: 1.1646\n",
            "Epoch 38/300\n",
            "1/1 [==============================] - 0s 8ms/step - loss: 1.1637 - mse: 1.1637\n",
            "Epoch 39/300\n",
            "1/1 [==============================] - 0s 7ms/step - loss: 1.1629 - mse: 1.1629\n",
            "Epoch 40/300\n",
            "1/1 [==============================] - 0s 6ms/step - loss: 1.1620 - mse: 1.1620\n",
            "Epoch 41/300\n",
            "1/1 [==============================] - 0s 11ms/step - loss: 1.1612 - mse: 1.1612\n",
            "Epoch 42/300\n",
            "1/1 [==============================] - 0s 6ms/step - loss: 1.1604 - mse: 1.1604\n",
            "Epoch 43/300\n",
            "1/1 [==============================] - 0s 6ms/step - loss: 1.1595 - mse: 1.1595\n",
            "Epoch 44/300\n",
            "1/1 [==============================] - 0s 12ms/step - loss: 1.1587 - mse: 1.1587\n",
            "Epoch 45/300\n",
            "1/1 [==============================] - 0s 7ms/step - loss: 1.1579 - mse: 1.1579\n",
            "Epoch 46/300\n",
            "1/1 [==============================] - 0s 8ms/step - loss: 1.1571 - mse: 1.1571\n",
            "Epoch 47/300\n",
            "1/1 [==============================] - 0s 8ms/step - loss: 1.1563 - mse: 1.1563\n",
            "Epoch 48/300\n",
            "1/1 [==============================] - 0s 6ms/step - loss: 1.1555 - mse: 1.1555\n",
            "Epoch 49/300\n",
            "1/1 [==============================] - 0s 7ms/step - loss: 1.1547 - mse: 1.1547\n",
            "Epoch 50/300\n",
            "1/1 [==============================] - 0s 7ms/step - loss: 1.1540 - mse: 1.1540\n",
            "Epoch 51/300\n",
            "1/1 [==============================] - 0s 6ms/step - loss: 1.1532 - mse: 1.1532\n",
            "Epoch 52/300\n",
            "1/1 [==============================] - 0s 6ms/step - loss: 1.1524 - mse: 1.1524\n",
            "Epoch 53/300\n",
            "1/1 [==============================] - 0s 8ms/step - loss: 1.1517 - mse: 1.1517\n",
            "Epoch 54/300\n",
            "1/1 [==============================] - 0s 12ms/step - loss: 1.1509 - mse: 1.1509\n",
            "Epoch 55/300\n",
            "1/1 [==============================] - 0s 7ms/step - loss: 1.1502 - mse: 1.1502\n",
            "Epoch 56/300\n",
            "1/1 [==============================] - 0s 14ms/step - loss: 1.1494 - mse: 1.1494\n",
            "Epoch 57/300\n",
            "1/1 [==============================] - 0s 7ms/step - loss: 1.1487 - mse: 1.1487\n",
            "Epoch 58/300\n",
            "1/1 [==============================] - 0s 6ms/step - loss: 1.1480 - mse: 1.1480\n",
            "Epoch 59/300\n",
            "1/1 [==============================] - 0s 10ms/step - loss: 1.1472 - mse: 1.1472\n",
            "Epoch 60/300\n",
            "1/1 [==============================] - 0s 13ms/step - loss: 1.1465 - mse: 1.1465\n",
            "Epoch 61/300\n",
            "1/1 [==============================] - 0s 8ms/step - loss: 1.1458 - mse: 1.1458\n",
            "Epoch 62/300\n",
            "1/1 [==============================] - 0s 7ms/step - loss: 1.1451 - mse: 1.1451\n",
            "Epoch 63/300\n",
            "1/1 [==============================] - 0s 12ms/step - loss: 1.1444 - mse: 1.1444\n",
            "Epoch 64/300\n",
            "1/1 [==============================] - 0s 15ms/step - loss: 1.1437 - mse: 1.1437\n",
            "Epoch 65/300\n",
            "1/1 [==============================] - 0s 6ms/step - loss: 1.1430 - mse: 1.1430\n",
            "Epoch 66/300\n",
            "1/1 [==============================] - 0s 14ms/step - loss: 1.1423 - mse: 1.1423\n",
            "Epoch 67/300\n",
            "1/1 [==============================] - 0s 11ms/step - loss: 1.1417 - mse: 1.1417\n",
            "Epoch 68/300\n",
            "1/1 [==============================] - 0s 6ms/step - loss: 1.1410 - mse: 1.1410\n",
            "Epoch 69/300\n",
            "1/1 [==============================] - 0s 6ms/step - loss: 1.1403 - mse: 1.1403\n",
            "Epoch 70/300\n",
            "1/1 [==============================] - 0s 7ms/step - loss: 1.1397 - mse: 1.1397\n",
            "Epoch 71/300\n",
            "1/1 [==============================] - 0s 7ms/step - loss: 1.1390 - mse: 1.1390\n",
            "Epoch 72/300\n",
            "1/1 [==============================] - 0s 6ms/step - loss: 1.1384 - mse: 1.1384\n",
            "Epoch 73/300\n",
            "1/1 [==============================] - 0s 9ms/step - loss: 1.1377 - mse: 1.1377\n",
            "Epoch 74/300\n",
            "1/1 [==============================] - 0s 13ms/step - loss: 1.1371 - mse: 1.1371\n",
            "Epoch 75/300\n",
            "1/1 [==============================] - 0s 9ms/step - loss: 1.1365 - mse: 1.1365\n",
            "Epoch 76/300\n",
            "1/1 [==============================] - 0s 5ms/step - loss: 1.1358 - mse: 1.1358\n",
            "Epoch 77/300\n",
            "1/1 [==============================] - 0s 6ms/step - loss: 1.1352 - mse: 1.1352\n",
            "Epoch 78/300\n",
            "1/1 [==============================] - 0s 5ms/step - loss: 1.1346 - mse: 1.1346\n",
            "Epoch 79/300\n",
            "1/1 [==============================] - 0s 6ms/step - loss: 1.1340 - mse: 1.1340\n",
            "Epoch 80/300\n",
            "1/1 [==============================] - 0s 7ms/step - loss: 1.1334 - mse: 1.1334\n",
            "Epoch 81/300\n",
            "1/1 [==============================] - 0s 6ms/step - loss: 1.1328 - mse: 1.1328\n",
            "Epoch 82/300\n",
            "1/1 [==============================] - 0s 7ms/step - loss: 1.1322 - mse: 1.1322\n",
            "Epoch 83/300\n",
            "1/1 [==============================] - 0s 7ms/step - loss: 1.1316 - mse: 1.1316\n",
            "Epoch 84/300\n",
            "1/1 [==============================] - 0s 9ms/step - loss: 1.1310 - mse: 1.1310\n",
            "Epoch 85/300\n",
            "1/1 [==============================] - 0s 12ms/step - loss: 1.1304 - mse: 1.1304\n",
            "Epoch 86/300\n",
            "1/1 [==============================] - 0s 9ms/step - loss: 1.1298 - mse: 1.1298\n",
            "Epoch 87/300\n",
            "1/1 [==============================] - 0s 5ms/step - loss: 1.1293 - mse: 1.1293\n",
            "Epoch 88/300\n",
            "1/1 [==============================] - 0s 6ms/step - loss: 1.1287 - mse: 1.1287\n",
            "Epoch 89/300\n",
            "1/1 [==============================] - 0s 5ms/step - loss: 1.1281 - mse: 1.1281\n",
            "Epoch 90/300\n",
            "1/1 [==============================] - 0s 6ms/step - loss: 1.1276 - mse: 1.1276\n",
            "Epoch 91/300\n",
            "1/1 [==============================] - 0s 7ms/step - loss: 1.1270 - mse: 1.1270\n",
            "Epoch 92/300\n",
            "1/1 [==============================] - 0s 6ms/step - loss: 1.1265 - mse: 1.1265\n",
            "Epoch 93/300\n",
            "1/1 [==============================] - 0s 7ms/step - loss: 1.1259 - mse: 1.1259\n",
            "Epoch 94/300\n",
            "1/1 [==============================] - 0s 5ms/step - loss: 1.1254 - mse: 1.1254\n",
            "Epoch 95/300\n",
            "1/1 [==============================] - 0s 6ms/step - loss: 1.1248 - mse: 1.1248\n",
            "Epoch 96/300\n",
            "1/1 [==============================] - 0s 8ms/step - loss: 1.1243 - mse: 1.1243\n",
            "Epoch 97/300\n",
            "1/1 [==============================] - 0s 7ms/step - loss: 1.1238 - mse: 1.1238\n",
            "Epoch 98/300\n",
            "1/1 [==============================] - 0s 7ms/step - loss: 1.1232 - mse: 1.1232\n",
            "Epoch 99/300\n",
            "1/1 [==============================] - 0s 9ms/step - loss: 1.1227 - mse: 1.1227\n",
            "Epoch 100/300\n",
            "1/1 [==============================] - 0s 9ms/step - loss: 1.1222 - mse: 1.1222\n",
            "Epoch 101/300\n",
            "1/1 [==============================] - 0s 9ms/step - loss: 1.1217 - mse: 1.1217\n",
            "Epoch 102/300\n",
            "1/1 [==============================] - 0s 7ms/step - loss: 1.1212 - mse: 1.1212\n",
            "Epoch 103/300\n",
            "1/1 [==============================] - 0s 12ms/step - loss: 1.1207 - mse: 1.1207\n",
            "Epoch 104/300\n",
            "1/1 [==============================] - 0s 17ms/step - loss: 1.1202 - mse: 1.1202\n",
            "Epoch 105/300\n",
            "1/1 [==============================] - 0s 7ms/step - loss: 1.1197 - mse: 1.1197\n",
            "Epoch 106/300\n",
            "1/1 [==============================] - 0s 8ms/step - loss: 1.1192 - mse: 1.1192\n",
            "Epoch 107/300\n",
            "1/1 [==============================] - 0s 11ms/step - loss: 1.1187 - mse: 1.1187\n",
            "Epoch 108/300\n",
            "1/1 [==============================] - 0s 8ms/step - loss: 1.1182 - mse: 1.1182\n",
            "Epoch 109/300\n",
            "1/1 [==============================] - 0s 7ms/step - loss: 1.1178 - mse: 1.1178\n",
            "Epoch 110/300\n",
            "1/1 [==============================] - 0s 6ms/step - loss: 1.1173 - mse: 1.1173\n",
            "Epoch 111/300\n",
            "1/1 [==============================] - 0s 6ms/step - loss: 1.1168 - mse: 1.1168\n",
            "Epoch 112/300\n",
            "1/1 [==============================] - 0s 9ms/step - loss: 1.1164 - mse: 1.1164\n",
            "Epoch 113/300\n",
            "1/1 [==============================] - 0s 10ms/step - loss: 1.1159 - mse: 1.1159\n",
            "Epoch 114/300\n",
            "1/1 [==============================] - 0s 10ms/step - loss: 1.1154 - mse: 1.1154\n",
            "Epoch 115/300\n",
            "1/1 [==============================] - 0s 7ms/step - loss: 1.1150 - mse: 1.1150\n",
            "Epoch 116/300\n",
            "1/1 [==============================] - 0s 6ms/step - loss: 1.1145 - mse: 1.1145\n",
            "Epoch 117/300\n",
            "1/1 [==============================] - 0s 8ms/step - loss: 1.1141 - mse: 1.1141\n",
            "Epoch 118/300\n",
            "1/1 [==============================] - 0s 6ms/step - loss: 1.1136 - mse: 1.1136\n",
            "Epoch 119/300\n",
            "1/1 [==============================] - 0s 6ms/step - loss: 1.1132 - mse: 1.1132\n",
            "Epoch 120/300\n",
            "1/1 [==============================] - 0s 6ms/step - loss: 1.1127 - mse: 1.1127\n",
            "Epoch 121/300\n",
            "1/1 [==============================] - 0s 5ms/step - loss: 1.1123 - mse: 1.1123\n",
            "Epoch 122/300\n",
            "1/1 [==============================] - 0s 9ms/step - loss: 1.1119 - mse: 1.1119\n",
            "Epoch 123/300\n",
            "1/1 [==============================] - 0s 6ms/step - loss: 1.1115 - mse: 1.1115\n",
            "Epoch 124/300\n",
            "1/1 [==============================] - 0s 5ms/step - loss: 1.1110 - mse: 1.1110\n",
            "Epoch 125/300\n",
            "1/1 [==============================] - 0s 6ms/step - loss: 1.1106 - mse: 1.1106\n",
            "Epoch 126/300\n",
            "1/1 [==============================] - 0s 6ms/step - loss: 1.1102 - mse: 1.1102\n",
            "Epoch 127/300\n",
            "1/1 [==============================] - 0s 6ms/step - loss: 1.1098 - mse: 1.1098\n",
            "Epoch 128/300\n",
            "1/1 [==============================] - 0s 7ms/step - loss: 1.1094 - mse: 1.1094\n",
            "Epoch 129/300\n",
            "1/1 [==============================] - 0s 6ms/step - loss: 1.1090 - mse: 1.1090\n",
            "Epoch 130/300\n",
            "1/1 [==============================] - 0s 6ms/step - loss: 1.1086 - mse: 1.1086\n",
            "Epoch 131/300\n",
            "1/1 [==============================] - 0s 5ms/step - loss: 1.1082 - mse: 1.1082\n",
            "Epoch 132/300\n",
            "1/1 [==============================] - 0s 6ms/step - loss: 1.1078 - mse: 1.1078\n",
            "Epoch 133/300\n",
            "1/1 [==============================] - 0s 5ms/step - loss: 1.1074 - mse: 1.1074\n",
            "Epoch 134/300\n",
            "1/1 [==============================] - 0s 6ms/step - loss: 1.1070 - mse: 1.1070\n",
            "Epoch 135/300\n",
            "1/1 [==============================] - 0s 6ms/step - loss: 1.1066 - mse: 1.1066\n",
            "Epoch 136/300\n",
            "1/1 [==============================] - 0s 8ms/step - loss: 1.1062 - mse: 1.1062\n",
            "Epoch 137/300\n",
            "1/1 [==============================] - 0s 7ms/step - loss: 1.1058 - mse: 1.1058\n",
            "Epoch 138/300\n",
            "1/1 [==============================] - 0s 6ms/step - loss: 1.1055 - mse: 1.1055\n",
            "Epoch 139/300\n",
            "1/1 [==============================] - 0s 13ms/step - loss: 1.1051 - mse: 1.1051\n",
            "Epoch 140/300\n",
            "1/1 [==============================] - 0s 6ms/step - loss: 1.1047 - mse: 1.1047\n",
            "Epoch 141/300\n",
            "1/1 [==============================] - 0s 9ms/step - loss: 1.1044 - mse: 1.1044\n",
            "Epoch 142/300\n",
            "1/1 [==============================] - 0s 8ms/step - loss: 1.1040 - mse: 1.1040\n",
            "Epoch 143/300\n",
            "1/1 [==============================] - 0s 8ms/step - loss: 1.1036 - mse: 1.1036\n",
            "Epoch 144/300\n",
            "1/1 [==============================] - 0s 7ms/step - loss: 1.1033 - mse: 1.1033\n",
            "Epoch 145/300\n",
            "1/1 [==============================] - 0s 9ms/step - loss: 1.1029 - mse: 1.1029\n",
            "Epoch 146/300\n",
            "1/1 [==============================] - 0s 9ms/step - loss: 1.1026 - mse: 1.1026\n",
            "Epoch 147/300\n",
            "1/1 [==============================] - 0s 8ms/step - loss: 1.1022 - mse: 1.1022\n",
            "Epoch 148/300\n",
            "1/1 [==============================] - 0s 10ms/step - loss: 1.1019 - mse: 1.1019\n",
            "Epoch 149/300\n",
            "1/1 [==============================] - 0s 6ms/step - loss: 1.1015 - mse: 1.1015\n",
            "Epoch 150/300\n",
            "1/1 [==============================] - 0s 12ms/step - loss: 1.1012 - mse: 1.1012\n",
            "Epoch 151/300\n",
            "1/1 [==============================] - 0s 9ms/step - loss: 1.1008 - mse: 1.1008\n",
            "Epoch 152/300\n",
            "1/1 [==============================] - 0s 6ms/step - loss: 1.1005 - mse: 1.1005\n",
            "Epoch 153/300\n",
            "1/1 [==============================] - 0s 18ms/step - loss: 1.1002 - mse: 1.1002\n",
            "Epoch 154/300\n",
            "1/1 [==============================] - 0s 9ms/step - loss: 1.0998 - mse: 1.0998\n",
            "Epoch 155/300\n",
            "1/1 [==============================] - 0s 7ms/step - loss: 1.0995 - mse: 1.0995\n",
            "Epoch 156/300\n",
            "1/1 [==============================] - 0s 16ms/step - loss: 1.0992 - mse: 1.0992\n",
            "Epoch 157/300\n",
            "1/1 [==============================] - 0s 6ms/step - loss: 1.0989 - mse: 1.0989\n",
            "Epoch 158/300\n",
            "1/1 [==============================] - 0s 8ms/step - loss: 1.0986 - mse: 1.0986\n",
            "Epoch 159/300\n",
            "1/1 [==============================] - 0s 7ms/step - loss: 1.0982 - mse: 1.0982\n",
            "Epoch 160/300\n",
            "1/1 [==============================] - 0s 16ms/step - loss: 1.0979 - mse: 1.0979\n",
            "Epoch 161/300\n",
            "1/1 [==============================] - 0s 6ms/step - loss: 1.0976 - mse: 1.0976\n",
            "Epoch 162/300\n",
            "1/1 [==============================] - 0s 7ms/step - loss: 1.0973 - mse: 1.0973\n",
            "Epoch 163/300\n",
            "1/1 [==============================] - 0s 13ms/step - loss: 1.0970 - mse: 1.0970\n",
            "Epoch 164/300\n",
            "1/1 [==============================] - 0s 12ms/step - loss: 1.0967 - mse: 1.0967\n",
            "Epoch 165/300\n",
            "1/1 [==============================] - 0s 7ms/step - loss: 1.0964 - mse: 1.0964\n",
            "Epoch 166/300\n",
            "1/1 [==============================] - 0s 10ms/step - loss: 1.0961 - mse: 1.0961\n",
            "Epoch 167/300\n",
            "1/1 [==============================] - 0s 14ms/step - loss: 1.0958 - mse: 1.0958\n",
            "Epoch 168/300\n",
            "1/1 [==============================] - 0s 10ms/step - loss: 1.0955 - mse: 1.0955\n",
            "Epoch 169/300\n",
            "1/1 [==============================] - 0s 8ms/step - loss: 1.0952 - mse: 1.0952\n",
            "Epoch 170/300\n",
            "1/1 [==============================] - 0s 12ms/step - loss: 1.0949 - mse: 1.0949\n",
            "Epoch 171/300\n",
            "1/1 [==============================] - 0s 8ms/step - loss: 1.0946 - mse: 1.0946\n",
            "Epoch 172/300\n",
            "1/1 [==============================] - 0s 8ms/step - loss: 1.0943 - mse: 1.0943\n",
            "Epoch 173/300\n",
            "1/1 [==============================] - 0s 6ms/step - loss: 1.0941 - mse: 1.0941\n",
            "Epoch 174/300\n",
            "1/1 [==============================] - 0s 9ms/step - loss: 1.0938 - mse: 1.0938\n",
            "Epoch 175/300\n",
            "1/1 [==============================] - 0s 6ms/step - loss: 1.0935 - mse: 1.0935\n",
            "Epoch 176/300\n",
            "1/1 [==============================] - 0s 6ms/step - loss: 1.0932 - mse: 1.0932\n",
            "Epoch 177/300\n",
            "1/1 [==============================] - 0s 10ms/step - loss: 1.0929 - mse: 1.0929\n",
            "Epoch 178/300\n",
            "1/1 [==============================] - 0s 5ms/step - loss: 1.0927 - mse: 1.0927\n",
            "Epoch 179/300\n",
            "1/1 [==============================] - 0s 5ms/step - loss: 1.0924 - mse: 1.0924\n",
            "Epoch 180/300\n",
            "1/1 [==============================] - 0s 5ms/step - loss: 1.0921 - mse: 1.0921\n",
            "Epoch 181/300\n",
            "1/1 [==============================] - 0s 7ms/step - loss: 1.0919 - mse: 1.0919\n",
            "Epoch 182/300\n",
            "1/1 [==============================] - 0s 6ms/step - loss: 1.0916 - mse: 1.0916\n",
            "Epoch 183/300\n",
            "1/1 [==============================] - 0s 6ms/step - loss: 1.0914 - mse: 1.0914\n",
            "Epoch 184/300\n",
            "1/1 [==============================] - 0s 5ms/step - loss: 1.0911 - mse: 1.0911\n",
            "Epoch 185/300\n",
            "1/1 [==============================] - 0s 6ms/step - loss: 1.0908 - mse: 1.0908\n",
            "Epoch 186/300\n",
            "1/1 [==============================] - 0s 6ms/step - loss: 1.0906 - mse: 1.0906\n",
            "Epoch 187/300\n",
            "1/1 [==============================] - 0s 14ms/step - loss: 1.0903 - mse: 1.0903\n",
            "Epoch 188/300\n",
            "1/1 [==============================] - 0s 7ms/step - loss: 1.0901 - mse: 1.0901\n",
            "Epoch 189/300\n",
            "1/1 [==============================] - 0s 6ms/step - loss: 1.0898 - mse: 1.0898\n",
            "Epoch 190/300\n",
            "1/1 [==============================] - 0s 5ms/step - loss: 1.0896 - mse: 1.0896\n",
            "Epoch 191/300\n",
            "1/1 [==============================] - 0s 5ms/step - loss: 1.0893 - mse: 1.0893\n",
            "Epoch 192/300\n",
            "1/1 [==============================] - 0s 5ms/step - loss: 1.0891 - mse: 1.0891\n",
            "Epoch 193/300\n",
            "1/1 [==============================] - 0s 5ms/step - loss: 1.0889 - mse: 1.0889\n",
            "Epoch 194/300\n",
            "1/1 [==============================] - 0s 8ms/step - loss: 1.0886 - mse: 1.0886\n",
            "Epoch 195/300\n",
            "1/1 [==============================] - 0s 7ms/step - loss: 1.0884 - mse: 1.0884\n",
            "Epoch 196/300\n",
            "1/1 [==============================] - 0s 15ms/step - loss: 1.0882 - mse: 1.0882\n",
            "Epoch 197/300\n",
            "1/1 [==============================] - 0s 11ms/step - loss: 1.0879 - mse: 1.0879\n",
            "Epoch 198/300\n",
            "1/1 [==============================] - 0s 19ms/step - loss: 1.0877 - mse: 1.0877\n",
            "Epoch 199/300\n",
            "1/1 [==============================] - 0s 6ms/step - loss: 1.0875 - mse: 1.0875\n",
            "Epoch 200/300\n",
            "1/1 [==============================] - 0s 16ms/step - loss: 1.0872 - mse: 1.0872\n",
            "Epoch 201/300\n",
            "1/1 [==============================] - 0s 12ms/step - loss: 1.0870 - mse: 1.0870\n",
            "Epoch 202/300\n",
            "1/1 [==============================] - 0s 6ms/step - loss: 1.0868 - mse: 1.0868\n",
            "Epoch 203/300\n",
            "1/1 [==============================] - 0s 15ms/step - loss: 1.0866 - mse: 1.0866\n",
            "Epoch 204/300\n",
            "1/1 [==============================] - 0s 7ms/step - loss: 1.0864 - mse: 1.0864\n",
            "Epoch 205/300\n",
            "1/1 [==============================] - 0s 7ms/step - loss: 1.0861 - mse: 1.0861\n",
            "Epoch 206/300\n",
            "1/1 [==============================] - 0s 7ms/step - loss: 1.0859 - mse: 1.0859\n",
            "Epoch 207/300\n",
            "1/1 [==============================] - 0s 6ms/step - loss: 1.0857 - mse: 1.0857\n",
            "Epoch 208/300\n",
            "1/1 [==============================] - 0s 11ms/step - loss: 1.0855 - mse: 1.0855\n",
            "Epoch 209/300\n",
            "1/1 [==============================] - 0s 11ms/step - loss: 1.0853 - mse: 1.0853\n",
            "Epoch 210/300\n",
            "1/1 [==============================] - 0s 10ms/step - loss: 1.0851 - mse: 1.0851\n",
            "Epoch 211/300\n",
            "1/1 [==============================] - 0s 10ms/step - loss: 1.0849 - mse: 1.0849\n",
            "Epoch 212/300\n",
            "1/1 [==============================] - 0s 7ms/step - loss: 1.0847 - mse: 1.0847\n",
            "Epoch 213/300\n",
            "1/1 [==============================] - 0s 7ms/step - loss: 1.0845 - mse: 1.0845\n",
            "Epoch 214/300\n",
            "1/1 [==============================] - 0s 7ms/step - loss: 1.0843 - mse: 1.0843\n",
            "Epoch 215/300\n",
            "1/1 [==============================] - 0s 6ms/step - loss: 1.0841 - mse: 1.0841\n",
            "Epoch 216/300\n",
            "1/1 [==============================] - 0s 5ms/step - loss: 1.0839 - mse: 1.0839\n",
            "Epoch 217/300\n",
            "1/1 [==============================] - 0s 7ms/step - loss: 1.0837 - mse: 1.0837\n",
            "Epoch 218/300\n",
            "1/1 [==============================] - 0s 9ms/step - loss: 1.0835 - mse: 1.0835\n",
            "Epoch 219/300\n",
            "1/1 [==============================] - 0s 10ms/step - loss: 1.0833 - mse: 1.0833\n",
            "Epoch 220/300\n",
            "1/1 [==============================] - 0s 6ms/step - loss: 1.0831 - mse: 1.0831\n",
            "Epoch 221/300\n",
            "1/1 [==============================] - 0s 9ms/step - loss: 1.0829 - mse: 1.0829\n",
            "Epoch 222/300\n",
            "1/1 [==============================] - 0s 6ms/step - loss: 1.0827 - mse: 1.0827\n",
            "Epoch 223/300\n",
            "1/1 [==============================] - 0s 6ms/step - loss: 1.0825 - mse: 1.0825\n",
            "Epoch 224/300\n",
            "1/1 [==============================] - 0s 10ms/step - loss: 1.0823 - mse: 1.0823\n",
            "Epoch 225/300\n",
            "1/1 [==============================] - 0s 10ms/step - loss: 1.0822 - mse: 1.0822\n",
            "Epoch 226/300\n",
            "1/1 [==============================] - 0s 7ms/step - loss: 1.0820 - mse: 1.0820\n",
            "Epoch 227/300\n",
            "1/1 [==============================] - 0s 5ms/step - loss: 1.0818 - mse: 1.0818\n",
            "Epoch 228/300\n",
            "1/1 [==============================] - 0s 5ms/step - loss: 1.0816 - mse: 1.0816\n",
            "Epoch 229/300\n",
            "1/1 [==============================] - 0s 5ms/step - loss: 1.0814 - mse: 1.0814\n",
            "Epoch 230/300\n",
            "1/1 [==============================] - 0s 5ms/step - loss: 1.0813 - mse: 1.0813\n",
            "Epoch 231/300\n",
            "1/1 [==============================] - 0s 8ms/step - loss: 1.0811 - mse: 1.0811\n",
            "Epoch 232/300\n",
            "1/1 [==============================] - 0s 11ms/step - loss: 1.0809 - mse: 1.0809\n",
            "Epoch 233/300\n",
            "1/1 [==============================] - 0s 6ms/step - loss: 1.0807 - mse: 1.0807\n",
            "Epoch 234/300\n",
            "1/1 [==============================] - 0s 6ms/step - loss: 1.0806 - mse: 1.0806\n",
            "Epoch 235/300\n",
            "1/1 [==============================] - 0s 18ms/step - loss: 1.0804 - mse: 1.0804\n",
            "Epoch 236/300\n",
            "1/1 [==============================] - 0s 6ms/step - loss: 1.0802 - mse: 1.0802\n",
            "Epoch 237/300\n",
            "1/1 [==============================] - 0s 7ms/step - loss: 1.0801 - mse: 1.0801\n",
            "Epoch 238/300\n",
            "1/1 [==============================] - 0s 5ms/step - loss: 1.0799 - mse: 1.0799\n",
            "Epoch 239/300\n",
            "1/1 [==============================] - 0s 6ms/step - loss: 1.0797 - mse: 1.0797\n",
            "Epoch 240/300\n",
            "1/1 [==============================] - 0s 6ms/step - loss: 1.0796 - mse: 1.0796\n",
            "Epoch 241/300\n",
            "1/1 [==============================] - 0s 5ms/step - loss: 1.0794 - mse: 1.0794\n",
            "Epoch 242/300\n",
            "1/1 [==============================] - 0s 8ms/step - loss: 1.0792 - mse: 1.0792\n",
            "Epoch 243/300\n",
            "1/1 [==============================] - 0s 5ms/step - loss: 1.0791 - mse: 1.0791\n",
            "Epoch 244/300\n",
            "1/1 [==============================] - 0s 5ms/step - loss: 1.0789 - mse: 1.0789\n",
            "Epoch 245/300\n",
            "1/1 [==============================] - 0s 10ms/step - loss: 1.0788 - mse: 1.0788\n",
            "Epoch 246/300\n",
            "1/1 [==============================] - 0s 6ms/step - loss: 1.0786 - mse: 1.0786\n",
            "Epoch 247/300\n",
            "1/1 [==============================] - 0s 7ms/step - loss: 1.0785 - mse: 1.0785\n",
            "Epoch 248/300\n",
            "1/1 [==============================] - 0s 5ms/step - loss: 1.0783 - mse: 1.0783\n",
            "Epoch 249/300\n",
            "1/1 [==============================] - 0s 9ms/step - loss: 1.0782 - mse: 1.0782\n",
            "Epoch 250/300\n",
            "1/1 [==============================] - 0s 6ms/step - loss: 1.0780 - mse: 1.0780\n",
            "Epoch 251/300\n",
            "1/1 [==============================] - 0s 12ms/step - loss: 1.0779 - mse: 1.0779\n",
            "Epoch 252/300\n",
            "1/1 [==============================] - 0s 7ms/step - loss: 1.0777 - mse: 1.0777\n",
            "Epoch 253/300\n",
            "1/1 [==============================] - 0s 9ms/step - loss: 1.0776 - mse: 1.0776\n",
            "Epoch 254/300\n",
            "1/1 [==============================] - 0s 6ms/step - loss: 1.0774 - mse: 1.0774\n",
            "Epoch 255/300\n",
            "1/1 [==============================] - 0s 6ms/step - loss: 1.0773 - mse: 1.0773\n",
            "Epoch 256/300\n",
            "1/1 [==============================] - 0s 5ms/step - loss: 1.0771 - mse: 1.0771\n",
            "Epoch 257/300\n",
            "1/1 [==============================] - 0s 5ms/step - loss: 1.0770 - mse: 1.0770\n",
            "Epoch 258/300\n",
            "1/1 [==============================] - 0s 6ms/step - loss: 1.0769 - mse: 1.0769\n",
            "Epoch 259/300\n",
            "1/1 [==============================] - 0s 6ms/step - loss: 1.0767 - mse: 1.0767\n",
            "Epoch 260/300\n",
            "1/1 [==============================] - 0s 9ms/step - loss: 1.0766 - mse: 1.0766\n",
            "Epoch 261/300\n",
            "1/1 [==============================] - 0s 9ms/step - loss: 1.0764 - mse: 1.0764\n",
            "Epoch 262/300\n",
            "1/1 [==============================] - 0s 10ms/step - loss: 1.0763 - mse: 1.0763\n",
            "Epoch 263/300\n",
            "1/1 [==============================] - 0s 12ms/step - loss: 1.0762 - mse: 1.0762\n",
            "Epoch 264/300\n",
            "1/1 [==============================] - 0s 6ms/step - loss: 1.0760 - mse: 1.0760\n",
            "Epoch 265/300\n",
            "1/1 [==============================] - 0s 9ms/step - loss: 1.0759 - mse: 1.0759\n",
            "Epoch 266/300\n",
            "1/1 [==============================] - 0s 8ms/step - loss: 1.0758 - mse: 1.0758\n",
            "Epoch 267/300\n",
            "1/1 [==============================] - 0s 9ms/step - loss: 1.0756 - mse: 1.0756\n",
            "Epoch 268/300\n",
            "1/1 [==============================] - 0s 12ms/step - loss: 1.0755 - mse: 1.0755\n",
            "Epoch 269/300\n",
            "1/1 [==============================] - 0s 5ms/step - loss: 1.0754 - mse: 1.0754\n",
            "Epoch 270/300\n",
            "1/1 [==============================] - 0s 14ms/step - loss: 1.0753 - mse: 1.0753\n",
            "Epoch 271/300\n",
            "1/1 [==============================] - 0s 5ms/step - loss: 1.0751 - mse: 1.0751\n",
            "Epoch 272/300\n",
            "1/1 [==============================] - 0s 6ms/step - loss: 1.0750 - mse: 1.0750\n",
            "Epoch 273/300\n",
            "1/1 [==============================] - 0s 10ms/step - loss: 1.0749 - mse: 1.0749\n",
            "Epoch 274/300\n",
            "1/1 [==============================] - 0s 8ms/step - loss: 1.0748 - mse: 1.0748\n",
            "Epoch 275/300\n",
            "1/1 [==============================] - 0s 10ms/step - loss: 1.0746 - mse: 1.0746\n",
            "Epoch 276/300\n",
            "1/1 [==============================] - 0s 12ms/step - loss: 1.0745 - mse: 1.0745\n",
            "Epoch 277/300\n",
            "1/1 [==============================] - 0s 8ms/step - loss: 1.0744 - mse: 1.0744\n",
            "Epoch 278/300\n",
            "1/1 [==============================] - 0s 7ms/step - loss: 1.0743 - mse: 1.0743\n",
            "Epoch 279/300\n",
            "1/1 [==============================] - 0s 6ms/step - loss: 1.0742 - mse: 1.0742\n",
            "Epoch 280/300\n",
            "1/1 [==============================] - 0s 6ms/step - loss: 1.0740 - mse: 1.0740\n",
            "Epoch 281/300\n",
            "1/1 [==============================] - 0s 8ms/step - loss: 1.0739 - mse: 1.0739\n",
            "Epoch 282/300\n",
            "1/1 [==============================] - 0s 6ms/step - loss: 1.0738 - mse: 1.0738\n",
            "Epoch 283/300\n",
            "1/1 [==============================] - 0s 8ms/step - loss: 1.0737 - mse: 1.0737\n",
            "Epoch 284/300\n",
            "1/1 [==============================] - 0s 10ms/step - loss: 1.0736 - mse: 1.0736\n",
            "Epoch 285/300\n",
            "1/1 [==============================] - 0s 6ms/step - loss: 1.0735 - mse: 1.0735\n",
            "Epoch 286/300\n",
            "1/1 [==============================] - 0s 21ms/step - loss: 1.0734 - mse: 1.0734\n",
            "Epoch 287/300\n",
            "1/1 [==============================] - 0s 11ms/step - loss: 1.0732 - mse: 1.0732\n",
            "Epoch 288/300\n",
            "1/1 [==============================] - 0s 16ms/step - loss: 1.0731 - mse: 1.0731\n",
            "Epoch 289/300\n",
            "1/1 [==============================] - 0s 7ms/step - loss: 1.0730 - mse: 1.0730\n",
            "Epoch 290/300\n",
            "1/1 [==============================] - 0s 14ms/step - loss: 1.0729 - mse: 1.0729\n",
            "Epoch 291/300\n",
            "1/1 [==============================] - 0s 8ms/step - loss: 1.0728 - mse: 1.0728\n",
            "Epoch 292/300\n",
            "1/1 [==============================] - 0s 11ms/step - loss: 1.0727 - mse: 1.0727\n",
            "Epoch 293/300\n",
            "1/1 [==============================] - 0s 7ms/step - loss: 1.0726 - mse: 1.0726\n",
            "Epoch 294/300\n",
            "1/1 [==============================] - 0s 5ms/step - loss: 1.0725 - mse: 1.0725\n",
            "Epoch 295/300\n",
            "1/1 [==============================] - 0s 8ms/step - loss: 1.0724 - mse: 1.0724\n",
            "Epoch 296/300\n",
            "1/1 [==============================] - 0s 10ms/step - loss: 1.0723 - mse: 1.0723\n",
            "Epoch 297/300\n",
            "1/1 [==============================] - 0s 5ms/step - loss: 1.0722 - mse: 1.0722\n",
            "Epoch 298/300\n",
            "1/1 [==============================] - 0s 7ms/step - loss: 1.0721 - mse: 1.0721\n",
            "Epoch 299/300\n",
            "1/1 [==============================] - 0s 6ms/step - loss: 1.0720 - mse: 1.0720\n",
            "Epoch 300/300\n",
            "1/1 [==============================] - 0s 6ms/step - loss: 1.0719 - mse: 1.0719\n"
          ]
        },
        {
          "output_type": "execute_result",
          "data": {
            "text/plain": [
              "<keras.callbacks.History at 0x7f4b33afed90>"
            ]
          },
          "metadata": {},
          "execution_count": 23
        }
      ]
    },
    {
      "cell_type": "code",
      "metadata": {
        "id": "U-k31dqbrTIO",
        "colab": {
          "base_uri": "https://localhost:8080/"
        },
        "outputId": "12a9b7d7-3ce0-4804-b955-63c2bf8f99ba"
      },
      "source": [
        "linear_model.get_config()"
      ],
      "execution_count": 24,
      "outputs": [
        {
          "output_type": "execute_result",
          "data": {
            "text/plain": [
              "{'input_layers': [['input_2', 0, 0]],\n",
              " 'layers': [{'class_name': 'InputLayer',\n",
              "   'config': {'batch_input_shape': (None, 1),\n",
              "    'dtype': 'float32',\n",
              "    'name': 'input_2',\n",
              "    'ragged': False,\n",
              "    'sparse': False},\n",
              "   'inbound_nodes': [],\n",
              "   'name': 'input_2'},\n",
              "  {'class_name': 'Dense',\n",
              "   'config': {'activation': 'linear',\n",
              "    'activity_regularizer': None,\n",
              "    'bias_constraint': None,\n",
              "    'bias_initializer': {'class_name': 'Zeros', 'config': {}},\n",
              "    'bias_regularizer': None,\n",
              "    'dtype': 'float32',\n",
              "    'kernel_constraint': None,\n",
              "    'kernel_initializer': {'class_name': 'GlorotUniform',\n",
              "     'config': {'seed': None}},\n",
              "    'kernel_regularizer': None,\n",
              "    'name': 'dense_9',\n",
              "    'trainable': True,\n",
              "    'units': 1,\n",
              "    'use_bias': True},\n",
              "   'inbound_nodes': [[['input_2', 0, 0, {}]]],\n",
              "   'name': 'dense_9'}],\n",
              " 'name': 'model_1',\n",
              " 'output_layers': [['dense_9', 0, 0]]}"
            ]
          },
          "metadata": {},
          "execution_count": 24
        }
      ]
    },
    {
      "cell_type": "code",
      "metadata": {
        "id": "JI0SNxAmGTLS",
        "colab": {
          "base_uri": "https://localhost:8080/"
        },
        "outputId": "d545fdab-885e-432b-8131-796a338a2938"
      },
      "source": [
        "linear_model.predict([11,15])"
      ],
      "execution_count": 25,
      "outputs": [
        {
          "output_type": "execute_result",
          "data": {
            "text/plain": [
              "array([[118.14422],\n",
              "       [160.72632]], dtype=float32)"
            ]
          },
          "metadata": {},
          "execution_count": 25
        }
      ]
    },
    {
      "cell_type": "code",
      "metadata": {
        "id": "UKjDK9vluj9T",
        "colab": {
          "base_uri": "https://localhost:8080/"
        },
        "outputId": "9dd14ddf-7d4a-419b-ba5b-80f927828fa4"
      },
      "source": [
        "X"
      ],
      "execution_count": 27,
      "outputs": [
        {
          "output_type": "execute_result",
          "data": {
            "text/plain": [
              "[1, 2, 3, 4, 5, 6, 7, 8, 9]"
            ]
          },
          "metadata": {},
          "execution_count": 27
        }
      ]
    },
    {
      "cell_type": "code",
      "metadata": {
        "id": "XTRhSt8UuFSD",
        "colab": {
          "base_uri": "https://localhost:8080/"
        },
        "outputId": "96b986d9-ebaa-46cb-86f7-3dc77beeeded"
      },
      "source": [
        "linear_model.predict(X)"
      ],
      "execution_count": 28,
      "outputs": [
        {
          "output_type": "execute_result",
          "data": {
            "text/plain": [
              "array([[11.688981],\n",
              "       [22.334505],\n",
              "       [32.98003 ],\n",
              "       [43.625553],\n",
              "       [54.271076],\n",
              "       [64.9166  ],\n",
              "       [75.562126],\n",
              "       [86.20765 ],\n",
              "       [96.85317 ]], dtype=float32)"
            ]
          },
          "metadata": {},
          "execution_count": 28
        }
      ]
    },
    {
      "cell_type": "code",
      "metadata": {
        "id": "TnH-qxlDtLej"
      },
      "source": [
        "import matplotlib.pyplot as plt"
      ],
      "execution_count": 29,
      "outputs": []
    },
    {
      "cell_type": "code",
      "metadata": {
        "id": "5G-0TsZItDzO",
        "colab": {
          "base_uri": "https://localhost:8080/",
          "height": 267
        },
        "outputId": "ca964317-37bc-4105-c813-3f8fd9926d18"
      },
      "source": [
        "plt.plot(X, linear_model.predict(X), 'b', X, y, 'k.')\n",
        "plt.show()"
      ],
      "execution_count": 30,
      "outputs": [
        {
          "output_type": "display_data",
          "data": {
            "image/png": "[encoded data removed]",
            "text/plain": [
              "<Figure size 432x288 with 1 Axes>"
            ]
          },
          "metadata": {
            "needs_background": "light"
          }
        }
      ]
    },
    {
      "cell_type": "markdown",
      "metadata": {
        "id": "6w69xEAThwUk"
      },
      "source": [
        "## 2-3. Logisitic Regression"
      ]
    },
    {
      "cell_type": "code",
      "metadata": {
        "id": "EEtnlKmMhqgY",
        "colab": {
          "base_uri": "https://localhost:8080/"
        },
        "outputId": "5d67bab2-6a00-482d-8fe0-494833ec0c25"
      },
      "source": [
        "from tensorflow.keras.layers import Input, Dense\n",
        "from tensorflow.keras.models import Model\n",
        "\n",
        "inputs = Input(shape=(3,))\n",
        "output = Dense(1, activation='sigmoid')(inputs)\n",
        "logistic_model = Model(inputs, output)\n",
        "logistic_model.summary()"
      ],
      "execution_count": 31,
      "outputs": [
        {
          "output_type": "stream",
          "name": "stdout",
          "text": [
            "Model: \"model_2\"\n",
            "_________________________________________________________________\n",
            " Layer (type)                Output Shape              Param #   \n",
            "=================================================================\n",
            " input_3 (InputLayer)        [(None, 3)]               0         \n",
            "                                                                 \n",
            " dense_10 (Dense)            (None, 1)                 4         \n",
            "                                                                 \n",
            "=================================================================\n",
            "Total params: 4\n",
            "Trainable params: 4\n",
            "Non-trainable params: 0\n",
            "_________________________________________________________________\n"
          ]
        }
      ]
    },
    {
      "cell_type": "markdown",
      "metadata": {
        "id": "IBPe6iUth1vi"
      },
      "source": [
        "## 2-4. model that accepts multiple inputs\n"
      ]
    },
    {
      "cell_type": "code",
      "metadata": {
        "id": "TEhnaVoAh0GI",
        "colab": {
          "base_uri": "https://localhost:8080/"
        },
        "outputId": "e488e1f8-7c14-45f3-9b28-32bc37899cda"
      },
      "source": [
        "from tensorflow.keras.layers import Input, Dense, concatenate\n",
        "from tensorflow.keras.models import Model\n",
        "\n",
        "# 두 개의 입력층을 정의\n",
        "inputA = Input(shape=(64,))\n",
        "inputB = Input(shape=(128,))\n",
        "\n",
        "# 첫번째 입력층으로부터 분기되어 진행되는 인공 신경망을 정의\n",
        "x = Dense(16, activation=\"relu\")(inputA)\n",
        "x = Dense(8, activation=\"relu\")(x)\n",
        "x = Model(inputs=inputA, outputs=x)\n",
        "\n",
        "# 두번째 입력층으로부터 분기되어 진행되는 인공 신경망을 정의\n",
        "y = Dense(64, activation=\"relu\")(inputB)\n",
        "y = Dense(32, activation=\"relu\")(y)\n",
        "y = Dense(8, activation=\"relu\")(y)\n",
        "y = Model(inputs=inputB, outputs=y)\n",
        "\n",
        "# 두개의 인공 신경망의 출력을 연결(concatenate)\n",
        "result = concatenate([x.output, y.output])\n",
        "\n",
        "z = Dense(2, activation=\"relu\")(result)\n",
        "z = Dense(1, activation=\"linear\")(z)\n",
        "\n",
        "multi_model = Model(inputs=[x.input, y.input], outputs=z)\n",
        "multi_model.summary()"
      ],
      "execution_count": 32,
      "outputs": [
        {
          "output_type": "stream",
          "name": "stdout",
          "text": [
            "Model: \"model_5\"\n",
            "__________________________________________________________________________________________________\n",
            " Layer (type)                   Output Shape         Param #     Connected to                     \n",
            "==================================================================================================\n",
            " input_5 (InputLayer)           [(None, 128)]        0           []                               \n",
            "                                                                                                  \n",
            " input_4 (InputLayer)           [(None, 64)]         0           []                               \n",
            "                                                                                                  \n",
            " dense_13 (Dense)               (None, 64)           8256        ['input_5[0][0]']                \n",
            "                                                                                                  \n",
            " dense_11 (Dense)               (None, 16)           1040        ['input_4[0][0]']                \n",
            "                                                                                                  \n",
            " dense_14 (Dense)               (None, 32)           2080        ['dense_13[0][0]']               \n",
            "                                                                                                  \n",
            " dense_12 (Dense)               (None, 8)            136         ['dense_11[0][0]']               \n",
            "                                                                                                  \n",
            " dense_15 (Dense)               (None, 8)            264         ['dense_14[0][0]']               \n",
            "                                                                                                  \n",
            " concatenate (Concatenate)      (None, 16)           0           ['dense_12[0][0]',               \n",
            "                                                                  'dense_15[0][0]']               \n",
            "                                                                                                  \n",
            " dense_16 (Dense)               (None, 2)            34          ['concatenate[0][0]']            \n",
            "                                                                                                  \n",
            " dense_17 (Dense)               (None, 1)            3           ['dense_16[0][0]']               \n",
            "                                                                                                  \n",
            "==================================================================================================\n",
            "Total params: 11,813\n",
            "Trainable params: 11,813\n",
            "Non-trainable params: 0\n",
            "__________________________________________________________________________________________________\n"
          ]
        }
      ]
    },
    {
      "cell_type": "code",
      "metadata": {
        "id": "motoX6C-Ms3H",
        "colab": {
          "base_uri": "https://localhost:8080/",
          "height": 754
        },
        "outputId": "a072ddf1-7b5a-43ac-ce75-eeeb76d05aab"
      },
      "source": [
        "#  Plot model\n",
        "plot_model(multi_model, show_shapes=True, show_layer_names=True, to_file='model_F.png')"
      ],
      "execution_count": 36,
      "outputs": [
        {
          "output_type": "execute_result",
          "data": {
            "image/png": "[encoded data removed]",
            "text/plain": [
              "<IPython.core.display.Image object>"
            ]
          },
          "metadata": {},
          "execution_count": 36
        }
      ]
    },
    {
      "cell_type": "markdown",
      "metadata": {
        "id": "uIzhaMfjiAPa"
      },
      "source": [
        "## 2-5. LSTM"
      ]
    },
    {
      "cell_type": "code",
      "metadata": {
        "id": "TQPevdlGiBuW",
        "colab": {
          "base_uri": "https://localhost:8080/"
        },
        "outputId": "c8fc8315-3283-46c4-dc00-551306d153df"
      },
      "source": [
        "from tensorflow.keras.layers import Input, Dense, LSTM\n",
        "from tensorflow.keras.models import Model\n",
        "\n",
        "inputs = Input(shape=(50,1))\n",
        "lstm_layer = LSTM(10)(inputs)\n",
        "x = Dense(10, activation='relu')(lstm_layer)\n",
        "output = Dense(1, activation='sigmoid')(x)\n",
        "\n",
        "lstm_model = Model(inputs=inputs, outputs=output)\n",
        "lstm_model.summary()"
      ],
      "execution_count": 37,
      "outputs": [
        {
          "output_type": "stream",
          "name": "stdout",
          "text": [
            "Model: \"model_8\"\n",
            "_________________________________________________________________\n",
            " Layer (type)                Output Shape              Param #   \n",
            "=================================================================\n",
            " input_8 (InputLayer)        [(None, 50, 1)]           0         \n",
            "                                                                 \n",
            " lstm_2 (LSTM)               (None, 10)                480       \n",
            "                                                                 \n",
            " dense_22 (Dense)            (None, 10)                110       \n",
            "                                                                 \n",
            " dense_23 (Dense)            (None, 1)                 11        \n",
            "                                                                 \n",
            "=================================================================\n",
            "Total params: 601\n",
            "Trainable params: 601\n",
            "Non-trainable params: 0\n",
            "_________________________________________________________________\n"
          ]
        }
      ]
    },
    {
      "cell_type": "markdown",
      "metadata": {
        "id": "XdbiBz1WFaR8"
      },
      "source": [
        "## Number of parameters in an lstm layer\n",
        "> 4 * lstm_hidden_state_size * (lstm_inputs_size + bias_variable + lstm_outputs_size) \n",
        "- lstm_hidden_state_size = 10\n",
        "- lstm_inputs_size = 1\n",
        "- bias_variable = 1\n",
        "- lstm_outputs_size = 10\n",
        "\n",
        ">> 4*10(1 + 1 + 100 = 480"
      ]
    },
    {
      "cell_type": "code",
      "metadata": {
        "id": "YfRtCEbzMyLO",
        "colab": {
          "base_uri": "https://localhost:8080/",
          "height": 422
        },
        "outputId": "6f74f70b-b9a7-4289-a6d7-fee79d34ffa2"
      },
      "source": [
        "# Plot model\n",
        "plot_model(lstm_model, show_shapes=True, show_layer_names=True, to_file='model_l.png')"
      ],
      "execution_count": 38,
      "outputs": [
        {
          "output_type": "execute_result",
          "data": {
            "image/png": "[encoded data removed]",
            "text/plain": [
              "<IPython.core.display.Image object>"
            ]
          },
          "metadata": {},
          "execution_count": 38
        }
      ]
    }
  ]
}