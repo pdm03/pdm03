{
  "nbformat": 4,
  "nbformat_minor": 0,
  "metadata": {
    "kernelspec": {
      "display_name": "Python 3",
      "language": "python",
      "name": "python3"
    },
    "language_info": {
      "codemirror_mode": {
        "name": "ipython",
        "version": 3
      },
      "file_extension": ".py",
      "mimetype": "text/x-python",
      "name": "python",
      "nbconvert_exporter": "python",
      "pygments_lexer": "ipython3",
      "version": "3.7.5"
    },
    "colab": {
      "name": "numpy_2_array.ipynb",
      "provenance": [],
      "collapsed_sections": [],
      "include_colab_link": true
    }
  },
  "cells": [
    {
      "cell_type": "markdown",
      "metadata": {
        "id": "view-in-github",
        "colab_type": "text"
      },
      "source": [
        "<a href=\"https://colab.research.google.com/github/pdm03/pdm03/blob/main/numpy/numpy_2_array.ipynb\" target=\"_parent\"><img src=\"https://colab.research.google.com/assets/colab-badge.svg\" alt=\"Open In Colab\"/></a>"
      ]
    },
    {
      "cell_type": "markdown",
      "metadata": {
        "id": "qLtLw3l3DC1l"
      },
      "source": [
        "# numpy array\n",
        "\n",
        "- 생성\n",
        "- 구조 살펴보기\n",
        "- 수학연산 (columnwise, rowwise)"
      ]
    },
    {
      "cell_type": "code",
      "metadata": {
        "id": "1ZpPRcynDC1l",
        "colab": {
          "base_uri": "https://localhost:8080/"
        },
        "outputId": "dcaec535-cefd-4169-e7ca-c8a23bb524fa"
      },
      "source": [
        "from numpy import asarray\n",
        "# define data as a list\n",
        "data = [[1,2,3], [4,5,6]]\n",
        "# convert to a numpy array\n",
        "data = asarray(data)\n",
        "# summarize the array content\n",
        "print(data)\n",
        "# summarize the array shape\n",
        "print(data.shape)"
      ],
      "execution_count": 1,
      "outputs": [
        {
          "output_type": "stream",
          "name": "stdout",
          "text": [
            "[[1 2 3]\n",
            " [4 5 6]]\n",
            "(2, 3)\n"
          ]
        }
      ]
    },
    {
      "cell_type": "markdown",
      "metadata": {
        "id": "1pmgPh3DDC1p"
      },
      "source": [
        "## Print rows"
      ]
    },
    {
      "cell_type": "code",
      "metadata": {
        "id": "0rLupYCmDC1q",
        "colab": {
          "base_uri": "https://localhost:8080/"
        },
        "outputId": "520101b7-f0dc-4c26-c5cc-cc466bc3054d"
      },
      "source": [
        "# enumerate rows in a numpy array\n",
        "from numpy import asarray\n",
        "# define data as a list\n",
        "data = [[1,2,3], [4,5,6]]\n",
        "# data.shape # Error!\n",
        "# convert to a numpy array\n",
        "data = asarray(data)\n",
        "# step through rows\n",
        "for row in range(data.shape[0]):\n",
        "\tprint(data[row])"
      ],
      "execution_count": 3,
      "outputs": [
        {
          "output_type": "stream",
          "name": "stdout",
          "text": [
            "[1 2 3]\n",
            "[4 5 6]\n"
          ]
        }
      ]
    },
    {
      "cell_type": "code",
      "metadata": {
        "colab": {
          "base_uri": "https://localhost:8080/"
        },
        "id": "X_-1SaBzkO0X",
        "outputId": "13e99e57-c6d2-4e52-b413-950b35d1ce4f"
      },
      "source": [
        "data.shape,data.shape[0],data.shape[1]"
      ],
      "execution_count": 5,
      "outputs": [
        {
          "output_type": "execute_result",
          "data": {
            "text/plain": [
              "((2, 3), 2, 3)"
            ]
          },
          "metadata": {},
          "execution_count": 5
        }
      ]
    },
    {
      "cell_type": "markdown",
      "metadata": {
        "id": "S1Bl58KpDC1s"
      },
      "source": [
        "## Print columns"
      ]
    },
    {
      "cell_type": "code",
      "metadata": {
        "id": "2jS_7YIWDC1t",
        "colab": {
          "base_uri": "https://localhost:8080/"
        },
        "outputId": "8ffb2d64-1e05-45b3-d726-6b65c0df366d"
      },
      "source": [
        "# enumerate rows in a numpy array\n",
        "from numpy import asarray\n",
        "# define data as a list\n",
        "data = [[1,2,3], [4,5,6]]\n",
        "# convert to a numpy array\n",
        "data = asarray(data)\n",
        "print(data)\n",
        "# step through columns\n",
        "for col in range(data.shape[1]):\n",
        "\tprint(data[:,col])"
      ],
      "execution_count": 12,
      "outputs": [
        {
          "output_type": "stream",
          "name": "stdout",
          "text": [
            "[[1 2 3]\n",
            " [4 5 6]]\n",
            "[1 4]\n",
            "[2 5]\n",
            "[3 6]\n"
          ]
        }
      ]
    },
    {
      "cell_type": "markdown",
      "metadata": {
        "id": "BTdfAyqRlVM1"
      },
      "source": [
        "---"
      ]
    },
    {
      "cell_type": "markdown",
      "metadata": {
        "id": "tGhULkDaDC1v"
      },
      "source": [
        "## NumPy Array Operations By Row and Column\n",
        "- axis=None: Apply operation array-wise.\n",
        "- axis=0: Apply operation column-wise, across all rows for each column.\n",
        "- axis=1: Apply operation row-wise, across all columns for each row."
      ]
    },
    {
      "cell_type": "code",
      "metadata": {
        "id": "nFCQ6buxDC1v",
        "colab": {
          "base_uri": "https://localhost:8080/"
        },
        "outputId": "7cbe403d-351c-46d1-bc9b-74bb11c06926"
      },
      "source": [
        "# sum values array-wise\n",
        "from numpy import asarray\n",
        "# define data as a list\n",
        "data = [[1,2,3], [4,5,6]]\n",
        "# convert to a numpy array\n",
        "data = asarray(data)\n",
        "# summarize the array content\n",
        "print(data)\n",
        "# sum data by array\n",
        "result = data.sum(axis=None)\n",
        "# summarize the result\n",
        "print(result)"
      ],
      "execution_count": 15,
      "outputs": [
        {
          "output_type": "stream",
          "name": "stdout",
          "text": [
            "[[1 2 3]\n",
            " [4 5 6]]\n",
            "21\n"
          ]
        }
      ]
    },
    {
      "cell_type": "markdown",
      "metadata": {
        "id": "Mcmj1qCwDC1y"
      },
      "source": [
        "### Axis=0 Column-Wise Operation (수직으로)"
      ]
    },
    {
      "cell_type": "code",
      "metadata": {
        "id": "irwyItrKDC10",
        "colab": {
          "base_uri": "https://localhost:8080/"
        },
        "outputId": "4c6ad938-9f8a-4aee-e2c3-e6498ebe9319"
      },
      "source": [
        "# sum values column-wise\n",
        "from numpy import asarray\n",
        "# define data as a list\n",
        "data = [[1,2,3], [4,5,6]]\n",
        "# convert to a numpy array\n",
        "data = asarray(data)\n",
        "# summarize the array content\n",
        "print(data)\n",
        "# sum data by column\n",
        "result = data.sum(axis=0)\n",
        "# summarize the result\n",
        "print(result)"
      ],
      "execution_count": 16,
      "outputs": [
        {
          "output_type": "stream",
          "name": "stdout",
          "text": [
            "[[1 2 3]\n",
            " [4 5 6]]\n",
            "[5 7 9]\n"
          ]
        }
      ]
    },
    {
      "cell_type": "markdown",
      "metadata": {
        "id": "OXNCVoP1DC13"
      },
      "source": [
        "### Axis=1 Row-Wise Operation (수평으로)"
      ]
    },
    {
      "cell_type": "code",
      "metadata": {
        "id": "QmStdHwqDC13",
        "colab": {
          "base_uri": "https://localhost:8080/"
        },
        "outputId": "8f7146eb-c062-485a-a31c-a9bb7c52f1a4"
      },
      "source": [
        "# sum values row-wise\n",
        "from numpy import asarray\n",
        "# define data as a list\n",
        "data = [[1,2,3], [4,5,6]]\n",
        "# convert to a numpy array\n",
        "data = asarray(data)\n",
        "# summarize the array content\n",
        "print(data)\n",
        "# sum data by row\n",
        "result = data.sum(axis=1)\n",
        "# summarize the result\n",
        "print(result)"
      ],
      "execution_count": 17,
      "outputs": [
        {
          "output_type": "stream",
          "name": "stdout",
          "text": [
            "[[1 2 3]\n",
            " [4 5 6]]\n",
            "[ 6 15]\n"
          ]
        }
      ]
    },
    {
      "cell_type": "markdown",
      "metadata": {
        "id": "WD-mr8TylTH-"
      },
      "source": [
        "---"
      ]
    },
    {
      "cell_type": "markdown",
      "metadata": {
        "id": "JNfFF_h-DC2A"
      },
      "source": [
        "## [Challenge]\n",
        "- 3d-array\n",
        "    * axis = 0\n",
        "    * axis = 1\n",
        "    * axis = 2\n",
        "    * axis = (0,1)"
      ]
    },
    {
      "cell_type": "markdown",
      "metadata": {
        "id": "w7qMCHmrGHTQ"
      },
      "source": [
        "## [DIY: 도전하기]\n",
        "\n",
        "- 3차원 배열을 리스트로부터 만드시오.\n",
        "- [참고: numpy_sum_axis](http://taewan.kim/post/numpy_sum_axis/)"
      ]
    },
    {
      "cell_type": "code",
      "metadata": {
        "id": "dMOzrginDC2A"
      },
      "source": [
        "# Make 3d-array in numpy\n",
        "'''\n",
        "data = [[1,2,3], [4,5,6]]\n",
        "'''"
      ],
      "execution_count": null,
      "outputs": []
    },
    {
      "cell_type": "code",
      "metadata": {
        "id": "idjZZCwTDC2E"
      },
      "source": [
        ""
      ],
      "execution_count": null,
      "outputs": []
    }
  ]
}