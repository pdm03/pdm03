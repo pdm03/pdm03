{
  "nbformat": 4,
  "nbformat_minor": 0,
  "metadata": {
    "colab": {
      "name": "numpy_3_random.ipynb",
      "provenance": [],
      "collapsed_sections": [],
      "include_colab_link": true
    },
    "kernelspec": {
      "name": "python3",
      "display_name": "Python 3"
    }
  },
  "cells": [
    {
      "cell_type": "markdown",
      "metadata": {
        "id": "view-in-github",
        "colab_type": "text"
      },
      "source": [
        "<a href=\"https://colab.research.google.com/github/pdm03/pdm03/blob/main/numpy/numpy_3_random.ipynb\" target=\"_parent\"><img src=\"https://colab.research.google.com/assets/colab-badge.svg\" alt=\"Open In Colab\"/></a>"
      ]
    },
    {
      "cell_type": "markdown",
      "metadata": {
        "id": "_zrirXHfgmyY"
      },
      "source": [
        "# numpy\n",
        "## random 서브모듈\n",
        "> [데이터싸이언스 스쿨:난수발생](https://datascienceschool.net/01%20python/03.05%20%EB%82%9C%EC%88%98%20%EB%B0%9C%EC%83%9D%EA%B3%BC%20%EC%B9%B4%EC%9A%B4%ED%8C%85.html)"
      ]
    },
    {
      "cell_type": "code",
      "metadata": {
        "id": "kQbzzSMZG2PX"
      },
      "source": [
        "import numpy as np"
      ],
      "execution_count": 1,
      "outputs": []
    },
    {
      "cell_type": "markdown",
      "metadata": {
        "id": "1Ry0YHkNFis5"
      },
      "source": [
        "## 난수 생성\n",
        "> NumPy의 random 서브모듈은 난수를 생성하는 다양한 명령을 제공.\n",
        "\n",
        "- rand: 0부터 1사이의 균일 분포 (uniform distribution)\n",
        "- randn: 가우시안 표준 정규 분포 (normal distribution, Gaussian)\n",
        "- randint: 균일 분포의 정수 난수 (uniform int)\n",
        "\n",
        "> randn()은 평균 0, 표준편차 1 인 가우시안 정규분포를 생성."
      ]
    },
    {
      "cell_type": "markdown",
      "metadata": {
        "id": "CtO1VxvurziR"
      },
      "source": [
        "### rand: 0부터 1사이의 균일 분포 (uniform distribution)"
      ]
    },
    {
      "cell_type": "code",
      "metadata": {
        "id": "LA1oF6aEG7kJ",
        "colab": {
          "base_uri": "https://localhost:8080/"
        },
        "outputId": "15893b2d-8cf8-4d8f-b293-1f7d765c9f79"
      },
      "source": [
        "np.random.rand(5)"
      ],
      "execution_count": 2,
      "outputs": [
        {
          "output_type": "execute_result",
          "data": {
            "text/plain": [
              "array([0.45354362, 0.41441993, 0.77077935, 0.49832364, 0.00279924])"
            ]
          },
          "metadata": {},
          "execution_count": 2
        }
      ]
    },
    {
      "cell_type": "code",
      "metadata": {
        "id": "H6f4ix3NHCyR",
        "colab": {
          "base_uri": "https://localhost:8080/"
        },
        "outputId": "a771d487-bd58-4f54-fe3b-c58c536971f0"
      },
      "source": [
        "np.random.rand(5)"
      ],
      "execution_count": 3,
      "outputs": [
        {
          "output_type": "execute_result",
          "data": {
            "text/plain": [
              "array([0.98572722, 0.5754048 , 0.45981488, 0.22653836, 0.74135453])"
            ]
          },
          "metadata": {},
          "execution_count": 3
        }
      ]
    },
    {
      "cell_type": "markdown",
      "metadata": {
        "id": "c88F6gf8r4K2"
      },
      "source": [
        "### randn: 가우시안 표준 정규 분포 (normal distribution, Gaussian)"
      ]
    },
    {
      "cell_type": "code",
      "metadata": {
        "id": "rtVfCL-uP2Tw",
        "colab": {
          "base_uri": "https://localhost:8080/"
        },
        "outputId": "16863369-f3d7-4b25-ccbb-a255399c12db"
      },
      "source": [
        "np.random.randn(5)"
      ],
      "execution_count": 4,
      "outputs": [
        {
          "output_type": "execute_result",
          "data": {
            "text/plain": [
              "array([-1.40970561,  0.42800639, -0.20130425, -0.21989703, -0.3813752 ])"
            ]
          },
          "metadata": {},
          "execution_count": 4
        }
      ]
    },
    {
      "cell_type": "code",
      "metadata": {
        "colab": {
          "base_uri": "https://localhost:8080/"
        },
        "id": "D67oSXOa1mQA",
        "outputId": "43ac1d1a-d87f-40cf-c8ec-e138a3094ca2"
      },
      "source": [
        "np.random.randn(5)"
      ],
      "execution_count": 9,
      "outputs": [
        {
          "output_type": "execute_result",
          "data": {
            "text/plain": [
              "array([ 0.09059431,  0.40439468,  0.85709481, -0.40332257,  0.84810424])"
            ]
          },
          "metadata": {},
          "execution_count": 9
        }
      ]
    },
    {
      "cell_type": "markdown",
      "metadata": {
        "id": "wsvTzTFSsBSJ"
      },
      "source": [
        "### randint: 균일 분포의 정수 난수 (uniform int)\n",
        "- numpy.random.randint(low, high=None, size=None, dtype='l')"
      ]
    },
    {
      "cell_type": "code",
      "metadata": {
        "id": "WSvAH8uVs2Vb",
        "colab": {
          "base_uri": "https://localhost:8080/"
        },
        "outputId": "27957c50-51d4-4e2c-ce4b-3cebf8e85d5c"
      },
      "source": [
        "np.random.randint(5)"
      ],
      "execution_count": 15,
      "outputs": [
        {
          "output_type": "execute_result",
          "data": {
            "text/plain": [
              "3"
            ]
          },
          "metadata": {},
          "execution_count": 15
        }
      ]
    },
    {
      "cell_type": "code",
      "metadata": {
        "colab": {
          "base_uri": "https://localhost:8080/"
        },
        "id": "RLbcg3Fn2F7O",
        "outputId": "ba9833a4-cd7e-4432-aa44-874e40bee27d"
      },
      "source": [
        "# die number\n",
        "np.random.randint(1,7)"
      ],
      "execution_count": 20,
      "outputs": [
        {
          "output_type": "execute_result",
          "data": {
            "text/plain": [
              "2"
            ]
          },
          "metadata": {},
          "execution_count": 20
        }
      ]
    },
    {
      "cell_type": "code",
      "metadata": {
        "id": "McWHW15uQDPr",
        "colab": {
          "base_uri": "https://localhost:8080/"
        },
        "outputId": "c30de25a-3def-4139-d9df-974cfc4b7b00"
      },
      "source": [
        "np.random.randint(5,9) "
      ],
      "execution_count": 24,
      "outputs": [
        {
          "output_type": "execute_result",
          "data": {
            "text/plain": [
              "8"
            ]
          },
          "metadata": {},
          "execution_count": 24
        }
      ]
    },
    {
      "cell_type": "code",
      "metadata": {
        "id": "oBsWu9FmQQSC",
        "colab": {
          "base_uri": "https://localhost:8080/"
        },
        "outputId": "95ec71e1-5698-4584-cda2-cbd82148c8be"
      },
      "source": [
        "np.random.randint(0,10,5)"
      ],
      "execution_count": 25,
      "outputs": [
        {
          "output_type": "execute_result",
          "data": {
            "text/plain": [
              "array([5, 0, 2, 4, 1])"
            ]
          },
          "metadata": {},
          "execution_count": 25
        }
      ]
    },
    {
      "cell_type": "code",
      "metadata": {
        "id": "0kNuJxjaQYEu",
        "colab": {
          "base_uri": "https://localhost:8080/"
        },
        "outputId": "bf8ce3d8-77b6-4459-ab77-a83ec7f3f567"
      },
      "source": [
        "np.random.randint(0,10,5)"
      ],
      "execution_count": 26,
      "outputs": [
        {
          "output_type": "execute_result",
          "data": {
            "text/plain": [
              "array([3, 0, 3, 0, 7])"
            ]
          },
          "metadata": {},
          "execution_count": 26
        }
      ]
    },
    {
      "cell_type": "markdown",
      "metadata": {
        "id": "K58DiNYUmANL"
      },
      "source": [
        "---"
      ]
    },
    {
      "cell_type": "markdown",
      "metadata": {
        "id": "xU5NWjQ3F_ld"
      },
      "source": [
        "## 난수 생성 seed 설정\n",
        "- numpy.random.seed(seed=None)\n",
        "- np.random.seed(number)"
      ]
    },
    {
      "cell_type": "code",
      "metadata": {
        "id": "AxUeYmQSQawG"
      },
      "source": [
        "np.random.seed()"
      ],
      "execution_count": 27,
      "outputs": []
    },
    {
      "cell_type": "code",
      "metadata": {
        "id": "C33YjKqvRJ33",
        "colab": {
          "base_uri": "https://localhost:8080/"
        },
        "outputId": "66d17b93-8f98-4910-fad3-f99765116ec7"
      },
      "source": [
        "np.random.rand(5)"
      ],
      "execution_count": 28,
      "outputs": [
        {
          "output_type": "execute_result",
          "data": {
            "text/plain": [
              "array([0.37494192, 0.00151924, 0.86115743, 0.53164938, 0.6580718 ])"
            ]
          },
          "metadata": {},
          "execution_count": 28
        }
      ]
    },
    {
      "cell_type": "code",
      "metadata": {
        "id": "Ne8rIyN9RO81",
        "colab": {
          "base_uri": "https://localhost:8080/"
        },
        "outputId": "50c9c716-96a5-4753-edbf-354d89875937"
      },
      "source": [
        "np.random.rand(5)"
      ],
      "execution_count": 29,
      "outputs": [
        {
          "output_type": "execute_result",
          "data": {
            "text/plain": [
              "array([0.94674785, 0.33405388, 0.16072173, 0.04912991, 0.49056925])"
            ]
          },
          "metadata": {},
          "execution_count": 29
        }
      ]
    },
    {
      "cell_type": "markdown",
      "metadata": {
        "id": "wnQ4gFoltu81"
      },
      "source": [
        "### 동일한 무작위수 생성\n",
        "- seed를 고정하고 무작위수 생성"
      ]
    },
    {
      "cell_type": "code",
      "metadata": {
        "id": "LGPOJGfgRSWx"
      },
      "source": [
        "np.random.seed(1234)"
      ],
      "execution_count": 30,
      "outputs": []
    },
    {
      "cell_type": "code",
      "metadata": {
        "id": "t2PNRUpfRXZk",
        "colab": {
          "base_uri": "https://localhost:8080/"
        },
        "outputId": "27a4d303-ae2c-4b57-e531-90d8ff2bd613"
      },
      "source": [
        "np.random.rand(5)"
      ],
      "execution_count": 31,
      "outputs": [
        {
          "output_type": "execute_result",
          "data": {
            "text/plain": [
              "array([0.19151945, 0.62210877, 0.43772774, 0.78535858, 0.77997581])"
            ]
          },
          "metadata": {},
          "execution_count": 31
        }
      ]
    },
    {
      "cell_type": "code",
      "metadata": {
        "id": "x8yKednV8CZy",
        "colab": {
          "base_uri": "https://localhost:8080/"
        },
        "outputId": "c54bfffa-e029-406c-8858-1b8905cd5299"
      },
      "source": [
        "np.random.rand(5)"
      ],
      "execution_count": 32,
      "outputs": [
        {
          "output_type": "execute_result",
          "data": {
            "text/plain": [
              "array([0.27259261, 0.27646426, 0.80187218, 0.95813935, 0.87593263])"
            ]
          },
          "metadata": {},
          "execution_count": 32
        }
      ]
    },
    {
      "cell_type": "code",
      "metadata": {
        "id": "bo2A_ntYRcKw"
      },
      "source": [
        "np.random.seed(1234)"
      ],
      "execution_count": 34,
      "outputs": []
    },
    {
      "cell_type": "code",
      "metadata": {
        "id": "U5qXdwYQRYeT",
        "colab": {
          "base_uri": "https://localhost:8080/"
        },
        "outputId": "6be909cd-b4f3-42db-9c56-51717feb9be3"
      },
      "source": [
        "np.random.rand(5)"
      ],
      "execution_count": 35,
      "outputs": [
        {
          "output_type": "execute_result",
          "data": {
            "text/plain": [
              "array([0.19151945, 0.62210877, 0.43772774, 0.78535858, 0.77997581])"
            ]
          },
          "metadata": {},
          "execution_count": 35
        }
      ]
    },
    {
      "cell_type": "markdown",
      "metadata": {
        "id": "pwMXGAwmRhpW"
      },
      "source": [
        "### seed 고정 후에 randint(5)"
      ]
    },
    {
      "cell_type": "code",
      "metadata": {
        "id": "tqmTOMMVRhGW",
        "colab": {
          "base_uri": "https://localhost:8080/"
        },
        "outputId": "0f424a87-e778-43c5-eba6-b733b1e20738"
      },
      "source": [
        "np.random.seed(5678)\n",
        "np.random.randint(1,10,5)"
      ],
      "execution_count": 36,
      "outputs": [
        {
          "output_type": "execute_result",
          "data": {
            "text/plain": [
              "array([5, 8, 3, 5, 4])"
            ]
          },
          "metadata": {},
          "execution_count": 36
        }
      ]
    },
    {
      "cell_type": "code",
      "metadata": {
        "id": "YxQYjcOLSA-Z",
        "colab": {
          "base_uri": "https://localhost:8080/"
        },
        "outputId": "ee686749-1772-4899-b6e7-454cacd9073b"
      },
      "source": [
        "np.random.randint(1,10,5)"
      ],
      "execution_count": 37,
      "outputs": [
        {
          "output_type": "execute_result",
          "data": {
            "text/plain": [
              "array([6, 3, 7, 4, 1])"
            ]
          },
          "metadata": {},
          "execution_count": 37
        }
      ]
    },
    {
      "cell_type": "code",
      "metadata": {
        "id": "aQYF5QpGSD6p",
        "colab": {
          "base_uri": "https://localhost:8080/"
        },
        "outputId": "9fbbb32b-0d96-47b9-a3a9-34e5ac894b50"
      },
      "source": [
        "np.random.seed(5678)\n",
        "np.random.randint(1,10,5)"
      ],
      "execution_count": 38,
      "outputs": [
        {
          "output_type": "execute_result",
          "data": {
            "text/plain": [
              "array([5, 8, 3, 5, 4])"
            ]
          },
          "metadata": {},
          "execution_count": 38
        }
      ]
    },
    {
      "cell_type": "code",
      "metadata": {
        "id": "cfIhMEcVSGKa",
        "colab": {
          "base_uri": "https://localhost:8080/"
        },
        "outputId": "385c020d-a231-4796-95b3-74552b89d2d1"
      },
      "source": [
        "np.random.seed(5678)\n",
        "np.random.randint(1,10,5)"
      ],
      "execution_count": 39,
      "outputs": [
        {
          "output_type": "execute_result",
          "data": {
            "text/plain": [
              "array([5, 8, 3, 5, 4])"
            ]
          },
          "metadata": {},
          "execution_count": 39
        }
      ]
    },
    {
      "cell_type": "code",
      "metadata": {
        "id": "Ik9a-QkcfLwy",
        "colab": {
          "base_uri": "https://localhost:8080/"
        },
        "outputId": "1e1ca091-fbe9-4dac-87a3-2e939a46dde8"
      },
      "source": [
        "# seed 변경\n",
        "np.random.seed(0)\n",
        "np.random.randint(1,10,5)"
      ],
      "execution_count": 40,
      "outputs": [
        {
          "output_type": "execute_result",
          "data": {
            "text/plain": [
              "array([6, 1, 4, 4, 8])"
            ]
          },
          "metadata": {},
          "execution_count": 40
        }
      ]
    },
    {
      "cell_type": "markdown",
      "metadata": {
        "id": "Zg3g31drmDMI"
      },
      "source": [
        "---\n",
        "---"
      ]
    },
    {
      "cell_type": "markdown",
      "metadata": {
        "id": "YNVh_pbhfROq"
      },
      "source": [
        "## DIY: 도전 코딩 - numpy 정리 과제\n",
        "- 생성된 마구잡이수를 조사하고 사용하기 \n",
        "- 9월19일 자정 마감."
      ]
    },
    {
      "cell_type": "markdown",
      "metadata": {
        "id": "vxNHFDSIgMmC"
      },
      "source": [
        "### [도전 1.] 0부터 9까지의 마구잡이 정수를 1000개 만들고 각 수의 빈도를 구하시오. "
      ]
    },
    {
      "cell_type": "code",
      "metadata": {
        "id": "qkDfXH1xgjBz",
        "colab": {
          "base_uri": "https://localhost:8080/"
        },
        "outputId": "d3bae117-6fea-4619-80dd-4437b10c5deb"
      },
      "source": [
        "# n1000=\n",
        "n1000 = np.random.randint(0,10,1000)\n",
        "n1000"
      ],
      "execution_count": 42,
      "outputs": [
        {
          "output_type": "execute_result",
          "data": {
            "text/plain": [
              "array([1, 4, 6, 0, 6, 6, 2, 8, 6, 6, 5, 2, 5, 0, 3, 9, 9, 7, 0, 4, 1, 3,\n",
              "       5, 7, 6, 2, 7, 3, 4, 9, 7, 0, 0, 1, 8, 3, 5, 0, 1, 1, 3, 7, 9, 3,\n",
              "       7, 0, 2, 4, 4, 6, 0, 1, 7, 6, 5, 5, 7, 3, 6, 8, 8, 2, 1, 0, 8, 7,\n",
              "       7, 0, 4, 8, 0, 4, 5, 7, 2, 4, 9, 7, 5, 0, 4, 9, 4, 0, 2, 5, 5, 3,\n",
              "       0, 0, 1, 9, 9, 2, 1, 0, 1, 6, 3, 4, 3, 6, 4, 2, 3, 6, 3, 3, 8, 1,\n",
              "       3, 3, 1, 5, 3, 6, 4, 8, 5, 7, 1, 8, 2, 0, 0, 4, 2, 1, 2, 2, 3, 4,\n",
              "       7, 5, 1, 3, 1, 0, 1, 4, 0, 2, 1, 3, 1, 4, 7, 5, 6, 9, 2, 5, 2, 2,\n",
              "       1, 3, 8, 3, 0, 7, 3, 8, 2, 4, 3, 1, 6, 5, 8, 4, 3, 6, 5, 3, 7, 8,\n",
              "       8, 3, 7, 8, 5, 7, 2, 7, 8, 0, 7, 4, 8, 4, 4, 0, 4, 8, 0, 0, 4, 7,\n",
              "       3, 7, 7, 2, 2, 1, 7, 0, 7, 5, 9, 7, 1, 1, 2, 4, 1, 4, 5, 8, 2, 1,\n",
              "       6, 3, 0, 3, 9, 5, 1, 3, 7, 1, 1, 7, 9, 4, 2, 0, 3, 2, 4, 0, 0, 9,\n",
              "       3, 8, 3, 0, 4, 4, 0, 2, 5, 5, 8, 2, 7, 3, 6, 1, 0, 2, 2, 5, 5, 1,\n",
              "       2, 8, 7, 3, 7, 3, 1, 0, 1, 0, 8, 8, 5, 3, 3, 1, 0, 6, 1, 6, 9, 5,\n",
              "       7, 0, 1, 4, 9, 5, 1, 6, 5, 4, 4, 4, 7, 2, 2, 6, 5, 3, 0, 8, 8, 1,\n",
              "       8, 7, 5, 7, 9, 4, 0, 7, 2, 3, 9, 5, 4, 0, 4, 5, 8, 1, 4, 8, 0, 1,\n",
              "       1, 8, 9, 4, 9, 0, 3, 0, 7, 0, 8, 1, 2, 8, 5, 8, 2, 1, 3, 5, 0, 2,\n",
              "       5, 8, 6, 2, 7, 7, 1, 8, 4, 9, 3, 3, 2, 9, 0, 4, 6, 4, 3, 2, 3, 1,\n",
              "       1, 2, 7, 2, 7, 0, 1, 8, 0, 5, 2, 8, 0, 4, 0, 3, 8, 1, 6, 4, 6, 9,\n",
              "       6, 4, 7, 2, 9, 8, 0, 8, 6, 2, 6, 9, 5, 3, 7, 8, 3, 8, 8, 9, 9, 4,\n",
              "       4, 1, 0, 7, 6, 2, 1, 0, 6, 1, 6, 7, 1, 5, 2, 0, 2, 6, 6, 3, 5, 4,\n",
              "       7, 3, 2, 6, 9, 1, 5, 1, 9, 3, 1, 0, 7, 3, 9, 6, 4, 4, 3, 5, 4, 4,\n",
              "       9, 0, 0, 9, 5, 0, 6, 3, 8, 9, 6, 2, 1, 7, 7, 6, 7, 5, 9, 8, 8, 1,\n",
              "       4, 6, 4, 2, 7, 8, 5, 7, 9, 9, 6, 9, 9, 3, 9, 3, 7, 2, 8, 1, 3, 2,\n",
              "       1, 7, 8, 7, 5, 7, 7, 1, 5, 6, 5, 8, 8, 1, 5, 2, 9, 5, 1, 8, 1, 7,\n",
              "       8, 5, 0, 1, 9, 5, 1, 4, 9, 8, 2, 8, 3, 3, 7, 4, 8, 3, 3, 1, 7, 5,\n",
              "       5, 7, 7, 3, 2, 1, 2, 9, 5, 8, 8, 8, 2, 2, 8, 4, 1, 1, 0, 2, 1, 7,\n",
              "       0, 2, 9, 3, 4, 9, 3, 0, 0, 6, 4, 3, 3, 1, 0, 7, 8, 6, 2, 8, 8, 9,\n",
              "       6, 4, 1, 8, 5, 4, 3, 5, 7, 6, 6, 9, 3, 3, 2, 7, 3, 9, 9, 5, 9, 8,\n",
              "       3, 8, 5, 9, 0, 7, 0, 1, 6, 6, 4, 5, 7, 6, 0, 1, 6, 6, 4, 2, 2, 4,\n",
              "       4, 3, 1, 0, 6, 6, 0, 9, 8, 9, 5, 2, 9, 8, 4, 4, 0, 2, 5, 7, 7, 1,\n",
              "       3, 2, 0, 3, 2, 2, 2, 3, 5, 1, 7, 5, 3, 9, 3, 0, 6, 3, 6, 9, 5, 1,\n",
              "       9, 3, 3, 9, 7, 8, 4, 7, 8, 9, 4, 1, 5, 0, 3, 6, 3, 0, 3, 6, 9, 5,\n",
              "       1, 7, 3, 4, 7, 0, 3, 5, 6, 6, 7, 4, 7, 2, 0, 1, 6, 5, 9, 4, 8, 7,\n",
              "       8, 6, 1, 4, 8, 5, 1, 6, 2, 7, 5, 7, 9, 6, 6, 3, 9, 9, 3, 4, 4, 1,\n",
              "       3, 9, 5, 1, 9, 7, 5, 4, 2, 0, 8, 7, 1, 1, 1, 9, 7, 4, 8, 6, 1, 2,\n",
              "       8, 4, 7, 9, 8, 8, 3, 2, 5, 6, 4, 5, 7, 9, 0, 3, 5, 5, 7, 8, 0, 2,\n",
              "       6, 5, 1, 5, 1, 9, 2, 3, 0, 3, 0, 1, 2, 2, 3, 4, 5, 8, 5, 1, 6, 1,\n",
              "       9, 6, 1, 5, 6, 2, 2, 9, 2, 8, 6, 3, 4, 1, 6, 6, 8, 8, 8, 5, 2, 2,\n",
              "       5, 9, 5, 4, 1, 1, 8, 8, 3, 0, 9, 2, 9, 3, 6, 4, 7, 5, 5, 3, 8, 7,\n",
              "       1, 7, 5, 4, 0, 5, 7, 8, 1, 6, 6, 9, 0, 2, 8, 6, 6, 3, 4, 4, 4, 1,\n",
              "       4, 3, 8, 9, 2, 1, 7, 8, 3, 3, 9, 0, 7, 7, 5, 3, 7, 8, 5, 5, 1, 7,\n",
              "       6, 1, 8, 1, 2, 0, 2, 4, 4, 8, 4, 7, 5, 2, 3, 0, 7, 9, 6, 9, 8, 1,\n",
              "       7, 6, 8, 4, 3, 5, 2, 0, 1, 4, 0, 5, 8, 3, 9, 1, 5, 9, 0, 8, 1, 6,\n",
              "       9, 7, 1, 4, 9, 8, 6, 7, 5, 7, 8, 5, 1, 4, 7, 8, 7, 7, 9, 9, 0, 6,\n",
              "       3, 7, 2, 6, 3, 5, 8, 9, 5, 0, 6, 9, 1, 4, 7, 5, 2, 6, 4, 7, 3, 6,\n",
              "       7, 0, 6, 4, 2, 3, 2, 0, 9, 5])"
            ]
          },
          "metadata": {},
          "execution_count": 42
        }
      ]
    },
    {
      "cell_type": "code",
      "metadata": {
        "id": "9_6nzbQD3FZi",
        "colab": {
          "base_uri": "https://localhost:8080/"
        },
        "outputId": "31a1878f-169a-4451-9ce0-630fb394ea68"
      },
      "source": [
        "np.unique(n1000)"
      ],
      "execution_count": 43,
      "outputs": [
        {
          "output_type": "execute_result",
          "data": {
            "text/plain": [
              "array([0, 1, 2, 3, 4, 5, 6, 7, 8, 9])"
            ]
          },
          "metadata": {},
          "execution_count": 43
        }
      ]
    },
    {
      "cell_type": "code",
      "metadata": {
        "id": "eiw9R1243Rzp",
        "colab": {
          "base_uri": "https://localhost:8080/"
        },
        "outputId": "989327e7-04de-4da9-d260-3b92fd5ac29b"
      },
      "source": [
        "# 각 수의 빈도\n",
        "np.bincount(n1000)"
      ],
      "execution_count": 44,
      "outputs": [
        {
          "output_type": "execute_result",
          "data": {
            "text/plain": [
              "array([ 94, 112,  95, 110,  98, 102,  90, 109, 102,  88])"
            ]
          },
          "metadata": {},
          "execution_count": 44
        }
      ]
    },
    {
      "cell_type": "markdown",
      "metadata": {
        "id": "cIhlY6-GghMN"
      },
      "source": [
        "### [도전 2.] 0부터 9까지의 마구잡이 정수를 1000개 만들고 각 수가 처음 출현하는 인덱스를 구하시오.\n",
        "> 0이 처음 나타날 때의 인덱스, 1이 처음 나타날 때의 인덱스, ... "
      ]
    },
    {
      "cell_type": "code",
      "metadata": {
        "colab": {
          "base_uri": "https://localhost:8080/"
        },
        "id": "ItCvUgtU49Ni",
        "outputId": "1895f1ad-d7ea-4b92-ef73-9b18d174c1ce"
      },
      "source": [
        "n1000[0],n1000[800]"
      ],
      "execution_count": 46,
      "outputs": [
        {
          "output_type": "execute_result",
          "data": {
            "text/plain": [
              "(1, 0)"
            ]
          },
          "metadata": {},
          "execution_count": 46
        }
      ]
    },
    {
      "cell_type": "code",
      "metadata": {
        "id": "oA1ec_RjgL3X"
      },
      "source": [
        "# 각 수가 처음 출현하는 인덱스\n"
      ],
      "execution_count": null,
      "outputs": []
    },
    {
      "cell_type": "code",
      "metadata": {
        "id": "yubibMMZ4AZS"
      },
      "source": [
        "# n1000[index]"
      ],
      "execution_count": null,
      "outputs": []
    },
    {
      "cell_type": "markdown",
      "metadata": {
        "id": "sadkRzWjgiTM"
      },
      "source": [
        "### [도전 3.] seed를 1234로 고정하고, 위의 도전1,2를 다시 해보시오. "
      ]
    },
    {
      "cell_type": "markdown",
      "metadata": {
        "id": "zAGojAainnox"
      },
      "source": [
        "### [도전 4.] 0부터 999까지의 마구잡이 정수로 구성되는 28X28 이차원배열을 만드시오.\n",
        "- 시드를 고정 : np.random.seed(1234)\n",
        "1. 각 행의 최대값, 최소갑을 구하시오.\n",
        "2. 배열 전체의 최대값, 최소값을 구하시오.\n",
        "3. 배열전체의 최대값, 최소값의 index를 각각 찾으시오."
      ]
    },
    {
      "cell_type": "markdown",
      "metadata": {
        "id": "VoSu8rNOnwPU"
      },
      "source": [
        "---\n",
        "---"
      ]
    },
    {
      "cell_type": "markdown",
      "metadata": {
        "id": "ozoCcRquhg4p"
      },
      "source": [
        "## python graphics\n",
        "- matplotlib\n",
        "> import matplotlib.pyplot as plt"
      ]
    },
    {
      "cell_type": "markdown",
      "metadata": {
        "id": "h6yEJiGJ4Lbk"
      },
      "source": [
        "### 무작위수 분포 그려보기"
      ]
    },
    {
      "cell_type": "code",
      "metadata": {
        "id": "ngcwuNlfhrIQ"
      },
      "source": [
        "import matplotlib.pyplot as plt"
      ],
      "execution_count": 58,
      "outputs": []
    },
    {
      "cell_type": "code",
      "metadata": {
        "id": "jr30IHxvJDuE",
        "colab": {
          "base_uri": "https://localhost:8080/",
          "height": 319
        },
        "outputId": "21c44e7b-df5e-40ca-9f30-faac8b3881b0"
      },
      "source": [
        "plt.hist(n1000,label=range(0,10), color='red') #bins=0)\n",
        "# plt.show()"
      ],
      "execution_count": 63,
      "outputs": [
        {
          "output_type": "execute_result",
          "data": {
            "text/plain": [
              "(array([109.,  96.,  92.,  78., 100., 111., 104., 101., 105., 104.]),\n",
              " array([0. , 0.9, 1.8, 2.7, 3.6, 4.5, 5.4, 6.3, 7.2, 8.1, 9. ]),\n",
              " <a list of 10 Patch objects>)"
            ]
          },
          "metadata": {},
          "execution_count": 63
        },
        {
          "output_type": "display_data",
          "data": {
            "image/png": "[encoded data removed]",
            "text/plain": [
              "<Figure size 432x288 with 1 Axes>"
            ]
          },
          "metadata": {
            "needs_background": "light"
          }
        }
      ]
    },
    {
      "cell_type": "markdown",
      "metadata": {
        "id": "b-JcgSU-Ktyz"
      },
      "source": [
        "### [도전] 균일분포와 정규분포를 비교하는 그림을 그리시오."
      ]
    },
    {
      "cell_type": "code",
      "metadata": {
        "id": "k0XaT2f9JGZy",
        "colab": {
          "base_uri": "https://localhost:8080/",
          "height": 384
        },
        "outputId": "e90a609f-c927-473e-a784-2f5719f692ca"
      },
      "source": [
        "plt.hist(np.random.rand(10000000))"
      ],
      "execution_count": 64,
      "outputs": [
        {
          "output_type": "execute_result",
          "data": {
            "text/plain": [
              "(array([ 999884., 1000745., 1000082.,  998714.,  998766., 1000962.,\n",
              "         999708., 1003144.,  998680.,  999315.]),\n",
              " array([2.51678389e-08, 1.00000009e-01, 1.99999993e-01, 2.99999977e-01,\n",
              "        3.99999960e-01, 4.99999944e-01, 5.99999928e-01, 6.99999912e-01,\n",
              "        7.99999896e-01, 8.99999879e-01, 9.99999863e-01]),\n",
              " <a list of 10 Patch objects>)"
            ]
          },
          "metadata": {},
          "execution_count": 64
        },
        {
          "output_type": "display_data",
          "data": {
            "image/png": "[encoded data removed]",
            "text/plain": [
              "<Figure size 432x288 with 1 Axes>"
            ]
          },
          "metadata": {
            "needs_background": "light"
          }
        }
      ]
    },
    {
      "cell_type": "code",
      "metadata": {
        "id": "T8SCqKVeMhBF",
        "colab": {
          "base_uri": "https://localhost:8080/",
          "height": 661
        },
        "outputId": "b5ad4c00-e4d8-4890-bf0d-f107e9cfe233"
      },
      "source": [
        "plt.hist(np.random.randn(10000000), bins=50)"
      ],
      "execution_count": 66,
      "outputs": [
        {
          "output_type": "execute_result",
          "data": {
            "text/plain": [
              "(array([2.00000e+00, 1.00000e+00, 5.00000e+00, 7.00000e+00, 2.70000e+01,\n",
              "        9.70000e+01, 1.98000e+02, 4.67000e+02, 1.05500e+03, 2.23500e+03,\n",
              "        4.53300e+03, 8.61500e+03, 1.59180e+04, 2.81610e+04, 4.72430e+04,\n",
              "        7.77160e+04, 1.19089e+05, 1.77175e+05, 2.50030e+05, 3.40044e+05,\n",
              "        4.40681e+05, 5.46631e+05, 6.48115e+05, 7.37863e+05, 8.00011e+05,\n",
              "        8.31999e+05, 8.32269e+05, 7.92048e+05, 7.21095e+05, 6.30106e+05,\n",
              "        5.26349e+05, 4.18845e+05, 3.21215e+05, 2.35826e+05, 1.64399e+05,\n",
              "        1.10698e+05, 7.06820e+04, 4.35840e+04, 2.53240e+04, 1.43910e+04,\n",
              "        7.68400e+03, 4.02300e+03, 1.92700e+03, 9.09000e+02, 3.84000e+02,\n",
              "        1.88000e+02, 8.00000e+01, 3.90000e+01, 1.30000e+01, 4.00000e+00]),\n",
              " array([-5.44380054, -5.23366646, -5.02353239, -4.81339831, -4.60326424,\n",
              "        -4.39313017, -4.18299609, -3.97286202, -3.76272794, -3.55259387,\n",
              "        -3.34245979, -3.13232572, -2.92219165, -2.71205757, -2.5019235 ,\n",
              "        -2.29178942, -2.08165535, -1.87152128, -1.6613872 , -1.45125313,\n",
              "        -1.24111905, -1.03098498, -0.82085091, -0.61071683, -0.40058276,\n",
              "        -0.19044868,  0.01968539,  0.22981946,  0.43995354,  0.65008761,\n",
              "         0.86022169,  1.07035576,  1.28048984,  1.49062391,  1.70075798,\n",
              "         1.91089206,  2.12102613,  2.33116021,  2.54129428,  2.75142835,\n",
              "         2.96156243,  3.1716965 ,  3.38183058,  3.59196465,  3.80209872,\n",
              "         4.0122328 ,  4.22236687,  4.43250095,  4.64263502,  4.8527691 ,\n",
              "         5.06290317]),\n",
              " <a list of 50 Patch objects>)"
            ]
          },
          "metadata": {},
          "execution_count": 66
        },
        {
          "output_type": "display_data",
          "data": {
            "image/png": "[encoded data removed]",
            "text/plain": [
              "<Figure size 432x288 with 1 Axes>"
            ]
          },
          "metadata": {
            "needs_background": "light"
          }
        }
      ]
    },
    {
      "cell_type": "markdown",
      "metadata": {
        "id": "LYthn3089aqD"
      },
      "source": [
        "## 보충 코드"
      ]
    },
    {
      "cell_type": "code",
      "metadata": {
        "id": "BUkVDXTJMkwc",
        "colab": {
          "base_uri": "https://localhost:8080/"
        },
        "outputId": "3126c48b-5a5f-4c7e-b36d-d6d7c19a8cc7"
      },
      "source": [
        "n1000 = np.random.randint(0,10,1000)\n",
        "n1000"
      ],
      "execution_count": 55,
      "outputs": [
        {
          "output_type": "execute_result",
          "data": {
            "text/plain": [
              "array([7, 5, 2, 2, 4, 0, 4, 7, 3, 8, 6, 6, 5, 2, 6, 6, 5, 0, 2, 1, 6, 1,\n",
              "       4, 2, 1, 5, 2, 1, 5, 2, 6, 6, 2, 0, 4, 5, 7, 3, 6, 5, 5, 9, 2, 0,\n",
              "       5, 1, 3, 0, 7, 1, 9, 3, 6, 5, 6, 9, 6, 1, 5, 4, 7, 6, 3, 2, 3, 6,\n",
              "       5, 7, 7, 6, 6, 5, 8, 5, 3, 7, 2, 7, 2, 9, 5, 0, 2, 8, 1, 8, 2, 8,\n",
              "       6, 8, 3, 6, 4, 0, 6, 6, 3, 4, 8, 6, 0, 0, 3, 5, 7, 0, 9, 9, 8, 0,\n",
              "       1, 9, 4, 0, 2, 4, 8, 2, 2, 7, 6, 3, 2, 6, 5, 4, 3, 3, 9, 7, 4, 4,\n",
              "       5, 9, 4, 1, 1, 7, 9, 0, 0, 5, 7, 0, 5, 2, 0, 9, 7, 5, 0, 3, 5, 3,\n",
              "       2, 2, 0, 8, 3, 9, 9, 9, 6, 4, 9, 3, 4, 1, 0, 9, 1, 1, 7, 2, 7, 0,\n",
              "       1, 8, 0, 3, 5, 1, 2, 1, 4, 7, 9, 8, 4, 4, 6, 5, 1, 0, 1, 0, 3, 5,\n",
              "       5, 6, 9, 2, 9, 5, 7, 5, 9, 8, 1, 5, 8, 9, 1, 4, 0, 2, 0, 9, 7, 9,\n",
              "       3, 8, 7, 7, 8, 1, 9, 8, 9, 0, 7, 7, 6, 5, 8, 5, 4, 0, 9, 1, 8, 0,\n",
              "       3, 7, 3, 7, 5, 3, 8, 3, 1, 3, 3, 0, 7, 2, 0, 6, 6, 7, 7, 1, 2, 8,\n",
              "       5, 1, 7, 3, 1, 6, 8, 2, 7, 8, 9, 6, 9, 8, 5, 0, 0, 9, 4, 6, 0, 9,\n",
              "       4, 2, 2, 4, 7, 1, 9, 6, 4, 6, 8, 6, 9, 2, 7, 4, 0, 1, 6, 4, 0, 0,\n",
              "       2, 7, 6, 6, 7, 7, 0, 9, 4, 1, 4, 9, 5, 9, 0, 6, 4, 4, 1, 7, 0, 1,\n",
              "       2, 8, 7, 9, 8, 0, 0, 0, 2, 6, 8, 3, 7, 3, 3, 5, 5, 4, 8, 9, 2, 8,\n",
              "       5, 7, 5, 4, 4, 7, 8, 8, 5, 6, 6, 3, 6, 0, 5, 6, 9, 5, 4, 3, 0, 5,\n",
              "       1, 5, 1, 1, 8, 7, 9, 3, 5, 2, 6, 3, 8, 4, 8, 0, 8, 4, 0, 5, 5, 2,\n",
              "       4, 8, 8, 4, 1, 8, 8, 8, 3, 3, 2, 9, 5, 7, 5, 8, 7, 9, 0, 2, 7, 3,\n",
              "       5, 1, 5, 1, 1, 2, 4, 3, 1, 9, 1, 2, 8, 1, 7, 8, 2, 9, 6, 5, 1, 9,\n",
              "       6, 9, 2, 5, 6, 1, 5, 8, 4, 6, 5, 6, 0, 2, 5, 6, 2, 9, 1, 4, 8, 8,\n",
              "       3, 7, 2, 9, 1, 1, 1, 6, 3, 6, 5, 4, 2, 7, 8, 8, 0, 7, 8, 8, 7, 4,\n",
              "       6, 9, 6, 8, 3, 7, 8, 4, 2, 3, 0, 4, 8, 0, 4, 2, 6, 2, 2, 2, 7, 9,\n",
              "       6, 9, 6, 0, 2, 1, 4, 6, 3, 8, 7, 5, 9, 0, 2, 1, 0, 5, 9, 7, 3, 4,\n",
              "       4, 7, 1, 7, 7, 8, 9, 5, 6, 1, 0, 0, 0, 2, 3, 1, 6, 4, 0, 8, 8, 6,\n",
              "       4, 5, 5, 7, 7, 9, 3, 5, 5, 4, 9, 0, 9, 5, 6, 7, 0, 8, 0, 7, 8, 8,\n",
              "       9, 4, 0, 3, 6, 8, 3, 4, 4, 4, 1, 3, 8, 8, 3, 2, 1, 4, 7, 6, 8, 0,\n",
              "       1, 1, 3, 7, 8, 4, 6, 2, 6, 9, 0, 0, 2, 9, 9, 0, 5, 0, 4, 7, 7, 1,\n",
              "       8, 6, 5, 1, 5, 4, 2, 6, 1, 1, 7, 9, 5, 4, 1, 5, 7, 8, 2, 4, 9, 7,\n",
              "       2, 8, 2, 1, 8, 7, 1, 3, 5, 8, 1, 3, 9, 1, 2, 7, 5, 8, 5, 3, 2, 5,\n",
              "       4, 8, 1, 0, 8, 8, 4, 0, 4, 2, 7, 4, 4, 5, 6, 3, 7, 0, 9, 4, 4, 5,\n",
              "       8, 5, 6, 1, 4, 5, 3, 9, 6, 8, 7, 4, 7, 8, 1, 4, 5, 5, 3, 8, 3, 5,\n",
              "       3, 4, 6, 1, 9, 9, 7, 6, 5, 2, 9, 3, 5, 8, 3, 1, 9, 6, 7, 8, 1, 9,\n",
              "       7, 3, 7, 9, 4, 1, 1, 8, 2, 0, 8, 5, 5, 3, 0, 1, 7, 4, 4, 4, 4, 5,\n",
              "       6, 8, 4, 4, 7, 7, 4, 5, 7, 4, 9, 5, 9, 1, 4, 0, 1, 3, 9, 2, 0, 7,\n",
              "       2, 9, 0, 1, 8, 1, 1, 5, 9, 6, 6, 8, 1, 5, 9, 5, 6, 9, 0, 3, 7, 2,\n",
              "       9, 0, 9, 9, 9, 7, 7, 6, 7, 0, 6, 0, 2, 6, 8, 8, 6, 3, 2, 3, 1, 4,\n",
              "       0, 8, 2, 6, 7, 7, 8, 0, 2, 1, 6, 3, 6, 7, 9, 4, 0, 8, 2, 3, 2, 8,\n",
              "       0, 6, 6, 9, 5, 9, 7, 3, 6, 8, 5, 2, 8, 9, 1, 4, 0, 9, 4, 7, 0, 9,\n",
              "       1, 4, 0, 0, 9, 0, 3, 8, 6, 2, 0, 9, 6, 5, 6, 9, 1, 4, 4, 2, 9, 2,\n",
              "       4, 9, 3, 3, 6, 0, 8, 9, 5, 5, 2, 0, 4, 0, 5, 2, 3, 2, 9, 8, 9, 0,\n",
              "       6, 0, 9, 1, 3, 5, 1, 2, 0, 5, 6, 9, 1, 2, 6, 6, 7, 0, 5, 4, 7, 4,\n",
              "       6, 6, 8, 6, 0, 2, 0, 0, 8, 4, 0, 1, 0, 8, 5, 2, 8, 0, 5, 0, 8, 5,\n",
              "       6, 9, 4, 4, 2, 4, 0, 8, 1, 7, 4, 1, 0, 9, 5, 1, 8, 1, 6, 0, 0, 2,\n",
              "       0, 7, 2, 7, 5, 4, 0, 7, 9, 8, 1, 3, 2, 2, 5, 7, 1, 5, 3, 9, 5, 6,\n",
              "       3, 6, 7, 5, 6, 9, 9, 5, 7, 5])"
            ]
          },
          "metadata": {},
          "execution_count": 55
        }
      ]
    },
    {
      "cell_type": "code",
      "metadata": {
        "id": "xza_yV8nMshU"
      },
      "source": [
        "value, count= np.unique(n1000, return_counts=True)"
      ],
      "execution_count": 56,
      "outputs": []
    },
    {
      "cell_type": "code",
      "metadata": {
        "id": "al1pM1aK9Vk7",
        "colab": {
          "base_uri": "https://localhost:8080/"
        },
        "outputId": "11a7f55b-29e7-481d-a61b-c77a0dc0001a"
      },
      "source": [
        "value, count"
      ],
      "execution_count": 57,
      "outputs": [
        {
          "output_type": "execute_result",
          "data": {
            "text/plain": [
              "(array([0, 1, 2, 3, 4, 5, 6, 7, 8, 9]),\n",
              " array([109,  96,  92,  78, 100, 111, 104, 101, 105, 104]))"
            ]
          },
          "metadata": {},
          "execution_count": 57
        }
      ]
    }
  ]
}