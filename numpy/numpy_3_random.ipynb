{
  "nbformat": 4,
  "nbformat_minor": 0,
  "metadata": {
    "colab": {
      "name": "numpy_3_random.ipynb",
      "provenance": [],
      "collapsed_sections": [],
      "include_colab_link": true
    },
    "kernelspec": {
      "name": "python3",
      "display_name": "Python 3"
    }
  },
  "cells": [
    {
      "cell_type": "markdown",
      "metadata": {
        "id": "view-in-github",
        "colab_type": "text"
      },
      "source": [
        "<a href=\"https://colab.research.google.com/github/pdm03/pdm03/blob/main/numpy/numpy_3_random.ipynb\" target=\"_parent\"><img src=\"https://colab.research.google.com/assets/colab-badge.svg\" alt=\"Open In Colab\"/></a>"
      ]
    },
    {
      "cell_type": "markdown",
      "metadata": {
        "id": "_zrirXHfgmyY"
      },
      "source": [
        "# numpy\n",
        "## random 서브모듈\n",
        "> [데이터싸이언스 스쿨:난수발생](https://datascienceschool.net/01%20python/03.05%20%EB%82%9C%EC%88%98%20%EB%B0%9C%EC%83%9D%EA%B3%BC%20%EC%B9%B4%EC%9A%B4%ED%8C%85.html)"
      ]
    },
    {
      "cell_type": "code",
      "metadata": {
        "id": "kQbzzSMZG2PX"
      },
      "source": [
        "import numpy as np"
      ],
      "execution_count": 2,
      "outputs": []
    },
    {
      "cell_type": "markdown",
      "metadata": {
        "id": "1Ry0YHkNFis5"
      },
      "source": [
        "## 난수 생성\n",
        "> NumPy의 random 서브모듈은 난수를 생성하는 다양한 명령을 제공.\n",
        "\n",
        "- rand: 0부터 1사이의 균일 분포 (uniform distribution)\n",
        "- randn: 가우시안 표준 정규 분포 (normal distribution, Gaussian)\n",
        "- randint: 균일 분포의 정수 난수 (uniform int)\n",
        "\n",
        "> randn()은 평균 0, 표준편차 1 인 가우시안 정규분포를 생성."
      ]
    },
    {
      "cell_type": "markdown",
      "metadata": {
        "id": "CtO1VxvurziR"
      },
      "source": [
        "### rand: 0부터 1사이의 균일 분포 (uniform distribution)"
      ]
    },
    {
      "cell_type": "code",
      "metadata": {
        "id": "LA1oF6aEG7kJ",
        "colab": {
          "base_uri": "https://localhost:8080/"
        },
        "outputId": "f296373b-afd2-44fb-879a-42d47b75b1be"
      },
      "source": [
        "np.random.rand(5)"
      ],
      "execution_count": 3,
      "outputs": [
        {
          "output_type": "execute_result",
          "data": {
            "text/plain": [
              "array([0.56670449, 0.2480426 , 0.14611964, 0.36331327, 0.85722641])"
            ]
          },
          "metadata": {},
          "execution_count": 3
        }
      ]
    },
    {
      "cell_type": "code",
      "metadata": {
        "id": "H6f4ix3NHCyR",
        "colab": {
          "base_uri": "https://localhost:8080/"
        },
        "outputId": "8431ee1d-74df-41f1-ebb5-64530b632f30"
      },
      "source": [
        "np.random.rand(5)"
      ],
      "execution_count": 4,
      "outputs": [
        {
          "output_type": "execute_result",
          "data": {
            "text/plain": [
              "array([0.78137326, 0.4313553 , 0.13915025, 0.04009439, 0.6990043 ])"
            ]
          },
          "metadata": {},
          "execution_count": 4
        }
      ]
    },
    {
      "cell_type": "markdown",
      "metadata": {
        "id": "c88F6gf8r4K2"
      },
      "source": [
        "### randn: 가우시안 표준 정규 분포 (normal distribution, Gaussian)"
      ]
    },
    {
      "cell_type": "code",
      "metadata": {
        "id": "rtVfCL-uP2Tw",
        "colab": {
          "base_uri": "https://localhost:8080/"
        },
        "outputId": "c37a7c84-d309-4496-c5e5-2e0c32f9463e"
      },
      "source": [
        "np.random.randn(5)"
      ],
      "execution_count": 5,
      "outputs": [
        {
          "output_type": "execute_result",
          "data": {
            "text/plain": [
              "array([ 0.06889678, -1.57132726,  1.53979016,  0.23190692,  0.01488384])"
            ]
          },
          "metadata": {},
          "execution_count": 5
        }
      ]
    },
    {
      "cell_type": "code",
      "metadata": {
        "colab": {
          "base_uri": "https://localhost:8080/"
        },
        "id": "D67oSXOa1mQA",
        "outputId": "7c05a108-9c0b-4f90-c791-f5807adc9c3f"
      },
      "source": [
        "np.random.randn(5)"
      ],
      "execution_count": 6,
      "outputs": [
        {
          "output_type": "execute_result",
          "data": {
            "text/plain": [
              "array([ 0.47850059,  1.01103855, -1.0932549 , -0.91801105, -0.5481964 ])"
            ]
          },
          "metadata": {},
          "execution_count": 6
        }
      ]
    },
    {
      "cell_type": "markdown",
      "metadata": {
        "id": "wsvTzTFSsBSJ"
      },
      "source": [
        "### randint: 균일 분포의 정수 난수 (uniform int)\n",
        "- numpy.random.randint(low, high=None, size=None, dtype='l')"
      ]
    },
    {
      "cell_type": "code",
      "metadata": {
        "id": "WSvAH8uVs2Vb",
        "colab": {
          "base_uri": "https://localhost:8080/"
        },
        "outputId": "7bd8d3e8-ff05-445d-af6b-159fc7969ba2"
      },
      "source": [
        "np.random.randint(5)"
      ],
      "execution_count": 7,
      "outputs": [
        {
          "output_type": "execute_result",
          "data": {
            "text/plain": [
              "0"
            ]
          },
          "metadata": {},
          "execution_count": 7
        }
      ]
    },
    {
      "cell_type": "code",
      "metadata": {
        "colab": {
          "base_uri": "https://localhost:8080/"
        },
        "id": "RLbcg3Fn2F7O",
        "outputId": "55c3da95-8fc6-4912-e629-7e14ea67d542"
      },
      "source": [
        "# die number\n",
        "np.random.randint(1,7)"
      ],
      "execution_count": 8,
      "outputs": [
        {
          "output_type": "execute_result",
          "data": {
            "text/plain": [
              "1"
            ]
          },
          "metadata": {},
          "execution_count": 8
        }
      ]
    },
    {
      "cell_type": "code",
      "metadata": {
        "id": "McWHW15uQDPr",
        "colab": {
          "base_uri": "https://localhost:8080/"
        },
        "outputId": "db00bc4d-3ce2-4259-fbde-a8ef6c138245"
      },
      "source": [
        "np.random.randint(5,9) "
      ],
      "execution_count": 9,
      "outputs": [
        {
          "output_type": "execute_result",
          "data": {
            "text/plain": [
              "8"
            ]
          },
          "metadata": {},
          "execution_count": 9
        }
      ]
    },
    {
      "cell_type": "code",
      "metadata": {
        "id": "oBsWu9FmQQSC",
        "colab": {
          "base_uri": "https://localhost:8080/"
        },
        "outputId": "dfa32589-df52-4e25-d22b-912c310bca1e"
      },
      "source": [
        "np.random.randint(0,10,5)"
      ],
      "execution_count": 10,
      "outputs": [
        {
          "output_type": "execute_result",
          "data": {
            "text/plain": [
              "array([4, 8, 0, 5, 5])"
            ]
          },
          "metadata": {},
          "execution_count": 10
        }
      ]
    },
    {
      "cell_type": "code",
      "metadata": {
        "id": "0kNuJxjaQYEu",
        "colab": {
          "base_uri": "https://localhost:8080/"
        },
        "outputId": "4bdc6987-1a84-4f0a-ddc7-d3a8c68414ef"
      },
      "source": [
        "np.random.randint(0,10,5)"
      ],
      "execution_count": 11,
      "outputs": [
        {
          "output_type": "execute_result",
          "data": {
            "text/plain": [
              "array([6, 4, 8, 3, 8])"
            ]
          },
          "metadata": {},
          "execution_count": 11
        }
      ]
    },
    {
      "cell_type": "markdown",
      "metadata": {
        "id": "K58DiNYUmANL"
      },
      "source": [
        "---"
      ]
    },
    {
      "cell_type": "markdown",
      "metadata": {
        "id": "xU5NWjQ3F_ld"
      },
      "source": [
        "## 난수 생성 seed 설정\n",
        "- numpy.random.seed(seed=None)\n",
        "- np.random.seed(number)"
      ]
    },
    {
      "cell_type": "code",
      "metadata": {
        "id": "AxUeYmQSQawG"
      },
      "source": [
        "np.random.seed()"
      ],
      "execution_count": 12,
      "outputs": []
    },
    {
      "cell_type": "code",
      "metadata": {
        "id": "C33YjKqvRJ33",
        "colab": {
          "base_uri": "https://localhost:8080/"
        },
        "outputId": "41be46f1-8882-4b84-8965-b7fe8bb8836e"
      },
      "source": [
        "np.random.rand(5)"
      ],
      "execution_count": 13,
      "outputs": [
        {
          "output_type": "execute_result",
          "data": {
            "text/plain": [
              "array([0.18226706, 0.88843346, 0.52202251, 0.66283858, 0.67049134])"
            ]
          },
          "metadata": {},
          "execution_count": 13
        }
      ]
    },
    {
      "cell_type": "code",
      "metadata": {
        "id": "Ne8rIyN9RO81",
        "colab": {
          "base_uri": "https://localhost:8080/"
        },
        "outputId": "f247a245-61e1-4503-d223-81c5168d64d7"
      },
      "source": [
        "np.random.rand(5)"
      ],
      "execution_count": 14,
      "outputs": [
        {
          "output_type": "execute_result",
          "data": {
            "text/plain": [
              "array([0.0449893 , 0.67078265, 0.39152233, 0.55883998, 0.83068829])"
            ]
          },
          "metadata": {},
          "execution_count": 14
        }
      ]
    },
    {
      "cell_type": "markdown",
      "metadata": {
        "id": "wnQ4gFoltu81"
      },
      "source": [
        "### 동일한 무작위수 생성\n",
        "- seed를 고정하고 무작위수 생성"
      ]
    },
    {
      "cell_type": "code",
      "metadata": {
        "id": "LGPOJGfgRSWx"
      },
      "source": [
        "np.random.seed(1234)"
      ],
      "execution_count": 15,
      "outputs": []
    },
    {
      "cell_type": "code",
      "metadata": {
        "id": "t2PNRUpfRXZk",
        "colab": {
          "base_uri": "https://localhost:8080/"
        },
        "outputId": "41828d1d-50a4-4dcb-9044-cd5a2486da8b"
      },
      "source": [
        "np.random.rand(5)"
      ],
      "execution_count": 16,
      "outputs": [
        {
          "output_type": "execute_result",
          "data": {
            "text/plain": [
              "array([0.19151945, 0.62210877, 0.43772774, 0.78535858, 0.77997581])"
            ]
          },
          "metadata": {},
          "execution_count": 16
        }
      ]
    },
    {
      "cell_type": "code",
      "metadata": {
        "id": "x8yKednV8CZy",
        "colab": {
          "base_uri": "https://localhost:8080/"
        },
        "outputId": "125f5075-0c7a-4f81-a676-c35e3202f0b5"
      },
      "source": [
        "np.random.rand(5)"
      ],
      "execution_count": 17,
      "outputs": [
        {
          "output_type": "execute_result",
          "data": {
            "text/plain": [
              "array([0.27259261, 0.27646426, 0.80187218, 0.95813935, 0.87593263])"
            ]
          },
          "metadata": {},
          "execution_count": 17
        }
      ]
    },
    {
      "cell_type": "code",
      "metadata": {
        "id": "bo2A_ntYRcKw"
      },
      "source": [
        "np.random.seed(1234)"
      ],
      "execution_count": 18,
      "outputs": []
    },
    {
      "cell_type": "code",
      "metadata": {
        "id": "U5qXdwYQRYeT",
        "colab": {
          "base_uri": "https://localhost:8080/"
        },
        "outputId": "ef2b1ac2-5c2b-4e62-f42f-e10970298020"
      },
      "source": [
        "np.random.rand(5)"
      ],
      "execution_count": 19,
      "outputs": [
        {
          "output_type": "execute_result",
          "data": {
            "text/plain": [
              "array([0.19151945, 0.62210877, 0.43772774, 0.78535858, 0.77997581])"
            ]
          },
          "metadata": {},
          "execution_count": 19
        }
      ]
    },
    {
      "cell_type": "markdown",
      "metadata": {
        "id": "pwMXGAwmRhpW"
      },
      "source": [
        "### seed 고정 후에 randint(5)"
      ]
    },
    {
      "cell_type": "code",
      "metadata": {
        "id": "tqmTOMMVRhGW",
        "colab": {
          "base_uri": "https://localhost:8080/"
        },
        "outputId": "7700f9fb-6f21-428f-805e-34c341d6db0b"
      },
      "source": [
        "np.random.seed(5678)\n",
        "np.random.randint(1,10,5)"
      ],
      "execution_count": 20,
      "outputs": [
        {
          "output_type": "execute_result",
          "data": {
            "text/plain": [
              "array([5, 8, 3, 5, 4])"
            ]
          },
          "metadata": {},
          "execution_count": 20
        }
      ]
    },
    {
      "cell_type": "code",
      "metadata": {
        "id": "YxQYjcOLSA-Z",
        "colab": {
          "base_uri": "https://localhost:8080/"
        },
        "outputId": "fde1c437-c453-4d85-8682-b5df85e73874"
      },
      "source": [
        "np.random.randint(1,10,5)"
      ],
      "execution_count": 21,
      "outputs": [
        {
          "output_type": "execute_result",
          "data": {
            "text/plain": [
              "array([6, 3, 7, 4, 1])"
            ]
          },
          "metadata": {},
          "execution_count": 21
        }
      ]
    },
    {
      "cell_type": "code",
      "metadata": {
        "id": "aQYF5QpGSD6p",
        "colab": {
          "base_uri": "https://localhost:8080/"
        },
        "outputId": "57ac265c-70d3-4942-ff76-ee0d6c16ef3e"
      },
      "source": [
        "np.random.seed(5678)\n",
        "np.random.randint(1,10,5)"
      ],
      "execution_count": 22,
      "outputs": [
        {
          "output_type": "execute_result",
          "data": {
            "text/plain": [
              "array([5, 8, 3, 5, 4])"
            ]
          },
          "metadata": {},
          "execution_count": 22
        }
      ]
    },
    {
      "cell_type": "code",
      "metadata": {
        "id": "cfIhMEcVSGKa",
        "colab": {
          "base_uri": "https://localhost:8080/"
        },
        "outputId": "db5741ca-d6c3-4b19-bcf3-5133ce1f479c"
      },
      "source": [
        "np.random.seed(5678)\n",
        "np.random.randint(1,10,5)"
      ],
      "execution_count": 23,
      "outputs": [
        {
          "output_type": "execute_result",
          "data": {
            "text/plain": [
              "array([5, 8, 3, 5, 4])"
            ]
          },
          "metadata": {},
          "execution_count": 23
        }
      ]
    },
    {
      "cell_type": "code",
      "metadata": {
        "id": "Ik9a-QkcfLwy",
        "colab": {
          "base_uri": "https://localhost:8080/"
        },
        "outputId": "f94a1e2c-595d-4600-d740-0d365b056b3c"
      },
      "source": [
        "# seed 변경\n",
        "np.random.seed(0)\n",
        "np.random.randint(1,10,5)"
      ],
      "execution_count": 24,
      "outputs": [
        {
          "output_type": "execute_result",
          "data": {
            "text/plain": [
              "array([6, 1, 4, 4, 8])"
            ]
          },
          "metadata": {},
          "execution_count": 24
        }
      ]
    },
    {
      "cell_type": "markdown",
      "metadata": {
        "id": "Zg3g31drmDMI"
      },
      "source": [
        "---\n",
        "---"
      ]
    },
    {
      "cell_type": "markdown",
      "metadata": {
        "id": "YNVh_pbhfROq"
      },
      "source": [
        "## DIY: 도전 코딩 - numpy 정리 과제\n",
        "- 생성된 마구잡이수를 조사하고 사용하기 \n",
        "- 9월19일 자정 마감."
      ]
    },
    {
      "cell_type": "markdown",
      "metadata": {
        "id": "vxNHFDSIgMmC"
      },
      "source": [
        "### [도전 1.] 0부터 9까지의 마구잡이 정수를 1000개 만들고 각 수의 빈도를 구하시오. "
      ]
    },
    {
      "cell_type": "code",
      "metadata": {
        "id": "qkDfXH1xgjBz",
        "colab": {
          "base_uri": "https://localhost:8080/"
        },
        "outputId": "98ac5c4a-e12a-4cb5-ddd0-2fdd56d3c82f"
      },
      "source": [
        "# n1000=\n",
        "n1000 = np.random.randint(0,10,1000)\n",
        "n1000"
      ],
      "execution_count": 73,
      "outputs": [
        {
          "output_type": "execute_result",
          "data": {
            "text/plain": [
              "array([2, 2, 1, 7, 5, 0, 2, 6, 3, 4, 8, 2, 8, 9, 4, 4, 2, 3, 0, 7, 9, 3,\n",
              "       9, 9, 0, 2, 1, 8, 9, 2, 4, 6, 6, 8, 3, 9, 6, 7, 9, 2, 6, 5, 0, 9,\n",
              "       4, 9, 7, 8, 5, 6, 7, 1, 0, 9, 9, 4, 0, 5, 9, 5, 4, 6, 7, 9, 9, 3,\n",
              "       4, 7, 8, 4, 7, 2, 1, 0, 8, 9, 7, 1, 0, 3, 0, 1, 5, 0, 7, 6, 3, 6,\n",
              "       2, 8, 1, 7, 2, 2, 6, 8, 3, 4, 3, 8, 0, 6, 1, 5, 4, 1, 0, 7, 2, 1,\n",
              "       3, 9, 5, 2, 3, 4, 8, 7, 0, 9, 5, 7, 5, 0, 0, 4, 7, 4, 3, 1, 6, 0,\n",
              "       9, 2, 5, 5, 5, 3, 7, 1, 4, 8, 5, 2, 9, 6, 5, 1, 0, 3, 5, 8, 2, 1,\n",
              "       6, 7, 8, 7, 9, 2, 0, 4, 5, 2, 0, 6, 4, 5, 9, 8, 4, 9, 5, 0, 4, 5,\n",
              "       3, 2, 9, 3, 7, 5, 4, 5, 1, 3, 7, 8, 4, 8, 9, 3, 6, 0, 1, 6, 5, 2,\n",
              "       4, 4, 6, 3, 8, 2, 2, 2, 0, 4, 4, 4, 2, 8, 5, 9, 8, 8, 9, 1, 8, 0,\n",
              "       1, 6, 9, 1, 7, 9, 4, 7, 5, 5, 8, 9, 3, 5, 3, 6, 4, 5, 6, 5, 4, 0,\n",
              "       7, 9, 9, 8, 1, 1, 8, 1, 8, 2, 2, 6, 8, 2, 6, 9, 2, 2, 7, 2, 2, 8,\n",
              "       6, 0, 2, 4, 1, 8, 0, 7, 3, 3, 6, 5, 9, 6, 5, 7, 0, 2, 6, 6, 9, 3,\n",
              "       4, 4, 2, 2, 7, 3, 3, 4, 1, 8, 6, 0, 9, 5, 1, 8, 6, 8, 9, 7, 9, 7,\n",
              "       4, 8, 6, 2, 6, 3, 7, 5, 5, 4, 8, 4, 0, 8, 2, 7, 6, 3, 9, 1, 0, 1,\n",
              "       6, 5, 4, 3, 1, 2, 2, 3, 2, 3, 0, 0, 0, 6, 9, 1, 4, 4, 2, 9, 5, 4,\n",
              "       8, 9, 8, 9, 8, 7, 8, 1, 7, 1, 5, 7, 6, 8, 2, 9, 7, 8, 2, 6, 0, 6,\n",
              "       9, 7, 2, 0, 5, 8, 1, 7, 6, 0, 6, 9, 5, 5, 5, 2, 6, 0, 7, 2, 0, 2,\n",
              "       4, 0, 1, 3, 0, 3, 5, 5, 3, 9, 1, 5, 2, 4, 3, 1, 0, 3, 8, 0, 4, 9,\n",
              "       8, 8, 5, 8, 1, 3, 4, 8, 9, 6, 7, 8, 1, 6, 0, 5, 3, 7, 6, 4, 3, 7,\n",
              "       5, 9, 4, 6, 2, 2, 8, 3, 3, 8, 2, 2, 2, 9, 5, 4, 7, 7, 7, 2, 4, 0,\n",
              "       9, 8, 2, 2, 6, 0, 9, 1, 1, 5, 6, 4, 2, 9, 1, 6, 4, 3, 3, 8, 0, 2,\n",
              "       8, 9, 9, 4, 9, 6, 0, 2, 2, 4, 9, 0, 5, 1, 9, 2, 9, 6, 1, 9, 5, 2,\n",
              "       9, 9, 0, 9, 4, 7, 6, 0, 5, 4, 6, 6, 8, 2, 9, 4, 4, 1, 0, 9, 4, 2,\n",
              "       2, 5, 9, 1, 4, 1, 6, 7, 1, 8, 1, 2, 6, 5, 3, 3, 7, 0, 2, 9, 1, 4,\n",
              "       0, 9, 1, 4, 0, 9, 8, 4, 4, 7, 3, 9, 6, 2, 9, 6, 9, 7, 7, 0, 7, 1,\n",
              "       1, 5, 7, 9, 4, 5, 6, 0, 7, 1, 1, 6, 7, 6, 1, 5, 4, 0, 7, 9, 6, 3,\n",
              "       9, 4, 8, 7, 5, 4, 1, 5, 4, 1, 6, 6, 9, 9, 7, 4, 5, 5, 5, 5, 9, 5,\n",
              "       9, 1, 3, 1, 4, 0, 2, 9, 9, 0, 7, 3, 5, 7, 6, 1, 5, 2, 3, 9, 2, 4,\n",
              "       1, 4, 9, 1, 5, 0, 0, 0, 0, 8, 7, 5, 9, 5, 6, 4, 1, 0, 3, 4, 4, 8,\n",
              "       7, 7, 0, 6, 1, 6, 7, 5, 8, 5, 3, 5, 6, 0, 6, 9, 8, 3, 2, 4, 8, 7,\n",
              "       7, 5, 3, 1, 3, 4, 9, 7, 3, 8, 8, 3, 4, 2, 0, 2, 4, 6, 8, 6, 1, 4,\n",
              "       0, 6, 2, 9, 6, 7, 8, 9, 2, 9, 9, 5, 0, 2, 7, 6, 4, 8, 0, 1, 9, 9,\n",
              "       2, 9, 6, 8, 4, 6, 2, 3, 1, 7, 5, 1, 8, 4, 9, 6, 6, 7, 7, 0, 9, 0,\n",
              "       7, 0, 4, 1, 6, 9, 6, 9, 9, 7, 1, 6, 3, 0, 1, 6, 3, 9, 8, 4, 8, 7,\n",
              "       5, 2, 7, 6, 6, 6, 1, 4, 4, 2, 6, 3, 0, 2, 1, 7, 0, 9, 6, 5, 4, 0,\n",
              "       3, 6, 9, 2, 5, 1, 4, 5, 0, 0, 7, 6, 8, 7, 4, 8, 4, 8, 9, 4, 2, 3,\n",
              "       8, 3, 9, 6, 2, 5, 5, 7, 3, 0, 7, 4, 8, 2, 7, 9, 5, 3, 2, 2, 3, 5,\n",
              "       4, 2, 4, 5, 7, 8, 5, 3, 4, 8, 2, 5, 9, 8, 8, 5, 8, 4, 8, 2, 0, 6,\n",
              "       6, 0, 3, 0, 8, 9, 4, 9, 8, 8, 1, 5, 1, 7, 7, 7, 7, 3, 5, 3, 9, 1,\n",
              "       8, 8, 1, 9, 2, 3, 1, 3, 6, 1, 1, 2, 9, 8, 9, 9, 5, 2, 3, 9, 7, 9,\n",
              "       2, 6, 2, 8, 7, 2, 2, 5, 5, 8, 8, 6, 9, 2, 8, 7, 3, 0, 9, 8, 4, 9,\n",
              "       3, 9, 9, 6, 3, 5, 1, 6, 7, 7, 6, 2, 1, 7, 3, 6, 1, 8, 8, 0, 5, 4,\n",
              "       5, 8, 3, 3, 8, 7, 5, 2, 4, 5, 6, 5, 8, 8, 9, 3, 3, 8, 3, 4, 1, 4,\n",
              "       3, 7, 1, 9, 7, 2, 4, 6, 6, 1, 0, 9, 6, 9, 5, 4, 8, 0, 7, 7, 1, 7,\n",
              "       0, 8, 3, 8, 3, 0, 1, 6, 5, 6])"
            ]
          },
          "metadata": {},
          "execution_count": 73
        }
      ]
    },
    {
      "cell_type": "code",
      "metadata": {
        "id": "9_6nzbQD3FZi",
        "colab": {
          "base_uri": "https://localhost:8080/"
        },
        "outputId": "59e79611-8277-4a14-b3e2-b5fc6dc6622a"
      },
      "source": [
        "np.unique(n1000)"
      ],
      "execution_count": 74,
      "outputs": [
        {
          "output_type": "execute_result",
          "data": {
            "text/plain": [
              "array([0, 1, 2, 3, 4, 5, 6, 7, 8, 9])"
            ]
          },
          "metadata": {},
          "execution_count": 74
        }
      ]
    },
    {
      "cell_type": "code",
      "metadata": {
        "id": "eiw9R1243Rzp",
        "colab": {
          "base_uri": "https://localhost:8080/"
        },
        "outputId": "5cea928f-6316-4e23-a467-669d51648a4e"
      },
      "source": [
        "# 각 수의 빈도\n",
        "count = np.bincount(n1000)\n",
        "print(\"각 수의 빈도:\" , count)"
      ],
      "execution_count": 75,
      "outputs": [
        {
          "output_type": "stream",
          "name": "stdout",
          "text": [
            "각 수의 빈도: [ 89  89 103  86 104 100 105  98 103 123]\n"
          ]
        }
      ]
    },
    {
      "cell_type": "markdown",
      "metadata": {
        "id": "cIhlY6-GghMN"
      },
      "source": [
        "### [도전 2.] 0부터 9까지의 마구잡이 정수를 1000개 만들고 각 수가 처음 출현하는 인덱스를 구하시오.\n",
        "> 0이 처음 나타날 때의 인덱스, 1이 처음 나타날 때의 인덱스, ... "
      ]
    },
    {
      "cell_type": "code",
      "metadata": {
        "colab": {
          "base_uri": "https://localhost:8080/"
        },
        "id": "ItCvUgtU49Ni",
        "outputId": "4b240bbe-27e7-44e0-d6e6-6f33d5e33512"
      },
      "source": [
        "n1000[0],n1000[800]"
      ],
      "execution_count": 76,
      "outputs": [
        {
          "output_type": "execute_result",
          "data": {
            "text/plain": [
              "(2, 0)"
            ]
          },
          "metadata": {},
          "execution_count": 76
        }
      ]
    },
    {
      "cell_type": "code",
      "metadata": {
        "id": "oA1ec_RjgL3X",
        "outputId": "34cc3746-d33b-42a2-e536-df4a727ac750",
        "colab": {
          "base_uri": "https://localhost:8080/"
        }
      },
      "source": [
        "# 각 수가 처음 출현하는 인덱스\n",
        "index = np.unique(n1000, return_index=True)\n",
        "print(\"각 수가 처음 출현하는 인덱스: \",index)"
      ],
      "execution_count": 77,
      "outputs": [
        {
          "output_type": "stream",
          "name": "stdout",
          "text": [
            "각 수가 처음 출현하는 인덱스:  (array([0, 1, 2, 3, 4, 5, 6, 7, 8, 9]), array([ 5,  2,  0,  8,  9,  4,  7,  3, 10, 13]))\n"
          ]
        }
      ]
    },
    {
      "cell_type": "code",
      "metadata": {
        "id": "yubibMMZ4AZS"
      },
      "source": [
        "#n1000[index]"
      ],
      "execution_count": 79,
      "outputs": []
    },
    {
      "cell_type": "markdown",
      "metadata": {
        "id": "sadkRzWjgiTM"
      },
      "source": [
        "### [도전 3.] seed를 1234로 고정하고, 위의 도전1,2를 다시 해보시오. "
      ]
    },
    {
      "cell_type": "code",
      "metadata": {
        "id": "1la-K3qI-aip",
        "outputId": "d80ace1e-148d-42fb-bdbc-f8856a67654d",
        "colab": {
          "base_uri": "https://localhost:8080/"
        }
      },
      "source": [
        "np.random.seed(1234)\n",
        "n1000 = np.random.randint(0,10,1000)\n",
        "n1000"
      ],
      "execution_count": 80,
      "outputs": [
        {
          "output_type": "execute_result",
          "data": {
            "text/plain": [
              "array([3, 6, 5, 4, 8, 9, 1, 7, 9, 6, 8, 0, 5, 0, 9, 6, 2, 0, 5, 2, 6, 3,\n",
              "       7, 0, 9, 0, 3, 2, 3, 1, 3, 1, 3, 7, 1, 7, 4, 0, 5, 1, 5, 9, 9, 4,\n",
              "       0, 9, 8, 8, 6, 8, 6, 3, 1, 2, 5, 2, 5, 6, 7, 4, 3, 5, 6, 4, 6, 2,\n",
              "       4, 2, 7, 9, 7, 7, 2, 9, 7, 4, 9, 0, 9, 2, 9, 1, 2, 9, 1, 5, 7, 4,\n",
              "       7, 7, 1, 4, 0, 5, 4, 9, 2, 9, 1, 3, 5, 9, 3, 0, 4, 4, 0, 6, 8, 4,\n",
              "       8, 1, 8, 9, 8, 2, 0, 2, 2, 3, 2, 9, 7, 4, 8, 1, 9, 2, 7, 4, 3, 2,\n",
              "       5, 5, 1, 0, 8, 4, 0, 0, 1, 0, 3, 9, 1, 9, 3, 7, 9, 3, 4, 4, 1, 1,\n",
              "       6, 2, 9, 8, 7, 8, 0, 8, 7, 9, 5, 6, 3, 9, 4, 7, 7, 1, 7, 2, 5, 2,\n",
              "       7, 2, 6, 8, 6, 1, 9, 3, 3, 4, 9, 7, 2, 8, 1, 9, 4, 3, 1, 0, 7, 8,\n",
              "       0, 9, 3, 9, 3, 9, 0, 5, 9, 2, 3, 1, 7, 1, 4, 7, 3, 8, 4, 5, 3, 8,\n",
              "       8, 8, 1, 3, 6, 8, 9, 1, 5, 8, 4, 1, 1, 1, 2, 3, 4, 2, 1, 9, 4, 0,\n",
              "       0, 2, 1, 2, 5, 9, 8, 8, 7, 5, 7, 0, 0, 6, 6, 1, 9, 4, 6, 7, 2, 0,\n",
              "       7, 0, 2, 8, 4, 8, 3, 2, 4, 7, 7, 0, 1, 1, 0, 0, 0, 1, 1, 9, 4, 9,\n",
              "       9, 5, 2, 4, 1, 0, 3, 5, 2, 3, 3, 5, 4, 5, 4, 0, 5, 6, 7, 3, 1, 5,\n",
              "       4, 5, 9, 1, 7, 6, 3, 3, 0, 0, 2, 3, 1, 6, 1, 3, 5, 6, 9, 2, 6, 6,\n",
              "       9, 7, 8, 9, 1, 3, 6, 6, 2, 2, 4, 9, 3, 8, 7, 5, 1, 3, 1, 3, 0, 2,\n",
              "       0, 3, 5, 2, 6, 6, 6, 4, 1, 0, 7, 4, 1, 8, 5, 9, 6, 2, 8, 7, 9, 7,\n",
              "       7, 3, 6, 5, 6, 8, 6, 5, 9, 1, 9, 2, 1, 9, 1, 5, 0, 2, 3, 8, 8, 1,\n",
              "       3, 7, 3, 5, 1, 5, 6, 9, 5, 0, 1, 3, 5, 8, 9, 9, 7, 8, 8, 9, 4, 4,\n",
              "       1, 5, 4, 6, 8, 7, 9, 4, 1, 7, 7, 0, 4, 6, 1, 9, 1, 1, 9, 0, 8, 1,\n",
              "       3, 7, 2, 8, 3, 2, 2, 3, 4, 1, 6, 3, 5, 2, 4, 2, 1, 3, 9, 7, 9, 7,\n",
              "       2, 5, 7, 5, 8, 5, 0, 4, 0, 9, 3, 1, 0, 0, 6, 4, 3, 4, 1, 8, 6, 8,\n",
              "       7, 1, 5, 7, 9, 1, 5, 6, 5, 1, 6, 0, 9, 2, 2, 1, 4, 9, 9, 6, 6, 2,\n",
              "       4, 1, 5, 5, 5, 5, 8, 6, 7, 2, 3, 9, 7, 2, 1, 1, 9, 6, 5, 9, 2, 1,\n",
              "       3, 8, 3, 8, 7, 3, 8, 0, 5, 0, 9, 9, 7, 4, 5, 6, 3, 8, 1, 7, 4, 1,\n",
              "       9, 2, 4, 3, 3, 9, 4, 2, 6, 0, 5, 4, 6, 6, 6, 3, 8, 8, 8, 5, 7, 9,\n",
              "       9, 0, 7, 8, 4, 6, 5, 7, 5, 9, 2, 6, 3, 0, 8, 1, 6, 0, 3, 7, 5, 0,\n",
              "       8, 9, 8, 5, 1, 9, 4, 6, 2, 6, 3, 3, 7, 3, 2, 8, 5, 2, 4, 8, 0, 5,\n",
              "       2, 3, 7, 2, 6, 1, 2, 4, 7, 2, 3, 5, 8, 4, 3, 5, 8, 0, 5, 3, 5, 3,\n",
              "       5, 6, 1, 1, 3, 1, 7, 3, 4, 1, 7, 0, 9, 8, 5, 9, 3, 8, 2, 3, 0, 9,\n",
              "       0, 4, 3, 4, 5, 0, 2, 7, 2, 8, 5, 3, 5, 0, 5, 9, 0, 6, 7, 2, 6, 6,\n",
              "       2, 2, 0, 1, 1, 3, 8, 3, 3, 2, 5, 9, 5, 4, 6, 9, 5, 9, 2, 5, 5, 6,\n",
              "       5, 7, 3, 0, 2, 3, 1, 9, 9, 8, 8, 0, 8, 6, 6, 1, 4, 3, 5, 5, 4, 9,\n",
              "       3, 8, 2, 3, 0, 6, 2, 8, 3, 3, 8, 2, 6, 2, 0, 3, 0, 3, 9, 0, 4, 2,\n",
              "       7, 1, 2, 2, 2, 1, 5, 9, 5, 3, 7, 1, 0, 1, 1, 8, 3, 5, 4, 4, 2, 4,\n",
              "       5, 6, 4, 2, 6, 1, 7, 6, 2, 3, 9, 4, 1, 4, 1, 0, 7, 3, 4, 5, 0, 8,\n",
              "       2, 2, 5, 4, 9, 5, 3, 3, 4, 6, 8, 4, 2, 2, 0, 6, 2, 8, 9, 2, 4, 3,\n",
              "       4, 4, 0, 8, 3, 4, 2, 9, 2, 8, 4, 0, 0, 6, 6, 7, 6, 7, 9, 3, 9, 7,\n",
              "       8, 2, 9, 1, 0, 6, 3, 8, 4, 9, 9, 6, 7, 9, 2, 3, 6, 4, 5, 8, 5, 9,\n",
              "       9, 7, 1, 0, 6, 3, 3, 4, 1, 8, 2, 8, 0, 3, 9, 0, 6, 6, 7, 7, 9, 2,\n",
              "       2, 1, 0, 9, 5, 0, 9, 7, 5, 3, 8, 2, 6, 4, 5, 6, 1, 9, 6, 3, 7, 0,\n",
              "       4, 9, 4, 4, 5, 1, 0, 9, 7, 0, 5, 3, 8, 9, 1, 7, 0, 9, 6, 8, 2, 1,\n",
              "       7, 5, 4, 0, 1, 1, 7, 8, 2, 7, 6, 9, 9, 2, 1, 1, 8, 9, 0, 7, 2, 4,\n",
              "       2, 9, 8, 1, 0, 1, 4, 4, 9, 9, 0, 1, 9, 9, 3, 1, 7, 2, 8, 4, 7, 4,\n",
              "       3, 2, 8, 4, 7, 7, 0, 1, 4, 6, 5, 5, 0, 5, 2, 0, 8, 3, 5, 7, 8, 4,\n",
              "       7, 6, 7, 7, 2, 7, 6, 0, 2, 6])"
            ]
          },
          "metadata": {},
          "execution_count": 80
        }
      ]
    },
    {
      "cell_type": "code",
      "metadata": {
        "id": "CaiORMqH-zrD",
        "outputId": "1729821a-2574-4fdd-ae6e-5c1dc3b083e7",
        "colab": {
          "base_uri": "https://localhost:8080/"
        }
      },
      "source": [
        "np.unique(n1000)"
      ],
      "execution_count": 81,
      "outputs": [
        {
          "output_type": "execute_result",
          "data": {
            "text/plain": [
              "array([0, 1, 2, 3, 4, 5, 6, 7, 8, 9])"
            ]
          },
          "metadata": {},
          "execution_count": 81
        }
      ]
    },
    {
      "cell_type": "code",
      "metadata": {
        "id": "lVhcNvrg-_oB",
        "outputId": "0bc07d9b-8daf-41c1-9017-3d5737268a66",
        "colab": {
          "base_uri": "https://localhost:8080/"
        }
      },
      "source": [
        "# 각 수의 빈도\n",
        "count = np.bincount(n1000)\n",
        "print(\"각 수의 빈도:\" , count)"
      ],
      "execution_count": 82,
      "outputs": [
        {
          "output_type": "stream",
          "name": "stdout",
          "text": [
            "각 수의 빈도: [ 93 107 107 108  97  98  89  95  90 116]\n"
          ]
        }
      ]
    },
    {
      "cell_type": "code",
      "metadata": {
        "id": "eMnqeNSE_gwy",
        "outputId": "f746bb29-12f1-4cc5-d3d6-3a662925b1de",
        "colab": {
          "base_uri": "https://localhost:8080/"
        }
      },
      "source": [
        "# 각 수가 처음 출현하는 인덱스\n",
        "index = np.unique(n1000, return_index=True)\n",
        "print(\"각 수가 처음 출현하는 인덱스: \",index)"
      ],
      "execution_count": 83,
      "outputs": [
        {
          "output_type": "stream",
          "name": "stdout",
          "text": [
            "각 수가 처음 출현하는 인덱스:  (array([0, 1, 2, 3, 4, 5, 6, 7, 8, 9]), array([11,  6, 16,  0,  3,  2,  1,  7,  4,  5]))\n"
          ]
        }
      ]
    },
    {
      "cell_type": "markdown",
      "metadata": {
        "id": "d8bRHKXtERVC"
      },
      "source": [
        "0 -> 11번째 인덱스, 1 -> 6번째 인덱스, 2 -> 16번째 인덱스, 3 -> 0번째 인덱스, 4 -> 3번째 인덱스, 5 -> 2번째 인덱스, 6 -> 1번째 인덱스, 7 -> 7번째 인덱스, 8 -> 4번째 인덱스, 9 -> 5번째 인덱스"
      ]
    },
    {
      "cell_type": "markdown",
      "metadata": {
        "id": "zAGojAainnox"
      },
      "source": [
        "### [도전 4.] 0부터 999까지의 마구잡이 정수로 구성되는 28X28 이차원배열을 만드시오.\n",
        "- 시드를 고정 : np.random.seed(1234)\n",
        "1. 각 행의 최대값, 최소갑을 구하시오.\n",
        "2. 배열 전체의 최대값, 최소값을 구하시오.\n",
        "3. 배열전체의 최대값, 최소값의 index를 각각 찾으시오."
      ]
    },
    {
      "cell_type": "code",
      "metadata": {
        "id": "bQ8X8z8DDGIp",
        "colab": {
          "base_uri": "https://localhost:8080/"
        },
        "outputId": "0532ad91-3f79-41e4-cd2c-c62dee133a23"
      },
      "source": [
        "np.random.seed(1234)\n",
        "n2828 = np.random.randint(0,1000,28*28).reshape(28,28)\n",
        "n2828"
      ],
      "execution_count": 84,
      "outputs": [
        {
          "output_type": "execute_result",
          "data": {
            "text/plain": [
              "array([[815, 723, 294,  53, 204, 372, 664, 655, 689, 279, 233, 154,  30,\n",
              "        683, 158, 748, 892, 794, 374, 442, 120, 880, 476, 325, 336, 969,\n",
              "        383, 246],\n",
              "       [510, 431, 562, 752, 763,  76, 293, 802, 934, 506, 195, 743, 139,\n",
              "        640, 745, 843, 336,   3, 258, 275, 908, 961, 459, 371, 619, 465,\n",
              "         14, 243],\n",
              "       [455, 828, 490, 619, 942, 924,  81, 855, 781, 116, 608, 908, 197,\n",
              "        625, 991, 997, 671, 761, 601,  84,  45, 528,  41, 840, 440, 236,\n",
              "        838, 952],\n",
              "       [ 86, 940, 986, 979, 303, 689,  18, 597, 686, 482, 805, 365, 806,\n",
              "        135, 996, 707, 901, 750, 559, 244, 374, 687, 911, 546,  10, 284,\n",
              "          4,  82],\n",
              "       [103, 345, 311, 235, 334, 663, 434, 761, 574, 183, 340, 617, 256,\n",
              "        633, 354, 761, 346, 417, 882, 377, 497, 789, 967, 196, 119, 999,\n",
              "        465, 250],\n",
              "       [436, 448, 469, 372, 873, 626, 425,   1, 142, 771, 798, 396, 713,\n",
              "        877, 787,  26, 992,  68, 891, 996, 832, 150, 440, 980, 136, 684,\n",
              "        753, 920],\n",
              "       [990, 745, 527, 840, 898, 400, 619, 130, 754, 591, 195,  46, 482,\n",
              "        825, 439, 292, 600, 673, 377, 682, 514, 471, 365, 212, 291, 786,\n",
              "        332, 965],\n",
              "       [117, 593, 208, 520, 493,  75,  15, 788, 784, 448, 573, 881, 864,\n",
              "        638, 211, 313, 561, 318, 953, 211, 667, 343, 233, 931, 164, 596,\n",
              "        317, 540],\n",
              "       [257, 779, 702, 509, 657, 286, 806,  98, 921, 568, 487, 408,  12,\n",
              "        460, 864, 520, 303, 855, 793, 749, 789, 150, 429, 531,  41, 431,\n",
              "        932, 999],\n",
              "       [551, 913, 295, 955, 210, 379, 165,  98,  87, 550, 904, 694, 657,\n",
              "        553, 303, 659, 939, 940, 547, 938, 404, 794, 345, 107, 919, 642,\n",
              "        744, 577],\n",
              "       [729, 283, 974, 580, 987, 316, 874, 259, 209, 687, 957, 447,  32,\n",
              "        887, 909, 312,  48, 617, 314, 350, 931, 953, 316, 595, 505, 368,\n",
              "        757, 649],\n",
              "       [572, 178, 819, 433, 106, 711, 721, 260,   3, 127, 600, 558, 606,\n",
              "        509, 431, 575,  84,   5, 723, 380, 584, 840, 447, 696, 526, 337,\n",
              "        739, 316],\n",
              "       [358, 264,  41, 673, 837, 728, 575, 877, 628, 785, 513,   1, 130,\n",
              "        691, 333, 692, 114, 861, 654, 237, 943, 203, 193, 669, 521, 608,\n",
              "        336, 946],\n",
              "       [785,  31, 508, 863, 381, 970, 494, 907, 418, 565, 857, 472, 920,\n",
              "        478, 991, 439, 565,  23, 383, 186, 224, 784, 758, 774, 465, 462,\n",
              "        953, 132],\n",
              "       [814, 459, 390, 727, 402, 944, 935, 144, 994, 584, 174, 564, 424,\n",
              "        243, 941, 770, 700, 788, 615, 471, 458, 507, 844, 826, 384, 554,\n",
              "        913, 177],\n",
              "       [ 16, 944,  80, 849, 460, 863, 191, 561, 527, 665, 468, 873, 409,\n",
              "        325, 306, 110, 655, 852, 717,  46, 763, 529, 896, 707, 677,  82,\n",
              "        542, 666],\n",
              "       [316, 943, 963, 435, 933, 900, 549, 506, 875, 292, 592, 517, 822,\n",
              "        759, 730, 191, 211, 844, 140, 545,  85, 388, 101, 617, 433, 814,\n",
              "        695, 102],\n",
              "       [611, 787, 943, 364, 252, 810, 304, 763, 364,  90, 432,   2,  35,\n",
              "         46, 161, 508,  38, 737, 707, 430, 826, 933, 454, 162, 374, 198,\n",
              "        809, 922],\n",
              "       [ 10, 855, 280, 457, 524, 700, 257, 861, 179, 758, 134,  18, 946,\n",
              "        429, 548, 634, 857, 627, 814,  43, 973, 744,  55, 917, 542, 462,\n",
              "         97, 698],\n",
              "       [381, 291, 465, 563, 560, 734, 478, 898, 429, 575,   0, 223,  19,\n",
              "        517, 674, 922, 399, 134, 575, 635, 358, 102, 468, 657, 848, 343,\n",
              "        212, 810],\n",
              "       [ 26, 731, 481, 888, 606, 213, 238,  25, 172, 653, 557, 182, 715,\n",
              "        306, 862, 300,  88,  74, 332, 407, 105, 138, 599, 893, 567, 828,\n",
              "        211,  15],\n",
              "       [926, 710, 549, 566, 715,  79, 568,   6, 309, 457, 865, 745, 434,\n",
              "         74, 705, 302, 321, 261, 464, 130, 835, 447, 936, 152, 129, 253,\n",
              "        451, 231],\n",
              "       [  3, 621, 229, 510, 961, 997, 970, 620, 534, 857, 251, 269, 565,\n",
              "        303, 960, 268,  81, 531,  53, 861, 360,  41, 217, 215, 184, 136,\n",
              "        249, 526],\n",
              "       [756, 260, 988, 289,  53, 654, 475, 299, 796,  68, 710, 714, 856,\n",
              "        747, 263, 233, 559,  84, 383, 284, 273, 701, 391, 695, 448, 751,\n",
              "        884,  31],\n",
              "       [886, 698, 561, 251, 745, 476, 539, 353, 798,  43, 961, 729, 816,\n",
              "        792, 737,  15,   3,  26, 583, 338, 872, 943, 893, 847, 451, 562,\n",
              "        236, 370],\n",
              "       [179, 692, 177, 998, 941,  43, 707, 891, 623, 618, 773,  91, 254,\n",
              "        546, 332, 820, 594, 193, 947, 185, 327, 825, 983, 274, 773, 151,\n",
              "        781,  59],\n",
              "       [974, 666, 863, 661, 296, 997, 528, 372, 144, 249, 835, 609, 223,\n",
              "        720, 144, 604, 430, 502, 333, 452, 211, 532, 635, 751, 762, 747,\n",
              "        321, 184],\n",
              "       [ 54, 168, 647, 529,  79, 629, 939, 173, 877, 295, 569,  13, 897,\n",
              "        591, 748, 629, 390, 379, 149, 625, 966, 416, 249, 242, 732, 994,\n",
              "        812, 625]])"
            ]
          },
          "metadata": {},
          "execution_count": 84
        }
      ]
    },
    {
      "cell_type": "code",
      "metadata": {
        "id": "EjiiMxhLAdGn",
        "outputId": "2f35f157-752c-41d0-c41d-cd58e622bbc9",
        "colab": {
          "base_uri": "https://localhost:8080/"
        }
      },
      "source": [
        "#도전4-1최소값\n",
        "np.min(n2828, axis=1)"
      ],
      "execution_count": 85,
      "outputs": [
        {
          "output_type": "execute_result",
          "data": {
            "text/plain": [
              "array([ 30,   3,  41,   4, 103,   1,  46,  15,  12,  87,  32,   3,   1,\n",
              "        23, 144,  16,  85,   2,  10,   0,  15,   6,   3,  31,   3,  43,\n",
              "       144,  13])"
            ]
          },
          "metadata": {},
          "execution_count": 85
        }
      ]
    },
    {
      "cell_type": "code",
      "metadata": {
        "id": "yX4jz_CzBOZI",
        "outputId": "75d1ad67-a37e-4d71-8401-dab2b16d0ece",
        "colab": {
          "base_uri": "https://localhost:8080/"
        }
      },
      "source": [
        "#도전4-1최대값\n",
        "np.max(n2828, axis=1)"
      ],
      "execution_count": 86,
      "outputs": [
        {
          "output_type": "execute_result",
          "data": {
            "text/plain": [
              "array([969, 961, 997, 996, 999, 996, 990, 953, 999, 955, 987, 840, 946,\n",
              "       991, 994, 944, 963, 943, 973, 922, 893, 936, 997, 988, 961, 998,\n",
              "       997, 994])"
            ]
          },
          "metadata": {},
          "execution_count": 86
        }
      ]
    },
    {
      "cell_type": "code",
      "metadata": {
        "id": "ELp-26TrBVUV",
        "outputId": "c6b2df46-89f3-4877-8a65-f26854e37077",
        "colab": {
          "base_uri": "https://localhost:8080/"
        }
      },
      "source": [
        "#도전4-2\n",
        "print(np.min(n2828))\n",
        "print(np.max(n2828))"
      ],
      "execution_count": 87,
      "outputs": [
        {
          "output_type": "stream",
          "name": "stdout",
          "text": [
            "0\n",
            "999\n"
          ]
        }
      ]
    },
    {
      "cell_type": "code",
      "metadata": {
        "id": "XuH8NGyECC_n",
        "outputId": "b63c7c2e-23f0-48f2-eba1-9a0918e1a9a5",
        "colab": {
          "base_uri": "https://localhost:8080/"
        }
      },
      "source": [
        "#도전4-3\n",
        "arg_max = np.argmax(n2828)\n",
        "print(arg_max)\n",
        "arg_min = np.argmin(n2828)\n",
        "print(arg_min)"
      ],
      "execution_count": 88,
      "outputs": [
        {
          "output_type": "stream",
          "name": "stdout",
          "text": [
            "137\n",
            "542\n"
          ]
        }
      ]
    },
    {
      "cell_type": "markdown",
      "metadata": {
        "id": "VoSu8rNOnwPU"
      },
      "source": [
        "---\n",
        "---"
      ]
    },
    {
      "cell_type": "markdown",
      "metadata": {
        "id": "ozoCcRquhg4p"
      },
      "source": [
        "## python graphics\n",
        "- matplotlib\n",
        "> import matplotlib.pyplot as plt"
      ]
    },
    {
      "cell_type": "markdown",
      "metadata": {
        "id": "h6yEJiGJ4Lbk"
      },
      "source": [
        "### 무작위수 분포 그려보기"
      ]
    },
    {
      "cell_type": "code",
      "metadata": {
        "id": "ngcwuNlfhrIQ"
      },
      "source": [
        "import matplotlib.pyplot as plt"
      ],
      "execution_count": 61,
      "outputs": []
    },
    {
      "cell_type": "code",
      "metadata": {
        "id": "jr30IHxvJDuE",
        "colab": {
          "base_uri": "https://localhost:8080/",
          "height": 319
        },
        "outputId": "9cde53df-d84f-4421-89aa-c42d83ec4d8c"
      },
      "source": [
        "plt.hist(n1000,label=range(0,10), color='red') #bins=0)\n",
        "# plt.show()"
      ],
      "execution_count": 62,
      "outputs": [
        {
          "output_type": "execute_result",
          "data": {
            "text/plain": [
              "(array([ 93., 107., 107., 108.,  97.,  98.,  89.,  95.,  90., 116.]),\n",
              " array([0. , 0.9, 1.8, 2.7, 3.6, 4.5, 5.4, 6.3, 7.2, 8.1, 9. ]),\n",
              " <a list of 10 Patch objects>)"
            ]
          },
          "metadata": {},
          "execution_count": 62
        },
        {
          "output_type": "display_data",
          "data": {
            "image/png": "[encoded data removed]",
            "text/plain": [
              "<Figure size 432x288 with 1 Axes>"
            ]
          },
          "metadata": {
            "needs_background": "light"
          }
        }
      ]
    },
    {
      "cell_type": "markdown",
      "metadata": {
        "id": "b-JcgSU-Ktyz"
      },
      "source": [
        "### [도전] 균일분포와 정규분포를 비교하는 그림을 그리시오."
      ]
    },
    {
      "cell_type": "code",
      "metadata": {
        "id": "k0XaT2f9JGZy",
        "colab": {
          "base_uri": "https://localhost:8080/",
          "height": 382
        },
        "outputId": "67aa86ca-8d89-4ce4-fc6e-78fa63698c5e"
      },
      "source": [
        "plt.hist(np.random.rand(10000000))"
      ],
      "execution_count": 63,
      "outputs": [
        {
          "output_type": "execute_result",
          "data": {
            "text/plain": [
              "(array([ 998750., 1000268., 1000372.,  999795., 1001108.,  999531.,\n",
              "        1001402.,  998316.,  999147., 1001311.]),\n",
              " array([1.30942781e-07, 1.00000116e-01, 2.00000100e-01, 3.00000085e-01,\n",
              "        4.00000070e-01, 5.00000054e-01, 6.00000039e-01, 7.00000024e-01,\n",
              "        8.00000009e-01, 8.99999993e-01, 9.99999978e-01]),\n",
              " <a list of 10 Patch objects>)"
            ]
          },
          "metadata": {},
          "execution_count": 63
        },
        {
          "output_type": "display_data",
          "data": {
            "image/png": "[encoded data removed]",
            "text/plain": [
              "<Figure size 432x288 with 1 Axes>"
            ]
          },
          "metadata": {
            "needs_background": "light"
          }
        }
      ]
    },
    {
      "cell_type": "code",
      "metadata": {
        "id": "T8SCqKVeMhBF",
        "colab": {
          "base_uri": "https://localhost:8080/",
          "height": 652
        },
        "outputId": "b0f1f375-c84d-4d1a-8e34-28df60556dd2"
      },
      "source": [
        "plt.hist(np.random.randn(10000000), bins=50)"
      ],
      "execution_count": 64,
      "outputs": [
        {
          "output_type": "execute_result",
          "data": {
            "text/plain": [
              "(array([9.00000e+00, 1.60000e+01, 4.70000e+01, 1.15000e+02, 2.41000e+02,\n",
              "        5.61000e+02, 1.26700e+03, 2.70700e+03, 5.33200e+03, 9.97500e+03,\n",
              "        1.79890e+04, 3.16270e+04, 5.31740e+04, 8.47870e+04, 1.29738e+05,\n",
              "        1.89946e+05, 2.67252e+05, 3.58388e+05, 4.62276e+05, 5.66769e+05,\n",
              "        6.66374e+05, 7.51431e+05, 8.09867e+05, 8.33576e+05, 8.23963e+05,\n",
              "        7.79346e+05, 7.06480e+05, 6.09906e+05, 5.03384e+05, 4.00824e+05,\n",
              "        3.04249e+05, 2.20422e+05, 1.52550e+05, 1.02366e+05, 6.45070e+04,\n",
              "        3.96600e+04, 2.27190e+04, 1.28410e+04, 6.76400e+03, 3.38800e+03,\n",
              "        1.69900e+03, 8.23000e+02, 3.73000e+02, 1.60000e+02, 7.30000e+01,\n",
              "        2.60000e+01, 1.10000e+01, 1.00000e+00, 0.00000e+00, 1.00000e+00]),\n",
              " array([-4.97758451, -4.76761515, -4.5576458 , -4.34767644, -4.13770708,\n",
              "        -3.92773772, -3.71776836, -3.50779901, -3.29782965, -3.08786029,\n",
              "        -2.87789093, -2.66792158, -2.45795222, -2.24798286, -2.0380135 ,\n",
              "        -1.82804414, -1.61807479, -1.40810543, -1.19813607, -0.98816671,\n",
              "        -0.77819736, -0.568228  , -0.35825864, -0.14828928,  0.06168008,\n",
              "         0.27164943,  0.48161879,  0.69158815,  0.90155751,  1.11152686,\n",
              "         1.32149622,  1.53146558,  1.74143494,  1.9514043 ,  2.16137365,\n",
              "         2.37134301,  2.58131237,  2.79128173,  3.00125108,  3.21122044,\n",
              "         3.4211898 ,  3.63115916,  3.84112851,  4.05109787,  4.26106723,\n",
              "         4.47103659,  4.68100595,  4.8909753 ,  5.10094466,  5.31091402,\n",
              "         5.52088338]),\n",
              " <a list of 50 Patch objects>)"
            ]
          },
          "metadata": {},
          "execution_count": 64
        },
        {
          "output_type": "display_data",
          "data": {
            "image/png": "[encoded data removed]",
            "text/plain": [
              "<Figure size 432x288 with 1 Axes>"
            ]
          },
          "metadata": {
            "needs_background": "light"
          }
        }
      ]
    },
    {
      "cell_type": "markdown",
      "metadata": {
        "id": "LYthn3089aqD"
      },
      "source": [
        "## 보충 코드"
      ]
    },
    {
      "cell_type": "code",
      "metadata": {
        "id": "BUkVDXTJMkwc",
        "colab": {
          "base_uri": "https://localhost:8080/"
        },
        "outputId": "4745c901-b50d-4f11-d14c-8121e3751e8d"
      },
      "source": [
        "n1000 = np.random.randint(0,10,1000)\n",
        "n1000"
      ],
      "execution_count": 65,
      "outputs": [
        {
          "output_type": "execute_result",
          "data": {
            "text/plain": [
              "array([4, 5, 5, 0, 4, 8, 1, 4, 3, 0, 2, 8, 0, 6, 2, 9, 3, 1, 7, 0, 3, 4,\n",
              "       2, 5, 9, 3, 8, 8, 7, 5, 1, 5, 6, 8, 2, 0, 2, 3, 6, 0, 4, 9, 8, 7,\n",
              "       2, 1, 7, 3, 6, 6, 0, 3, 8, 8, 9, 1, 6, 9, 9, 3, 3, 1, 1, 0, 4, 5,\n",
              "       2, 0, 7, 8, 1, 7, 1, 7, 7, 9, 6, 8, 3, 4, 6, 9, 5, 3, 2, 8, 6, 1,\n",
              "       9, 9, 0, 1, 3, 7, 9, 1, 6, 8, 8, 4, 1, 3, 9, 5, 7, 7, 7, 9, 0, 2,\n",
              "       5, 6, 3, 8, 9, 9, 7, 7, 8, 1, 0, 9, 9, 1, 5, 8, 3, 0, 3, 8, 8, 0,\n",
              "       4, 4, 1, 7, 2, 4, 7, 3, 9, 5, 4, 0, 9, 9, 0, 2, 2, 1, 7, 4, 2, 0,\n",
              "       3, 6, 7, 4, 2, 2, 2, 2, 4, 9, 6, 7, 6, 7, 3, 2, 3, 8, 8, 8, 3, 6,\n",
              "       0, 4, 8, 4, 3, 8, 8, 9, 4, 7, 1, 1, 2, 6, 5, 1, 0, 9, 4, 1, 3, 1,\n",
              "       3, 6, 0, 9, 3, 4, 6, 1, 4, 3, 8, 1, 0, 7, 6, 6, 8, 2, 3, 0, 0, 5,\n",
              "       1, 9, 6, 6, 9, 9, 3, 3, 4, 4, 7, 5, 9, 8, 9, 6, 0, 9, 8, 0, 9, 0,\n",
              "       8, 8, 6, 2, 9, 9, 5, 8, 4, 2, 7, 1, 1, 5, 5, 7, 1, 6, 9, 4, 0, 6,\n",
              "       7, 3, 7, 0, 2, 3, 6, 6, 1, 1, 7, 8, 9, 2, 5, 2, 6, 8, 3, 5, 9, 8,\n",
              "       9, 2, 4, 7, 8, 7, 5, 6, 3, 9, 1, 0, 1, 0, 5, 0, 0, 3, 8, 8, 8, 4,\n",
              "       0, 9, 1, 6, 6, 8, 1, 4, 0, 5, 3, 6, 6, 9, 0, 2, 9, 8, 5, 8, 6, 8,\n",
              "       5, 3, 8, 7, 1, 5, 7, 6, 6, 9, 5, 1, 0, 0, 0, 9, 4, 2, 3, 9, 2, 6,\n",
              "       7, 0, 0, 2, 2, 8, 3, 2, 5, 2, 2, 0, 1, 4, 2, 3, 6, 1, 7, 0, 2, 2,\n",
              "       7, 0, 4, 6, 7, 9, 1, 9, 1, 5, 9, 1, 2, 0, 5, 0, 6, 5, 5, 0, 9, 5,\n",
              "       6, 3, 2, 9, 7, 4, 3, 1, 4, 1, 1, 5, 0, 5, 5, 5, 2, 9, 4, 9, 8, 8,\n",
              "       3, 3, 0, 5, 6, 8, 8, 6, 7, 7, 5, 8, 4, 1, 7, 5, 3, 0, 3, 2, 4, 9,\n",
              "       1, 7, 1, 6, 2, 3, 3, 2, 8, 6, 6, 0, 2, 7, 0, 8, 2, 6, 3, 0, 0, 5,\n",
              "       1, 7, 2, 0, 8, 5, 9, 1, 9, 4, 5, 9, 8, 3, 5, 6, 3, 9, 6, 2, 3, 9,\n",
              "       7, 0, 5, 5, 5, 2, 1, 3, 0, 9, 5, 7, 4, 1, 4, 8, 0, 9, 7, 8, 9, 5,\n",
              "       3, 0, 2, 3, 4, 2, 4, 7, 2, 0, 9, 7, 0, 7, 1, 8, 5, 0, 3, 9, 5, 3,\n",
              "       3, 9, 2, 4, 0, 6, 1, 4, 8, 8, 0, 0, 0, 4, 9, 2, 5, 9, 7, 1, 6, 0,\n",
              "       7, 7, 5, 6, 0, 2, 0, 3, 6, 2, 6, 0, 1, 5, 9, 1, 5, 1, 5, 5, 7, 7,\n",
              "       4, 7, 2, 5, 7, 4, 2, 3, 9, 6, 8, 8, 3, 0, 4, 5, 0, 0, 4, 7, 6, 5,\n",
              "       5, 9, 4, 4, 0, 6, 7, 1, 1, 0, 7, 1, 0, 6, 5, 4, 6, 3, 2, 0, 4, 9,\n",
              "       1, 9, 5, 4, 4, 7, 5, 4, 1, 0, 6, 9, 6, 1, 9, 3, 6, 0, 9, 4, 4, 1,\n",
              "       4, 8, 1, 5, 1, 8, 8, 5, 7, 1, 9, 7, 3, 6, 4, 5, 3, 4, 7, 4, 9, 2,\n",
              "       8, 5, 8, 7, 0, 1, 4, 9, 6, 7, 7, 8, 1, 8, 5, 1, 4, 0, 5, 5, 5, 0,\n",
              "       2, 4, 2, 6, 5, 3, 6, 7, 9, 5, 0, 1, 8, 6, 4, 3, 5, 9, 1, 7, 2, 3,\n",
              "       0, 8, 0, 8, 1, 2, 0, 0, 1, 6, 9, 3, 1, 2, 2, 7, 0, 8, 6, 2, 6, 7,\n",
              "       5, 1, 7, 8, 3, 1, 9, 4, 8, 9, 1, 5, 9, 5, 9, 8, 5, 9, 0, 5, 8, 1,\n",
              "       5, 6, 4, 6, 9, 3, 2, 7, 0, 7, 1, 7, 6, 7, 2, 2, 3, 6, 4, 8, 0, 1,\n",
              "       6, 3, 8, 9, 5, 1, 6, 0, 4, 3, 6, 0, 7, 1, 4, 4, 2, 4, 8, 1, 1, 7,\n",
              "       5, 1, 1, 3, 4, 0, 5, 9, 1, 1, 0, 5, 8, 6, 1, 7, 7, 7, 9, 7, 3, 3,\n",
              "       8, 0, 0, 6, 0, 1, 7, 6, 5, 1, 4, 4, 7, 7, 6, 7, 4, 1, 0, 7, 4, 4,\n",
              "       0, 4, 7, 1, 8, 0, 7, 9, 3, 3, 6, 4, 2, 6, 3, 1, 5, 0, 1, 4, 0, 5,\n",
              "       7, 1, 7, 1, 5, 4, 8, 4, 1, 8, 7, 6, 5, 6, 6, 4, 8, 6, 7, 1, 9, 7,\n",
              "       1, 3, 7, 9, 6, 4, 9, 5, 5, 7, 9, 4, 3, 5, 4, 0, 0, 2, 4, 0, 9, 6,\n",
              "       2, 4, 7, 1, 7, 3, 2, 1, 2, 4, 6, 2, 8, 4, 8, 6, 1, 8, 9, 8, 1, 5,\n",
              "       5, 1, 9, 2, 5, 7, 7, 6, 3, 2, 9, 0, 4, 6, 8, 1, 7, 9, 2, 2, 0, 0,\n",
              "       8, 2, 6, 2, 4, 2, 9, 8, 4, 2, 6, 4, 8, 3, 1, 9, 6, 7, 2, 7, 2, 7,\n",
              "       4, 5, 8, 5, 8, 5, 7, 7, 7, 1, 9, 1, 9, 2, 4, 4, 0, 1, 0, 8, 8, 0,\n",
              "       6, 4, 4, 3, 3, 4, 6, 8, 8, 6])"
            ]
          },
          "metadata": {},
          "execution_count": 65
        }
      ]
    },
    {
      "cell_type": "code",
      "metadata": {
        "id": "xza_yV8nMshU"
      },
      "source": [
        "value, count= np.unique(n1000, return_counts=True)"
      ],
      "execution_count": 66,
      "outputs": []
    },
    {
      "cell_type": "code",
      "metadata": {
        "id": "al1pM1aK9Vk7",
        "colab": {
          "base_uri": "https://localhost:8080/"
        },
        "outputId": "49b12584-0bb0-4a67-a888-21879754c122"
      },
      "source": [
        "value, count"
      ],
      "execution_count": 67,
      "outputs": [
        {
          "output_type": "execute_result",
          "data": {
            "text/plain": [
              "(array([0, 1, 2, 3, 4, 5, 6, 7, 8, 9]),\n",
              " array([111, 111,  87,  86, 101,  98, 100, 106,  98, 102]))"
            ]
          },
          "metadata": {},
          "execution_count": 67
        }
      ]
    }
  ]
}